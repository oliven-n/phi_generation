{
 "cells": [
  {
   "cell_type": "markdown",
   "id": "cdecde43",
   "metadata": {},
   "source": [
    "# A Tutorial for the phi_generation Library: Data-Driven Prompting and RAG\n"
   ]
  },
  {
   "cell_type": "markdown",
   "id": "ced79105",
   "metadata": {},
   "source": [
    "## Introduction"
   ]
  },
  {
   "cell_type": "markdown",
   "id": "b6da1600",
   "metadata": {
    "vscode": {
     "languageId": "plaintext"
    }
   },
   "source": [
    "\n",
    "This tutorial demonstrates the key features of the `phi_generation` library, focusing on data ingestion from CSV, preparing data for a Retrieval-Augmented Generation (RAG) pipeline, and querying the RAG database with CSV context.\n",
    "\n",
    "The library is designed to address the challenge of language models inserting unwanted context in responses, especially in sensitive domains like medical notes. By grounding the model in specific data and controlling the prompt, this tool aims to provide more focused and relevant answers.\n",
    "\n"
   ]
  },
  {
   "cell_type": "markdown",
   "id": "bb6b131b",
   "metadata": {},
   "source": [
    "**Note:** This tutorial assumes you have the `phi_generation` library installed.\n",
    "\n",
    "After making changes to the code, you need to rebuild and reinstall the package.\n",
    "Run the following commands in your `phi_generation` project root:"
   ]
  },
  {
   "cell_type": "code",
   "execution_count": null,
   "id": "1ccfba71",
   "metadata": {
    "vscode": {
     "languageId": "shellscript"
    }
   },
   "outputs": [
    {
     "name": "stdout",
     "output_type": "stream",
     "text": [
      "^C\n",
      "Processing c:\\users\\noliv\\phi_generation_repo_destination\\phi_generation\\dist\\phi_generation-0.1.0.tar.gz\n"
     ]
    },
    {
     "name": "stderr",
     "output_type": "stream",
     "text": [
      "WARNING: Requirement 'dist/phi_generation-0.1.0.tar.gz' looks like a filename, but the file does not exist\n",
      "ERROR: Could not install packages due to an OSError: [Errno 2] No such file or directory: 'C:\\\\Users\\\\noliv\\\\phi_generation_repo_destination\\\\phi_generation\\\\dist\\\\phi_generation-0.1.0.tar.gz'\n",
      "\n",
      "\n",
      "[notice] A new release of pip is available: 24.3.1 -> 25.0.1\n",
      "[notice] To update, run: python.exe -m pip install --upgrade pip\n"
     ]
    },
    {
     "name": "stdout",
     "output_type": "stream",
     "text": [
      "* Creating isolated environment: venv+pip...\n",
      "* Installing packages in isolated environment:\n",
      "  - setuptools >= 40.8.0\n",
      "* Getting build dependencies for sdist...\n",
      "running egg_info\n",
      "writing code_files.egg-info\\PKG-INFO\n",
      "writing dependency_links to code_files.egg-info\\dependency_links.txt\n",
      "writing requirements to code_files.egg-info\\requires.txt\n",
      "writing top-level names to code_files.egg-info\\top_level.txt\n",
      "reading manifest file 'code_files.egg-info\\SOURCES.txt'\n",
      "writing manifest file 'code_files.egg-info\\SOURCES.txt'\n",
      "* Building sdist...\n",
      "running sdist\n",
      "running egg_info\n",
      "writing code_files.egg-info\\PKG-INFO\n",
      "writing dependency_links to code_files.egg-info\\dependency_links.txt\n",
      "writing requirements to code_files.egg-info\\requires.txt\n",
      "writing top-level names to code_files.egg-info\\top_level.txt\n",
      "reading manifest file 'code_files.egg-info\\SOURCES.txt'\n",
      "writing manifest file 'code_files.egg-info\\SOURCES.txt'\n",
      "running check\n",
      "creating code_files-0.1.0\n",
      "creating code_files-0.1.0\\code_files\n",
      "creating code_files-0.1.0\\code_files.egg-info\n",
      "creating code_files-0.1.0\\code_files\\telephone_module\n",
      "creating code_files-0.1.0\\code_files\\unst_to_st_module\n",
      "creating code_files-0.1.0\\tests\n",
      "copying files to code_files-0.1.0...\n",
      "copying README.md -> code_files-0.1.0\n",
      "copying setup.py -> code_files-0.1.0\n",
      "copying code_files\\__init__.py -> code_files-0.1.0\\code_files\n",
      "copying code_files\\utils.py -> code_files-0.1.0\\code_files\n",
      "copying code_files.egg-info\\PKG-INFO -> code_files-0.1.0\\code_files.egg-info\n",
      "copying code_files.egg-info\\SOURCES.txt -> code_files-0.1.0\\code_files.egg-info\n",
      "copying code_files.egg-info\\dependency_links.txt -> code_files-0.1.0\\code_files.egg-info\n",
      "copying code_files.egg-info\\requires.txt -> code_files-0.1.0\\code_files.egg-info\n",
      "copying code_files.egg-info\\top_level.txt -> code_files-0.1.0\\code_files.egg-info\n",
      "copying code_files\\telephone_module\\__init__.py -> code_files-0.1.0\\code_files\\telephone_module\n",
      "copying code_files\\telephone_module\\telephone.py -> code_files-0.1.0\\code_files\\telephone_module\n",
      "copying code_files\\unst_to_st_module\\__init__.py -> code_files-0.1.0\\code_files\\unst_to_st_module\n",
      "copying code_files\\unst_to_st_module\\unst_to_st.py -> code_files-0.1.0\\code_files\\unst_to_st_module\n",
      "copying tests\\test_create_database.py -> code_files-0.1.0\\tests\n",
      "copying tests\\test_st_to_unst.py -> code_files-0.1.0\\tests\n",
      "copying tests\\test_utils.py -> code_files-0.1.0\\tests\n",
      "copying code_files.egg-info\\SOURCES.txt -> code_files-0.1.0\\code_files.egg-info\n",
      "Writing code_files-0.1.0\\setup.cfg\n",
      "Creating tar archive\n",
      "removing 'code_files-0.1.0' (and everything under it)\n",
      "* Building wheel from sdist\n",
      "* Creating isolated environment: venv+pip...\n",
      "* Installing packages in isolated environment:\n",
      "  - setuptools >= 40.8.0\n",
      "* Getting build dependencies for wheel...\n",
      "running egg_info\n",
      "writing code_files.egg-info\\PKG-INFO\n",
      "writing dependency_links to code_files.egg-info\\dependency_links.txt\n",
      "writing requirements to code_files.egg-info\\requires.txt\n",
      "writing top-level names to code_files.egg-info\\top_level.txt\n",
      "reading manifest file 'code_files.egg-info\\SOURCES.txt'\n",
      "writing manifest file 'code_files.egg-info\\SOURCES.txt'\n",
      "* Building wheel...\n",
      "running bdist_wheel\n",
      "running build\n",
      "running build_py\n",
      "creating build\\lib\\code_files\n",
      "copying code_files\\utils.py -> build\\lib\\code_files\n",
      "copying code_files\\__init__.py -> build\\lib\\code_files\n",
      "creating build\\lib\\code_files\\telephone_module\n",
      "copying code_files\\telephone_module\\telephone.py -> build\\lib\\code_files\\telephone_module\n",
      "copying code_files\\telephone_module\\__init__.py -> build\\lib\\code_files\\telephone_module\n",
      "creating build\\lib\\code_files\\unst_to_st_module\n",
      "copying code_files\\unst_to_st_module\\unst_to_st.py -> build\\lib\\code_files\\unst_to_st_module\n",
      "copying code_files\\unst_to_st_module\\__init__.py -> build\\lib\\code_files\\unst_to_st_module\n",
      "installing to build\\bdist.win-amd64\\wheel\n",
      "running install\n",
      "running install_lib\n",
      "creating build\\bdist.win-amd64\\wheel\n",
      "creating build\\bdist.win-amd64\\wheel\\code_files\n",
      "creating build\\bdist.win-amd64\\wheel\\code_files\\telephone_module\n",
      "copying build\\lib\\code_files\\telephone_module\\telephone.py -> build\\bdist.win-amd64\\wheel\\.\\code_files\\telephone_module\n",
      "copying build\\lib\\code_files\\telephone_module\\__init__.py -> build\\bdist.win-amd64\\wheel\\.\\code_files\\telephone_module\n",
      "creating build\\bdist.win-amd64\\wheel\\code_files\\unst_to_st_module\n",
      "copying build\\lib\\code_files\\unst_to_st_module\\unst_to_st.py -> build\\bdist.win-amd64\\wheel\\.\\code_files\\unst_to_st_module\n",
      "copying build\\lib\\code_files\\unst_to_st_module\\__init__.py -> build\\bdist.win-amd64\\wheel\\.\\code_files\\unst_to_st_module\n",
      "copying build\\lib\\code_files\\utils.py -> build\\bdist.win-amd64\\wheel\\.\\code_files\n",
      "copying build\\lib\\code_files\\__init__.py -> build\\bdist.win-amd64\\wheel\\.\\code_files\n",
      "running install_egg_info\n",
      "running egg_info\n",
      "writing code_files.egg-info\\PKG-INFO\n",
      "writing dependency_links to code_files.egg-info\\dependency_links.txt\n",
      "writing requirements to code_files.egg-info\\requires.txt\n",
      "writing top-level names to code_files.egg-info\\top_level.txt\n",
      "reading manifest file 'code_files.egg-info\\SOURCES.txt'\n",
      "writing manifest file 'code_files.egg-info\\SOURCES.txt'\n",
      "Copying code_files.egg-info to build\\bdist.win-amd64\\wheel\\.\\code_files-0.1.0-py3.13.egg-info\n",
      "running install_scripts\n",
      "creating build\\bdist.win-amd64\\wheel\\code_files-0.1.0.dist-info\\WHEEL\n",
      "creating 'c:\\Users\\noliv\\phi_generation_repo_destination\\phi_generation\\dist\\.tmp-cx90ee6i\\code_files-0.1.0-py3-none-any.whl' and adding 'build\\bdist.win-amd64\\wheel' to it\n",
      "adding 'code_files/__init__.py'\n",
      "adding 'code_files/utils.py'\n",
      "adding 'code_files/telephone_module/__init__.py'\n",
      "adding 'code_files/telephone_module/telephone.py'\n",
      "adding 'code_files/unst_to_st_module/__init__.py'\n",
      "adding 'code_files/unst_to_st_module/unst_to_st.py'\n",
      "adding 'code_files-0.1.0.dist-info/METADATA'\n",
      "adding 'code_files-0.1.0.dist-info/WHEEL'\n",
      "adding 'code_files-0.1.0.dist-info/top_level.txt'\n",
      "adding 'code_files-0.1.0.dist-info/RECORD'\n",
      "removing build\\bdist.win-amd64\\wheel\n",
      "Successfully built code_files-0.1.0.tar.gz and code_files-0.1.0-py3-none-any.whl\n"
     ]
    }
   ],
   "source": [
    "# !python -m build\n",
    "# !pip install dist/phi_generation-0.1.0.tar.gz --upgrade"
   ]
  },
  {
   "cell_type": "markdown",
   "id": "3ba4d9b2",
   "metadata": {},
   "source": [
    "Then, restart the Jupyter kernel to ensure the updated package is used."
   ]
  },
  {
   "cell_type": "markdown",
   "id": "80555209",
   "metadata": {},
   "source": [
    "## 1. Preparing Data from CSV for RAG"
   ]
  },
  {
   "cell_type": "markdown",
   "id": "e8d056a3",
   "metadata": {
    "vscode": {
     "languageId": "shellscript"
    }
   },
   "source": [
    "This section demonstrates how to convert structured data \n",
    "in a CSV file into a format suitable for the RAG database. We'll use the `utils` module to convert the CSV to a Markdown table and then save it as a `.md` file in the data directory."
   ]
  },
  {
   "cell_type": "markdown",
   "id": "9395411e",
   "metadata": {},
   "source": [
    "### Converting CSV to Markdown Table"
   ]
  },
  {
   "cell_type": "code",
   "execution_count": 1,
   "id": "3d625408",
   "metadata": {},
   "outputs": [
    {
     "name": "stdout",
     "output_type": "stream",
     "text": [
      "Successfully converted CSV to Markdown table.\n",
      "\n",
      "--- Markdown Table Preview ---\n",
      "| Patient Name   |   Patient Age |   Alzheimers |   Anxiety |   Arthritis |   Behavior |   Bipolar |   Cannabis |   Cardio |   Chronic Disease |   Depression |   Diabetes |   Dieting |   Disabilities |   Drug-Induced Delirium |   Exercise |   Gastrointestinal |   Getting Worse or Not Better |   Hospital Admission |   Hospital Readmission |   Hypertension |   Kidney Disease |   Long-Term Care |   Memory Care |   Mental Health Questionnaire |   Obesity/Metabolic |   Osteoarthritis |   Pain |   Pre...\n",
      "--- End Preview ---\n",
      "Markdown table written to c:\\Users\\noliv\\phi_generation_repo_destination\\phi_generation\\code_files\\..\\data\\from_csv_data.md\n",
      "Error: File not found at code_files/data/from_csv_data.md\n"
     ]
    }
   ],
   "source": [
    "import os\n",
    "from code_files import utils as ut\n",
    "\n",
    "# Define the path to your CSV file (for example: user will cahange)\n",
    "\n",
    "csv_file_path = r\"C:\\Users\\noliv\\Downloads\\structured_data_filled.csv\"\n",
    "\n",
    "# Convert the CSV to a Markdown table\n",
    "markdown_table = ut.csv_to_markdown_table(csv_file_path)\n",
    "\n",
    "if isinstance(markdown_table, str) and markdown_table.startswith(\"Error\"):\n",
    "    print(markdown_table)\n",
    "else:\n",
    "    print(\"Successfully converted CSV to Markdown table.\")\n",
    "    print(\"\\n--- Markdown Table Preview ---\")\n",
    "    print(markdown_table[:500] + \"...\\n--- End Preview ---\") # Preview a part of the table\n",
    "\n",
    "    # Save the Markdown table to the data directory\n",
    "    save_message = ut.markdown_table_to_data_dir(markdown_table, filename=\"from_csv_data.md\")\n",
    "    print(save_message)\n",
    "\n",
    "    # Copy the generated Markdown file to the RAG data directory\n",
    "    # Assuming your notebook is in the project root\n",
    "    local_md_path = \"code_files/data/from_csv_data.md\"\n",
    "    ut.copy_markdown_to_rag_data(local_md_path)\n"
   ]
  },
  {
   "cell_type": "markdown",
   "id": "44243bf4",
   "metadata": {},
   "source": [
    "## 2. Creating the RAG Database"
   ]
  },
  {
   "cell_type": "markdown",
   "id": "eba3b305",
   "metadata": {},
   "source": [
    "Now that we have our data (potentially supplemented by other `.md` files in the `code_files/rag_module/data` directory), we'll create the Chroma vector database using the `create_database` module. This process loads the documents, splits them into chunks, generates embeddings, and saves them to the `chroma` directory."
   ]
  },
  {
   "cell_type": "code",
   "execution_count": null,
   "id": "9c85e31b",
   "metadata": {},
   "outputs": [
    {
     "name": "stderr",
     "output_type": "stream",
     "text": [
      "libmagic is unavailable but assists in filetype detection. Please consider installing libmagic for better results.\n",
      "libmagic is unavailable but assists in filetype detection. Please consider installing libmagic for better results.\n",
      "libmagic is unavailable but assists in filetype detection. Please consider installing libmagic for better results.\n"
     ]
    },
    {
     "name": "stdout",
     "output_type": "stream",
     "text": [
      "--- Generating Data Store ---\n",
      "Loaded 3 documents.\n",
      "Split documents into 97 chunks.\n",
      "Error saving to Chroma: [WinError 32] The process cannot access the file because it is being used by another process: 'chroma\\\\daee5f4c-9b22-493e-b188-e19f8df24101\\\\data_level0.bin'\n",
      "--- Data Store Generation Complete ---\n",
      "\n",
      "RAG database generation complete.\n"
     ]
    }
   ],
   "source": [
    "from code_files.rag_module import create_database as crd\n",
    "\n",
    "# Run the database generation process\n",
    "crd.generate_data_store()\n",
    "print(\"\\nRAG database generation complete.\")"
   ]
  },
  {
   "cell_type": "markdown",
   "id": "ac779557",
   "metadata": {},
   "source": [
    "## 3. Querying the RAG Database with Optional CSV Context"
   ]
  },
  {
   "cell_type": "markdown",
   "id": "4cd738c7",
   "metadata": {},
   "source": [
    "This section demonstrates how to query the RAG database using the `query_data` module. Notably, this version of the query tool allows you to optionally provide a CSV file path, whose content will be included in the prompt to the language model along with the retrieved context."
   ]
  },
  {
   "cell_type": "markdown",
   "id": "e45c8aea",
   "metadata": {},
   "source": [
    "### Option A: Querying witout a CSV file"
   ]
  },
  {
   "cell_type": "code",
   "execution_count": 1,
   "id": "f0c4569c",
   "metadata": {},
   "outputs": [
    {
     "name": "stdout",
     "output_type": "stream",
     "text": [
      "\n",
      "--- Querying without CSV Context ---\n"
     ]
    },
    {
     "ename": "AttributeError",
     "evalue": "module 'code_files.rag_module.query_data' has no attribute 'query_rag_with_csv'",
     "output_type": "error",
     "traceback": [
      "\u001b[31m---------------------------------------------------------------------------\u001b[39m",
      "\u001b[31mAttributeError\u001b[39m                            Traceback (most recent call last)",
      "\u001b[36mCell\u001b[39m\u001b[36m \u001b[39m\u001b[32mIn[1]\u001b[39m\u001b[32m, line 8\u001b[39m\n\u001b[32m      6\u001b[39m \u001b[38;5;66;03m# Option 1: Query without providing a CSV file\u001b[39;00m\n\u001b[32m      7\u001b[39m \u001b[38;5;28mprint\u001b[39m(\u001b[33m\"\u001b[39m\u001b[38;5;130;01m\\n\u001b[39;00m\u001b[33m--- Querying without CSV Context ---\u001b[39m\u001b[33m\"\u001b[39m)\n\u001b[32m----> \u001b[39m\u001b[32m8\u001b[39m response_no_csv = \u001b[43mqd\u001b[49m\u001b[43m.\u001b[49m\u001b[43mquery_rag_with_csv\u001b[49m(query)\n\u001b[32m      9\u001b[39m \u001b[38;5;28mprint\u001b[39m(response_no_csv)\n",
      "\u001b[31mAttributeError\u001b[39m: module 'code_files.rag_module.query_data' has no attribute 'query_rag_with_csv'"
     ]
    }
   ],
   "source": [
    "from code_files.rag_module import query_data as qd\n",
    "\n",
    "# Define the query text\n",
    "query = \"Answer the question based on the information provided.\"\n",
    "\n",
    "# Option 1: Query without providing a CSV file\n",
    "print(\"\\n--- Querying without CSV Context ---\")\n",
    "response_no_csv = qd.query_rag_with_csv(query)\n",
    "print(response_no_csv)"
   ]
  },
  {
   "cell_type": "code",
   "execution_count": null,
   "id": "e137ed0f",
   "metadata": {},
   "outputs": [],
   "source": [
    "import subprocess\n",
    "\n",
    "# Define the query text\n",
    "query = \"Answer the question based on the information provided.\"\n",
    "\n",
    "# Option 1: Query without providing a CSV file\n",
    "print(\"\\n--- Querying without CSV Context ---\")\n",
    "try:\n",
    "    result = subprocess.run(\n",
    "        [\"python\", \"code_files/rag_module/query_data.py\", query],\n",
    "        capture_output=True,\n",
    "        text=True,\n",
    "        check=True\n",
    "    )\n",
    "    print(result.stdout)\n",
    "    if result.stderr:\n",
    "        print(f\"Error during query: {result.stderr}\")\n",
    "except subprocess.CalledProcessError as e:\n",
    "    print(f\"Error running query_data.py: {e}\")\n",
    "except FileNotFoundError:\n",
    "    print(\"Error: query_data.py not found. Ensure the path is correct.\")\n"
   ]
  },
  {
   "cell_type": "markdown",
   "id": "7ffd73d0",
   "metadata": {},
   "source": [
    "### Option B: Query with a CSV file that provides additonal context to the prompt"
   ]
  },
  {
   "cell_type": "code",
   "execution_count": null,
   "id": "107c3b4f",
   "metadata": {},
   "outputs": [],
   "source": [
    "print(\"\\n--- Querying with CSV Context ---\")\n",
    "csv_file_for_query = \"path/to/your/supplemental_data.csv\" # Replace with a relevant CSV path\n",
    "\n",
    "try:\n",
    "    result = subprocess.run(\n",
    "        [\"python\", \"code_files/rag_module/query_data.py\", query, \"--csv_file\", csv_file_for_query],\n",
    "        capture_output=True,\n",
    "        text=True,\n",
    "        check=True\n",
    "    )\n",
    "    print(result.stdout)\n",
    "    if result.stderr:\n",
    "        print(f\"Error during query with CSV: {result.stderr}\")\n",
    "except subprocess.CalledProcessError as e:\n",
    "    print(f\"Error running query_data.py with CSV: {e}\")\n",
    "except FileNotFoundError:\n",
    "    print(\"Error: query_data.py or the specified CSV file not found. Ensure the paths are correct.\")\n"
   ]
  },
  {
   "cell_type": "markdown",
   "id": "6bbe8301",
   "metadata": {},
   "source": [
    "## 4. Comparing Embeddings (Optional)"
   ]
  },
  {
   "cell_type": "markdown",
   "id": "988e95e0",
   "metadata": {},
   "source": [
    "The `compare_embeddings` module allows you to query the database directly and see the retrieved documents along with their relevance scores. This can be useful for understanding how well the embeddings are working."
   ]
  },
  {
   "cell_type": "code",
   "execution_count": null,
   "id": "b2dfefd7",
   "metadata": {},
   "outputs": [],
   "source": [
    "print(\"\\n--- Comparing Embeddings ---\")\n",
    "query_for_comparison = \"What are some key details?\"\n",
    "\n",
    "try:\n",
    "    result = subprocess.run(\n",
    "        [\"python\", \"code_files/rag_module/compare_embeddings.py\", query_for_comparison],\n",
    "        capture_output=True,\n",
    "        text=True,\n",
    "        check=True\n",
    "    )\n",
    "    print(result.stdout)\n",
    "    if result.stderr:\n",
    "        print(f\"Error during embedding comparison: {result.stderr}\")\n",
    "except subprocess.CalledProcessError as e:\n",
    "    print(f\"Error running compare_embeddings.py: {e}\")\n",
    "except FileNotFoundError:\n",
    "    print(\"Error: compare_embeddings.py not found. Ensure the path is correct.\")"
   ]
  },
  {
   "cell_type": "markdown",
   "id": "fb1682e2",
   "metadata": {},
   "source": [
    "## Conclusion"
   ]
  },
  {
   "cell_type": "markdown",
   "id": "f2d2f6c0",
   "metadata": {},
   "source": [
    "This tutorial demonstrated how to use the `phi_generation` library to ingest data from CSV files, build a RAG database, and query it with the option to include CSV data directly in the prompt. This approach allows for more controlled and context-aware interactions with language models. Remember to replace the placeholder file paths with your actual file locations."
   ]
  }
 ],
 "metadata": {
  "kernelspec": {
   "display_name": "venv_ftw_1",
   "language": "python",
   "name": "python3"
  },
  "language_info": {
   "codemirror_mode": {
    "name": "ipython",
    "version": 3
   },
   "file_extension": ".py",
   "mimetype": "text/x-python",
   "name": "python",
   "nbconvert_exporter": "python",
   "pygments_lexer": "ipython3",
   "version": "3.13.2"
  }
 },
 "nbformat": 4,
 "nbformat_minor": 5
}
