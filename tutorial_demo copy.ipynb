{
 "cells": [
  {
   "cell_type": "markdown",
   "id": "cdecde43",
   "metadata": {},
   "source": [
    "# A Tutorial for the phi_generation Library: Data-Driven Prompting and RAG\n"
   ]
  },
  {
   "cell_type": "markdown",
   "id": "ced79105",
   "metadata": {},
   "source": [
    "## Introduction"
   ]
  },
  {
   "cell_type": "markdown",
   "id": "b6da1600",
   "metadata": {
    "vscode": {
     "languageId": "plaintext"
    }
   },
   "source": [
    "\n",
    "This tutorial demonstrates the key features of the `phi_generation` library, focusing on data ingestion from CSV, preparing data for a Retrieval-Augmented Generation (RAG) pipeline, and querying the RAG database with CSV context.\n",
    "\n",
    "The library is designed to address the challenge of language models inserting unwanted context in responses, especially in sensitive domains like medical notes. By grounding the model in specific data and controlling the prompt, this tool aims to provide more focused and relevant answers.\n",
    "\n"
   ]
  },
  {
   "cell_type": "markdown",
   "id": "bb6b131b",
   "metadata": {},
   "source": [
    "**Note:** This tutorial assumes you have the `phi_generation` library installed.\n",
    "\n",
    "After making changes to the code, you need to rebuild and reinstall the package.\n",
    "Run the following commands in your `phi_generation` project root:"
   ]
  },
  {
   "cell_type": "code",
   "execution_count": 8,
   "id": "1ccfba71",
   "metadata": {
    "vscode": {
     "languageId": "shellscript"
    }
   },
   "outputs": [],
   "source": [
    "# !python -m build\n",
    "# !pip install dist/phi_generation-0.1.0.tar.gz --upgrade"
   ]
  },
  {
   "cell_type": "markdown",
   "id": "3ba4d9b2",
   "metadata": {},
   "source": [
    "Then, restart the Jupyter kernel to ensure the updated package is used."
   ]
  },
  {
   "cell_type": "markdown",
   "id": "80555209",
   "metadata": {},
   "source": [
    "## 1. Preparing Data from CSV for RAG"
   ]
  },
  {
   "cell_type": "markdown",
   "id": "e8d056a3",
   "metadata": {
    "vscode": {
     "languageId": "shellscript"
    }
   },
   "source": [
    "This section demonstrates how to convert structured data \n",
    "in a CSV file into a format suitable for the RAG database. We'll use the `utils` module to convert the CSV to a Markdown table and then save it as a `.md` file in the data directory."
   ]
  },
  {
   "cell_type": "markdown",
   "id": "9395411e",
   "metadata": {},
   "source": [
    "### Converting CSV to Markdown Table"
   ]
  },
  {
   "cell_type": "code",
   "execution_count": 9,
   "id": "3d625408",
   "metadata": {},
   "outputs": [
    {
     "name": "stdout",
     "output_type": "stream",
     "text": [
      "Successfully converted CSV to Markdown table.\n",
      "\n",
      "--- Markdown Table Preview ---\n",
      "| Patient Name   |   Patient Age |   Alzheimers |   Anxiety |   Arthritis |   Behavior |   Bipolar |   Cannabis |   Cardio |   Chronic Disease |   Depression |   Diabetes |   Dieting |   Disabilities |   Drug-Induced Delirium |   Exercise |   Gastrointestinal |   Getting Worse or Not Better |   Hospital Admission |   Hospital Readmission |   Hypertension |   Kidney Disease |   Long-Term Care |   Memory Care |   Mental Health Questionnaire |   Obesity/Metabolic |   Osteoarthritis |   Pain |   Pre...\n",
      "--- End Preview ---\n",
      "Markdown table written to c:\\Users\\noliv\\phi_generation_repo_destination\\phi_generation\\code_files\\..\\data\\from_csv_data.md\n",
      "Error: File not found at code_files/data/from_csv_data.md\n"
     ]
    }
   ],
   "source": [
    "import os\n",
    "from code_files import utils as ut\n",
    "\n",
    "# Define the path to your CSV file (for example: user will cahange)\n",
    "\n",
    "csv_file_path = r\"C:\\Users\\noliv\\Downloads\\structured_data_filled.csv\"\n",
    "\n",
    "# Convert the CSV to a Markdown table\n",
    "markdown_table = ut.csv_to_markdown_table(csv_file_path)\n",
    "\n",
    "if isinstance(markdown_table, str) and markdown_table.startswith(\"Error\"):\n",
    "    print(markdown_table)\n",
    "else:\n",
    "    print(\"Successfully converted CSV to Markdown table.\")\n",
    "    print(\"\\n--- Markdown Table Preview ---\")\n",
    "    print(markdown_table[:500] + \"...\\n--- End Preview ---\") # Preview a part of the table\n",
    "\n",
    "    # Save the Markdown table to the data directory\n",
    "    save_message = ut.markdown_table_to_data_dir(markdown_table, filename=\"from_csv_data.md\")\n",
    "    print(save_message)\n",
    "\n",
    "    # Copy the generated Markdown file to the RAG data directory\n",
    "    # Assuming your notebook is in the project root\n",
    "    local_md_path = \"code_files/data/from_csv_data.md\"\n",
    "    ut.copy_markdown_to_rag_data(local_md_path)\n"
   ]
  },
  {
   "cell_type": "markdown",
   "id": "44243bf4",
   "metadata": {},
   "source": [
    "## 2. Creating the RAG Database"
   ]
  },
  {
   "cell_type": "markdown",
   "id": "eba3b305",
   "metadata": {},
   "source": [
    "Now that we have our data (potentially supplemented by other `.md` files in the `code_files/rag_module/data` directory), we'll create the Chroma vector database using the `create_database` module. This process loads the documents, splits them into chunks, generates embeddings, and saves them to the `chroma` directory."
   ]
  },
  {
   "cell_type": "code",
   "execution_count": 10,
   "id": "9c85e31b",
   "metadata": {},
   "outputs": [
    {
     "name": "stderr",
     "output_type": "stream",
     "text": [
      "libmagic is unavailable but assists in filetype detection. Please consider installing libmagic for better results.\n",
      "libmagic is unavailable but assists in filetype detection. Please consider installing libmagic for better results.\n",
      "libmagic is unavailable but assists in filetype detection. Please consider installing libmagic for better results.\n"
     ]
    },
    {
     "name": "stdout",
     "output_type": "stream",
     "text": [
      "--- Generating Data Store ---\n",
      "Loaded 3 documents.\n",
      "Split documents into 97 chunks.\n",
      "Error saving to Chroma: [WinError 32] The process cannot access the file because it is being used by another process: 'chroma\\\\daee5f4c-9b22-493e-b188-e19f8df24101\\\\data_level0.bin'\n",
      "--- Data Store Generation Complete ---\n",
      "\n",
      "RAG database generation complete.\n"
     ]
    }
   ],
   "source": [
    "from code_files.rag_module import create_database as crd\n",
    "\n",
    "# Run the database generation process\n",
    "crd.generate_data_store()\n",
    "print(\"\\nRAG database generation complete.\")"
   ]
  },
  {
   "cell_type": "markdown",
   "id": "ac779557",
   "metadata": {},
   "source": [
    "## 3. Querying the RAG Database with Optional CSV Context"
   ]
  },
  {
   "cell_type": "markdown",
   "id": "4cd738c7",
   "metadata": {},
   "source": [
    "This section demonstrates how to query the RAG database using the `query_data` module. Notably, this version of the query tool allows you to optionally provide a CSV file path, whose content will be included in the prompt to the language model along with the retrieved context."
   ]
  },
  {
   "cell_type": "markdown",
   "id": "e45c8aea",
   "metadata": {},
   "source": [
    "### Option A: Querying witout a CSV file"
   ]
  },
  {
   "cell_type": "markdown",
   "id": "230dee6e",
   "metadata": {},
   "source": [
    "Example with an unhelpful query"
   ]
  },
  {
   "cell_type": "code",
   "execution_count": 11,
   "id": "f0c4569c",
   "metadata": {},
   "outputs": [
    {
     "name": "stdout",
     "output_type": "stream",
     "text": [
      "\n",
      "--- Querying without CSV Context ---\n",
      "Response: I'm sorry, there is no question provided in the context given. Can you please provide more information or specify the question you would like me to answer?\n",
      "Sources: ['C:\\\\Users\\\\noliv\\\\phi_generation_repo_destination\\\\phi_generation\\\\code_files\\\\rag_module\\\\data\\\\connor_soap_therapy.md', 'C:\\\\Users\\\\noliv\\\\phi_generation_repo_destination\\\\phi_generation\\\\code_files\\\\rag_module\\\\data\\\\connor_soap_therapy.md', 'C:\\\\Users\\\\noliv\\\\phi_generation_repo_destination\\\\phi_generation\\\\code_files\\\\rag_module\\\\data\\\\connor_soap_therapy.md']\n"
     ]
    }
   ],
   "source": [
    "from code_files.rag_module import query_data as qd\n",
    "\n",
    "# Define the query text\n",
    "query = \"Answer the question based on the information provided.\"\n",
    "\n",
    "# Option 1: Query without providing a CSV file\n",
    "print(\"\\n--- Querying without CSV Context ---\")\n",
    "response_no_csv = qd.query_rag_with_csv(query)\n",
    "print(response_no_csv)"
   ]
  },
  {
   "cell_type": "markdown",
   "id": "cbff3287",
   "metadata": {},
   "source": [
    "Example with a more helpful query"
   ]
  },
  {
   "cell_type": "markdown",
   "id": "7ffd73d0",
   "metadata": {},
   "source": [
    "### Option B: Query with a CSV file that provides additonal context to the prompt"
   ]
  },
  {
   "cell_type": "code",
   "execution_count": 13,
   "id": "107c3b4f",
   "metadata": {},
   "outputs": [
    {
     "name": "stdout",
     "output_type": "stream",
     "text": [
      "\n",
      "--- Querying with CSV Context ---\n",
      "Error running query_data.py with CSV: Command '['python', 'code_files/rag_module/query_data.py', 'Answer the question based on the information provided.', '--csv_file', 'path/to/your/supplemental_data.csv']' returned non-zero exit status 1.\n"
     ]
    }
   ],
   "source": [
    "print(\"\\n--- Querying with CSV Context ---\")\n",
    "csv_file_for_query = \"path/to/your/supplemental_data.csv\" # Replace with a relevant CSV path\n",
    "\n",
    "try:\n",
    "    result = subprocess.run(\n",
    "        [\"python\", \"code_files/rag_module/query_data.py\", query, \"--csv_file\", csv_file_for_query],\n",
    "        capture_output=True,\n",
    "        text=True,\n",
    "        check=True\n",
    "    )\n",
    "    print(result.stdout)\n",
    "    if result.stderr:\n",
    "        print(f\"Error during query with CSV: {result.stderr}\")\n",
    "except subprocess.CalledProcessError as e:\n",
    "    print(f\"Error running query_data.py with CSV: {e}\")\n",
    "except FileNotFoundError:\n",
    "    print(\"Error: query_data.py or the specified CSV file not found. Ensure the paths are correct.\")\n"
   ]
  },
  {
   "cell_type": "markdown",
   "id": "6bbe8301",
   "metadata": {},
   "source": [
    "## 4. Comparing Embeddings (Optional)"
   ]
  },
  {
   "cell_type": "markdown",
   "id": "988e95e0",
   "metadata": {},
   "source": [
    "The `compare_embeddings` module allows you to query the database directly and see the retrieved documents along with their relevance scores. This can be useful for understanding how well the embeddings are working."
   ]
  },
  {
   "cell_type": "code",
   "execution_count": 14,
   "id": "b2dfefd7",
   "metadata": {},
   "outputs": [
    {
     "name": "stdout",
     "output_type": "stream",
     "text": [
      "\n",
      "--- Comparing Embeddings ---\n",
      "Error running compare_embeddings.py: Command '['python', 'code_files/rag_module/compare_embeddings.py', 'What are some key details?']' returned non-zero exit status 1.\n"
     ]
    }
   ],
   "source": [
    "print(\"\\n--- Comparing Embeddings ---\")\n",
    "query_for_comparison = \"What are some key details?\"\n",
    "\n",
    "try:\n",
    "    result = subprocess.run(\n",
    "        [\"python\", \"code_files/rag_module/compare_embeddings.py\", query_for_comparison],\n",
    "        capture_output=True,\n",
    "        text=True,\n",
    "        check=True\n",
    "    )\n",
    "    print(result.stdout)\n",
    "    if result.stderr:\n",
    "        print(f\"Error during embedding comparison: {result.stderr}\")\n",
    "except subprocess.CalledProcessError as e:\n",
    "    print(f\"Error running compare_embeddings.py: {e}\")\n",
    "except FileNotFoundError:\n",
    "    print(\"Error: compare_embeddings.py not found. Ensure the path is correct.\")"
   ]
  },
  {
   "cell_type": "markdown",
   "id": "fb1682e2",
   "metadata": {},
   "source": [
    "## Conclusion"
   ]
  },
  {
   "cell_type": "markdown",
   "id": "f2d2f6c0",
   "metadata": {},
   "source": [
    "This tutorial demonstrated how to use the `phi_generation` library to ingest data from CSV files, build a RAG database, and query it with the option to include CSV data directly in the prompt. This approach allows for more controlled and context-aware interactions with language models. Remember to replace the placeholder file paths with your actual file locations."
   ]
  }
 ],
 "metadata": {
  "kernelspec": {
   "display_name": "venv_ftw_1",
   "language": "python",
   "name": "python3"
  },
  "language_info": {
   "codemirror_mode": {
    "name": "ipython",
    "version": 3
   },
   "file_extension": ".py",
   "mimetype": "text/x-python",
   "name": "python",
   "nbconvert_exporter": "python",
   "pygments_lexer": "ipython3",
   "version": "3.13.2"
  }
 },
 "nbformat": 4,
 "nbformat_minor": 5
}
