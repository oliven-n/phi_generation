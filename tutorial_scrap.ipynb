{
 "cells": [
  {
   "cell_type": "markdown",
   "id": "646e977c",
   "metadata": {},
   "source": [
    "# Tutorial"
   ]
  },
  {
   "cell_type": "markdown",
   "id": "359e3bb6",
   "metadata": {},
   "source": [
    "## RAG tool"
   ]
  },
  {
   "cell_type": "markdown",
   "id": "e8992b95",
   "metadata": {},
   "source": [
    "The first step of this pipeline involves answering a prompt based on data. Specifically, this package is designed to take in structured data (in the form of a csv), as well as style supplements.  In querying a non-RAG like ChatGPT, the model often inserts unwanted context (e.g., history of a medication or disease, or its other uses not related to the patient's needs) that does not reflect the tone of true doctor's notes. This tool is designed to mitigate those effects, or to assess the future need for fine-tuning an LLM on patient data."
   ]
  },
  {
   "cell_type": "markdown",
   "id": "0d5ba4a5",
   "metadata": {},
   "source": [
    "To add your style supplements to the database, which is drawn from 'code_files > rag_module > data', they will need to be structured as .md documents. You can use the built-in function to add "
   ]
  },
  {
   "cell_type": "code",
   "execution_count": null,
   "id": "71ff0151",
   "metadata": {},
   "outputs": [
    {
     "name": "stdout",
     "output_type": "stream",
     "text": [
      "Import failed: No module named 'phi_generation'\n"
     ]
    }
   ],
   "source": [
    "# import os\n",
    "# import sys\n",
    "\n",
    "# # Get the absolute path to the project root directory\n",
    "# project_root = os.path.abspath(os.path.join(os.path.dirname(os.path.abspath(os.getcwd())), \"..\"))\n",
    "\n",
    "# # Add the project root to sys.path if it's not already there\n",
    "# if project_root not in sys.path:\n",
    "#     sys.path.append(project_root)\n",
    "\n",
    "# # Now you should be able to import your function\n",
    "# try:\n",
    "#     from phi_generation.code_files.utils import add_markdown_to_rag_data\n",
    "#     print(\"Import successful!\")\n",
    "# except ImportError as e:\n",
    "#     print(f\"Import failed: {e}\")\n",
    "\n",
    "# # Example usage (if needed)\n",
    "# # add_markdown_to_rag_data(\"your_file.md\")"
   ]
  },
  {
   "cell_type": "code",
   "execution_count": 5,
   "id": "d7376e22",
   "metadata": {},
   "outputs": [
    {
     "ename": "NameError",
     "evalue": "name '__file__' is not defined",
     "output_type": "error",
     "traceback": [
      "\u001b[31m---------------------------------------------------------------------------\u001b[39m",
      "\u001b[31mNameError\u001b[39m                                 Traceback (most recent call last)",
      "\u001b[36mCell\u001b[39m\u001b[36m \u001b[39m\u001b[32mIn[5]\u001b[39m\u001b[32m, line 2\u001b[39m\n\u001b[32m      1\u001b[39m \u001b[38;5;28;01mimport\u001b[39;00m\u001b[38;5;250m \u001b[39m\u001b[34;01mos\u001b[39;00m\n\u001b[32m----> \u001b[39m\u001b[32m2\u001b[39m \u001b[38;5;28mprint\u001b[39m(\u001b[33mf\u001b[39m\u001b[33m\"\u001b[39m\u001b[33mNotebook file: \u001b[39m\u001b[38;5;132;01m{\u001b[39;00m\u001b[34;43m__file__\u001b[39;49m\u001b[38;5;132;01m}\u001b[39;00m\u001b[33m\"\u001b[39m)\n\u001b[32m      3\u001b[39m \u001b[38;5;28mprint\u001b[39m(\u001b[33mf\u001b[39m\u001b[33m\"\u001b[39m\u001b[33mCurrent working directory: \u001b[39m\u001b[38;5;132;01m{\u001b[39;00mos.getcwd()\u001b[38;5;132;01m}\u001b[39;00m\u001b[33m\"\u001b[39m)\n",
      "\u001b[31mNameError\u001b[39m: name '__file__' is not defined"
     ]
    }
   ],
   "source": [
    "    import os\n",
    "    print(f\"Notebook file: {__file__}\")\n",
    "    print(f\"Current working directory: {os.getcwd()}\")"
   ]
  },
  {
   "cell_type": "code",
   "execution_count": 6,
   "id": "426ff2ba",
   "metadata": {},
   "outputs": [
    {
     "name": "stdout",
     "output_type": "stream",
     "text": [
      "Current working directory: c:\\Users\\noliv\\phi-generation-repo-destination\\phi-generation\n",
      "Import failed: No module named 'phi_generation'\n"
     ]
    }
   ],
   "source": [
    "import os\n",
    "import sys\n",
    "\n",
    "# Get the current working directory\n",
    "cwd = os.getcwd()\n",
    "print(f\"Current working directory: {cwd}\")\n",
    "\n",
    "# Try to determine the project root more robustly\n",
    "# This assumes that 'phi-generation' is a parent directory\n",
    "project_root = None\n",
    "if \"phi-generation\" in cwd:\n",
    "    # If we're already in or under phi-generation, use cwd\n",
    "    project_root = cwd\n",
    "else:\n",
    "    # Otherwise, try going up a few levels to find it\n",
    "    for i in range(3):  # Try going up 3 levels at most\n",
    "        parent_dir = os.path.abspath(os.path.join(cwd, *[\"..\"] * (i + 1)))\n",
    "        if \"phi-generation\" in os.path.basename(parent_dir):\n",
    "            project_root = parent_dir\n",
    "            break\n",
    "    if project_root is None:\n",
    "        print(\"Warning: Could not reliably determine project root. Imports may fail.\")\n",
    "        project_root = cwd  # Fallback to cwd\n",
    "\n",
    "# Add the project root to sys.path if it's not already there\n",
    "if project_root not in sys.path:\n",
    "    sys.path.append(project_root)\n",
    "\n",
    "# Now you should be able to import your function\n",
    "try:\n",
    "    from phi_generation.code_files.utils import add_markdown_to_rag_data\n",
    "    print(\"Import successful!\")\n",
    "except ImportError as e:\n",
    "    print(f\"Import failed: {e}\")\n",
    "\n",
    "# Example usage (if needed)\n",
    "# add_markdown_to_rag_data(\"your_file.md\")"
   ]
  },
  {
   "cell_type": "code",
   "execution_count": 2,
   "id": "55f5e2c6",
   "metadata": {},
   "outputs": [
    {
     "name": "stdout",
     "output_type": "stream",
     "text": [
      "c:\\Users\\noliv\\phi-generation-repo-destination\\phi-generation\\design_documents\n"
     ]
    }
   ],
   "source": [
    "import os\n",
    "print(os.getcwd())\n"
   ]
  },
  {
   "cell_type": "code",
   "execution_count": 3,
   "id": "2763ad34",
   "metadata": {},
   "outputs": [
    {
     "ename": "ModuleNotFoundError",
     "evalue": "No module named 'phi_generation'",
     "output_type": "error",
     "traceback": [
      "\u001b[31m---------------------------------------------------------------------------\u001b[39m",
      "\u001b[31mModuleNotFoundError\u001b[39m                       Traceback (most recent call last)",
      "\u001b[36mCell\u001b[39m\u001b[36m \u001b[39m\u001b[32mIn[3]\u001b[39m\u001b[32m, line 9\u001b[39m\n\u001b[32m      6\u001b[39m sys.path.append(root_dir)\n\u001b[32m      8\u001b[39m \u001b[38;5;66;03m# Now you can import your function\u001b[39;00m\n\u001b[32m----> \u001b[39m\u001b[32m9\u001b[39m \u001b[38;5;28;01mfrom\u001b[39;00m\u001b[38;5;250m \u001b[39m\u001b[34;01mphi_generation\u001b[39;00m\u001b[34;01m.\u001b[39;00m\u001b[34;01mcode_files\u001b[39;00m\u001b[34;01m.\u001b[39;00m\u001b[34;01mutils\u001b[39;00m\u001b[38;5;250m \u001b[39m\u001b[38;5;28;01mimport\u001b[39;00m add_markdown_to_rag_data\n",
      "\u001b[31mModuleNotFoundError\u001b[39m: No module named 'phi_generation'"
     ]
    }
   ],
   "source": [
    "import sys\n",
    "import os\n",
    "\n",
    "# Add the root directory of your project to the sys.path\n",
    "root_dir = os.path.abspath(os.path.join(os.getcwd(), '..', '..'))  # Going up two levels to phi-generation\n",
    "sys.path.append(root_dir)\n",
    "\n",
    "# Now you can import your function\n",
    "from phi_generation.code_files.utils import add_markdown_to_rag_data\n"
   ]
  },
  {
   "cell_type": "code",
   "execution_count": 5,
   "id": "510ccd05",
   "metadata": {},
   "outputs": [
    {
     "ename": "ModuleNotFoundError",
     "evalue": "No module named 'phi_generation'",
     "output_type": "error",
     "traceback": [
      "\u001b[31m---------------------------------------------------------------------------\u001b[39m",
      "\u001b[31mModuleNotFoundError\u001b[39m                       Traceback (most recent call last)",
      "\u001b[36mCell\u001b[39m\u001b[36m \u001b[39m\u001b[32mIn[5]\u001b[39m\u001b[32m, line 7\u001b[39m\n\u001b[32m      4\u001b[39m os.chdir(\u001b[33m'\u001b[39m\u001b[33m..\u001b[39m\u001b[33m'\u001b[39m)  \u001b[38;5;66;03m# Move up one directory level to phi-generation\u001b[39;00m\n\u001b[32m      6\u001b[39m \u001b[38;5;66;03m# Now you can import the function\u001b[39;00m\n\u001b[32m----> \u001b[39m\u001b[32m7\u001b[39m \u001b[38;5;28;01mfrom\u001b[39;00m\u001b[38;5;250m \u001b[39m\u001b[34;01mphi_generation\u001b[39;00m\u001b[34;01m.\u001b[39;00m\u001b[34;01mcode_files\u001b[39;00m\u001b[34;01m.\u001b[39;00m\u001b[34;01mutils\u001b[39;00m\u001b[38;5;250m \u001b[39m\u001b[38;5;28;01mimport\u001b[39;00m add_markdown_to_rag_data\n",
      "\u001b[31mModuleNotFoundError\u001b[39m: No module named 'phi_generation'"
     ]
    }
   ],
   "source": [
    "import os\n",
    "\n",
    "# Change the working directory to the root of the package\n",
    "os.chdir('..')  # Move up one directory level to phi-generation\n",
    "\n",
    "# Now you can import the function\n",
    "from phi_generation.code_files.utils import add_markdown_to_rag_data\n"
   ]
  },
  {
   "cell_type": "code",
   "execution_count": 8,
   "id": "8ae49469",
   "metadata": {},
   "outputs": [
    {
     "ename": "ModuleNotFoundError",
     "evalue": "No module named 'code_files'",
     "output_type": "error",
     "traceback": [
      "\u001b[31m---------------------------------------------------------------------------\u001b[39m",
      "\u001b[31mModuleNotFoundError\u001b[39m                       Traceback (most recent call last)",
      "\u001b[36mCell\u001b[39m\u001b[36m \u001b[39m\u001b[32mIn[8]\u001b[39m\u001b[32m, line 1\u001b[39m\n\u001b[32m----> \u001b[39m\u001b[32m1\u001b[39m \u001b[38;5;28;01mimport\u001b[39;00m\u001b[38;5;250m \u001b[39m\u001b[34;01mcode_files\u001b[39;00m\u001b[34;01m.\u001b[39;00m\u001b[34;01mutils\u001b[39;00m\u001b[38;5;250m \u001b[39m\u001b[38;5;28;01mas\u001b[39;00m\u001b[38;5;250m \u001b[39m\u001b[34;01mcfu\u001b[39;00m\n\u001b[32m      2\u001b[39m cfu.copy_markdown_to_rag_data(\u001b[33mr\u001b[39m\u001b[33m\"\u001b[39m\u001b[33mC:\u001b[39m\u001b[33m\\\u001b[39m\u001b[33mUsers\u001b[39m\u001b[33m\\\u001b[39m\u001b[33mnoliv\u001b[39m\u001b[33m\\\u001b[39m\u001b[33mDownloads\u001b[39m\u001b[33m\\\u001b[39m\u001b[33mmichael_soap_therapy.md\u001b[39m\u001b[33m\"\u001b[39m)\n",
      "\u001b[31mModuleNotFoundError\u001b[39m: No module named 'code_files'"
     ]
    }
   ],
   "source": [
    "import code_files.utils as cfu\n",
    "cfu.copy_markdown_to_rag_data(r\"C:\\Users\\noliv\\Downloads\\michael_soap_therapy.md\")"
   ]
  },
  {
   "cell_type": "code",
   "execution_count": null,
   "id": "2a413e06",
   "metadata": {},
   "outputs": [
    {
     "ename": "ModuleNotFoundError",
     "evalue": "No module named 'code_files'",
     "output_type": "error",
     "traceback": [
      "\u001b[31m---------------------------------------------------------------------------\u001b[39m",
      "\u001b[31mModuleNotFoundError\u001b[39m                       Traceback (most recent call last)",
      "\u001b[36mCell\u001b[39m\u001b[36m \u001b[39m\u001b[32mIn[7]\u001b[39m\u001b[32m, line 29\u001b[39m\n\u001b[32m     25\u001b[39m     \u001b[38;5;28;01mexcept\u001b[39;00m \u001b[38;5;167;01mException\u001b[39;00m \u001b[38;5;28;01mas\u001b[39;00m e:\n\u001b[32m     26\u001b[39m         \u001b[38;5;28;01mreturn\u001b[39;00m \u001b[33mf\u001b[39m\u001b[33m\"\u001b[39m\u001b[33mError writing markdown table to file: \u001b[39m\u001b[38;5;132;01m{\u001b[39;00me\u001b[38;5;132;01m}\u001b[39;00m\u001b[33m\"\u001b[39m\n\u001b[32m---> \u001b[39m\u001b[32m29\u001b[39m \u001b[38;5;28;01mimport\u001b[39;00m\u001b[38;5;250m \u001b[39m\u001b[34;01mcode_files\u001b[39;00m\u001b[34;01m.\u001b[39;00m\u001b[34;01mutils\u001b[39;00m\u001b[38;5;250m \u001b[39m\u001b[38;5;28;01mas\u001b[39;00m\u001b[38;5;250m \u001b[39m\u001b[34;01mcfu\u001b[39;00m\n\u001b[32m     31\u001b[39m cfu.add_markdown_to_rag_data(\u001b[33mr\u001b[39m\u001b[33m\"\u001b[39m\u001b[33mC:\u001b[39m\u001b[33m\\\u001b[39m\u001b[33mUsers\u001b[39m\u001b[33m\\\u001b[39m\u001b[33mnoliv\u001b[39m\u001b[33m\\\u001b[39m\u001b[33mDownloads\u001b[39m\u001b[33m\\\u001b[39m\u001b[33mmichael_soap_therapy.md\u001b[39m\u001b[33m\"\u001b[39m)\n",
      "\u001b[31mModuleNotFoundError\u001b[39m: No module named 'code_files'"
     ]
    }
   ],
   "source": [
    "\n",
    "\n",
    "add_markdown_to_rag_data(r\"C:\\Users\\noliv\\Downloads\\michael_soap_therapy.md\")"
   ]
  },
  {
   "cell_type": "markdown",
   "id": "dbb566a9",
   "metadata": {
    "vscode": {
     "languageId": "plaintext"
    }
   },
   "source": [
    "First, for any data contained in your prompt, it must be contained in both the database and the prompt to achieve a high enough relevance score to produce the response.\n",
    "In a similar manner to your context documents, use the utils.py functions to "
   ]
  },
  {
   "cell_type": "markdown",
   "id": "0a5bff53",
   "metadata": {},
   "source": []
  }
 ],
 "metadata": {
  "kernelspec": {
   "display_name": "venv_ftw_1",
   "language": "python",
   "name": "python3"
  },
  "language_info": {
   "codemirror_mode": {
    "name": "ipython",
    "version": 3
   },
   "file_extension": ".py",
   "mimetype": "text/x-python",
   "name": "python",
   "nbconvert_exporter": "python",
   "pygments_lexer": "ipython3",
   "version": "3.13.2"
  }
 },
 "nbformat": 4,
 "nbformat_minor": 5
}
