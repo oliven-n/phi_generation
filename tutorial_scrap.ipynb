{
 "cells": [
  {
   "cell_type": "markdown",
   "id": "646e977c",
   "metadata": {},
   "source": [
    "# Tutorial"
   ]
  },
  {
   "cell_type": "markdown",
   "id": "359e3bb6",
   "metadata": {},
   "source": [
    "## RAG tool"
   ]
  },
  {
   "cell_type": "markdown",
   "id": "e8992b95",
   "metadata": {},
   "source": [
    "The first step of this pipeline involves answering a prompt based on data. Specifically, this package is designed to take in structured data (in the form of a csv), as well as style supplements.  In querying a non-RAG like ChatGPT, the model often inserts unwanted context (e.g., history of a medication or disease, or its other uses not related to the patient's needs) that does not reflect the tone of true doctor's notes. This tool is designed to mitigate those effects, or to assess the future need for fine-tuning an LLM on patient data."
   ]
  },
  {
   "cell_type": "code",
   "execution_count": 3,
   "id": "69c21f91",
   "metadata": {},
   "outputs": [],
   "source": [
    "from code_files import utils as ut\n",
    "from code_files.telephone_module import telephone as tm\n",
    "from code_files.rag_module import create_database as crd\n"
   ]
  },
  {
   "cell_type": "code",
   "execution_count": null,
   "id": "e6247809",
   "metadata": {},
   "outputs": [
    {
     "name": "stdout",
     "output_type": "stream",
     "text": [
      "--- Generating Data Store ---\n"
     ]
    },
    {
     "name": "stderr",
     "output_type": "stream",
     "text": [
      "libmagic is unavailable but assists in filetype detection. Please consider installing libmagic for better results.\n",
      "libmagic is unavailable but assists in filetype detection. Please consider installing libmagic for better results.\n",
      "libmagic is unavailable but assists in filetype detection. Please consider installing libmagic for better results.\n"
     ]
    },
    {
     "name": "stdout",
     "output_type": "stream",
     "text": [
      "Loaded 3 documents.\n",
      "Split documents into 97 chunks.\n",
      "Saved 97 chunks to chroma.\n",
      "--- Data Store Generation Complete ---\n"
     ]
    },
    {
     "name": "stderr",
     "output_type": "stream",
     "text": [
      "c:\\Users\\noliv\\phi_generation_repo_destination\\phi_generation\\code_files\\rag_module\\create_database.py:58: LangChainDeprecationWarning: Since Chroma 0.4.x the manual persistence method is no longer supported as docs are automatically persisted.\n",
      "  vector_store.persist()\n"
     ]
    }
   ],
   "source": [
    "# any time you write new functions you have to rebuild and reinstall\n",
    "# run from phi_generation project\n",
    "# python -m build\n",
    "# pip install dist/code_files-0.1.0.tar.gz\n",
    "# and then restart the kernel and redo the imports\n",
    "crd.generate_data_store()"
   ]
  },
  {
   "cell_type": "markdown",
   "id": "be7a5b89",
   "metadata": {},
   "source": [
    "As we have seen, the RAG is not capable of viewing style context, only of performing retrieval."
   ]
  },
  {
   "cell_type": "markdown",
   "id": "0d5ba4a5",
   "metadata": {},
   "source": [
    "To add your style supplements to the database, which is drawn from 'code_files > rag_module > data', they will need to be structured as .md documents. You can use the built-in function to add "
   ]
  },
  {
   "cell_type": "markdown",
   "id": "dbb566a9",
   "metadata": {
    "vscode": {
     "languageId": "plaintext"
    }
   },
   "source": [
    "First, for any data contained in your prompt, it must be contained in both the database and the prompt to achieve a high enough relevance score to produce the response.\n",
    "In a similar manner to your context documents, use the utils.py functions to "
   ]
  },
  {
   "cell_type": "code",
   "execution_count": null,
   "id": "792e5c2b",
   "metadata": {},
   "outputs": [],
   "source": [
    "import csv\n",
    "\n",
    "csv_file_path = \"path/to/your/patient_data.csv\"  # Replace with your actual path\n",
    "\n",
    "try:\n",
    "    with open(csv_file_path, 'r', newline='') as csvfile:\n",
    "        reader = csv.DictReader(csvfile)\n",
    "        patient_data = list(reader)\n",
    "\n",
    "    print(\"\\n--- Loaded CSV Data ---\")\n",
    "    for row in patient_data:\n",
    "        print(row)\n",
    "    print(\"--- End Loaded CSV Data ---\")\n",
    "\n",
    "except FileNotFoundError:\n",
    "    print(f\"Error: CSV file not found at {csv_file_path}\")\n",
    "except Exception as e:\n",
    "    print(f\"An error occurred while loading CSV: {e}\")"
   ]
  },
  {
   "cell_type": "code",
   "execution_count": null,
   "id": "67a7e558",
   "metadata": {},
   "outputs": [],
   "source": []
  },
  {
   "cell_type": "markdown",
   "id": "22e0cc00",
   "metadata": {},
   "source": [
    "# A Tutorial for the phi_generation Library: Data-Driven Prompting and RAG (Direct Function Calls)"
   ]
  },
  {
   "cell_type": "markdown",
   "id": "7e496558",
   "metadata": {},
   "source": [
    "## Introduction"
   ]
  },
  {
   "cell_type": "markdown",
   "id": "1994172e",
   "metadata": {},
   "source": [
    "This tutorial demonstrates the key features of the `phi_generation` library, focusing on data ingestion, preparing data for a Retrieval-Augmented Generation (RAG) pipeline, and querying the RAG database with optional CSV context.\n",
    "\n",
    "The library aims to provide focused and relevant answers from language models by grounding them in specific data."
   ]
  },
  {
   "cell_type": "code",
   "execution_count": null,
   "id": "2cce2571",
   "metadata": {
    "vscode": {
     "languageId": "powershell"
    }
   },
   "outputs": [],
   "source": []
  },
  {
   "cell_type": "markdown",
   "id": "9f2bc304",
   "metadata": {},
   "source": [
    "**Note:** This tutorial assumes you have the `phi_generation` library installed.\n",
    "\n",
    " After making changes to the code, you need to rebuild and reinstall the package.\n",
    " Run the following commands in your `phi_generation` project root:"
   ]
  },
  {
   "cell_type": "code",
   "execution_count": null,
   "id": "29025ab4",
   "metadata": {
    "vscode": {
     "languageId": "powershell"
    }
   },
   "outputs": [
    {
     "ename": "SyntaxError",
     "evalue": "invalid syntax (2719185373.py, line 1)",
     "output_type": "error",
     "traceback": [
      "  \u001b[36mCell\u001b[39m\u001b[36m \u001b[39m\u001b[32mIn[16]\u001b[39m\u001b[32m, line 1\u001b[39m\n",
      "\u001b[31m    \u001b[39m\u001b[31mpython -m build\u001b[39m\n",
      "              ^\n",
      "\u001b[31mSyntaxError\u001b[39m\u001b[31m:\u001b[39m invalid syntax\n"
     ]
    }
   ],
   "source": [
    "python -m build\n",
    "pip install dist/code_files-0.1.0.tar.gz --upgrade"
   ]
  },
  {
   "cell_type": "markdown",
   "id": "dc3233be",
   "metadata": {},
   "source": [
    "## 1. Preparing Data from CSV for RAG"
   ]
  },
  {
   "cell_type": "markdown",
   "id": "dc3cabad",
   "metadata": {},
   "source": [
    "This section demonstrates how to convert structured data in a CSV file into a Markdown format suitable for the RAG database using the `utils` module."
   ]
  },
  {
   "cell_type": "code",
   "execution_count": null,
   "id": "70cbea0b",
   "metadata": {},
   "outputs": [],
   "source": [
    "import os\n",
    "from code_files import utils as ut\n",
    "\n",
    "# Define the path to your CSV file\n",
    "csv_file_path = r\"C:\\Users\\noliv\\Downloads\\structured_data_filled.csv\"  \n",
    "\n",
    "# Convert the CSV to a Markdown table\n",
    "markdown_table = ut.csv_to_markdown_table(csv_file_path)"
   ]
  },
  {
   "cell_type": "markdown",
   "id": "2d045f4c",
   "metadata": {},
   "source": [
    "Some error handling on the above:"
   ]
  },
  {
   "cell_type": "code",
   "execution_count": null,
   "id": "6828b996",
   "metadata": {},
   "outputs": [
    {
     "name": "stdout",
     "output_type": "stream",
     "text": [
      "Successfully converted CSV to Markdown table.\n",
      "\n",
      "--- Markdown Table Preview ---\n",
      "| Patient Name   |   Patient Age |   Alzheimers |   Anxiety |   Arthritis |   Behavior |   Bipolar |   Cannabis |   Cardio |   Chronic Disease |   Depression |   Diabetes |   Dieting |   Disabilities |   Drug-Induced Delirium |   Exercise |   Gastrointestinal |   Getting Worse or Not Better |   Hospital Admission |   Hospital Readmission |   Hypertension |   Kidney Disease |   Long-Term Care |   Memory Care |   Mental Health Questionnaire |   Obesity/Metabolic |   Osteoarthritis |   Pain |   Pre...\n",
      "--- End Preview ---\n",
      "Markdown written to c:\\Users\\noliv\\phi_generation_repo_destination\\phi_generation\\code_files\\..\\code_files/rag_module/data\\from_csv_data.md\n"
     ]
    }
   ],
   "source": [
    "if isinstance(markdown_table, str) and markdown_table.startswith(\"Error\"):\n",
    "    print(markdown_table)\n",
    "else:\n",
    "    print(\"Successfully converted CSV to Markdown table.\")\n",
    "    print(\"\\n--- Markdown Table Preview ---\")\n",
    "    print(markdown_table[:500] + \"...\\n--- End Preview ---\") # Preview a part of the table\n",
    "\n",
    "    # Save the Markdown table to the data directory\n",
    "    save_message = ut.var_markdown_to_data_dir(markdown_table, filename=\"from_csv_data.md\")\n",
    "    print(save_message)\n",
    "\n",
    "    # Copy the generated Markdown file to the RAG data directory\n",
    "    # Assuming your notebook is in the project root\n",
    "    local_md_path = \"code_files/rag_module/data/from_csv_data.md\"\n",
    "    ut.local_markdown_to_data_dir(local_md_path)"
   ]
  },
  {
   "cell_type": "markdown",
   "id": "ece159ef",
   "metadata": {},
   "source": [
    "## 2. Adding Additional Documents to the Data Directory (Optional)"
   ]
  },
  {
   "cell_type": "markdown",
   "id": "116eae34",
   "metadata": {},
   "source": [
    "You can add more Markdown files to the 'data' directory, which will be processed by the database creation step."
   ]
  },
  {
   "cell_type": "code",
   "execution_count": null,
   "id": "326517b7",
   "metadata": {},
   "outputs": [
    {
     "name": "stdout",
     "output_type": "stream",
     "text": [
      "Added example_document.md to the data directory.\n"
     ]
    }
   ],
   "source": [
    "# Example 1: Adding content directly\n",
    "document_content = \"\"\"\n",
    "# This is an example document\n",
    "\n",
    "This document contains some additional information for the RAG database.\n",
    "\"\"\"\n",
    "ut.var_markdown_to_data_dir(document_content, filename = \"sample_text.md\")\n",
    "print(\"Added example_document.md to the data directory.\")"
   ]
  },
  {
   "cell_type": "code",
   "execution_count": null,
   "id": "ecd08dc0",
   "metadata": {},
   "outputs": [
    {
     "name": "stdout",
     "output_type": "stream",
     "text": [
      "Error: Only files with the '.md' extension can be copied.\n"
     ]
    }
   ],
   "source": [
    "# Example 2: Copying a local Markdown file\n",
    "\n",
    "# You can replace with the path to your local .md file, or add many files in a path at once with this function\n",
    "\n",
    "# This is not an .md so it will throw an error\n",
    "local_file_to_copy = r\"C:\\Users\\noliv\\Downloads\\s41592-022-01728-4.pdf\" \n",
    "copy_result = ut.local_markdown_to_data_dir(local_file_to_copy, \"code_files/data\", enforce_md=True)\n",
    "print(copy_result)"
   ]
  },
  {
   "cell_type": "markdown",
   "id": "f0504b4b",
   "metadata": {},
   "source": [
    "## 3. Creating the RAG Database"
   ]
  },
  {
   "cell_type": "markdown",
   "id": "a4cd5fd4",
   "metadata": {},
   "source": [
    "Now that we have our data in the 'data' directory (including the Markdown generated from the CSV and any additional documents), we'll create the Chroma vector database using the `create_database` module."
   ]
  },
  {
   "cell_type": "code",
   "execution_count": null,
   "id": "ec1cd97a",
   "metadata": {},
   "outputs": [
    {
     "name": "stdout",
     "output_type": "stream",
     "text": [
      "--- Generating Data Store ---\n"
     ]
    },
    {
     "name": "stderr",
     "output_type": "stream",
     "text": [
      "libmagic is unavailable but assists in filetype detection. Please consider installing libmagic for better results.\n",
      "libmagic is unavailable but assists in filetype detection. Please consider installing libmagic for better results.\n",
      "libmagic is unavailable but assists in filetype detection. Please consider installing libmagic for better results.\n",
      "libmagic is unavailable but assists in filetype detection. Please consider installing libmagic for better results.\n",
      "libmagic is unavailable but assists in filetype detection. Please consider installing libmagic for better results.\n"
     ]
    },
    {
     "name": "stdout",
     "output_type": "stream",
     "text": [
      "Loaded 5 documents.\n",
      "Split documents into 100 chunks.\n",
      "Error saving to Chroma: [WinError 32] The process cannot access the file because it is being used by another process: 'chroma\\\\daee5f4c-9b22-493e-b188-e19f8df24101\\\\data_level0.bin'\n",
      "--- Data Store Generation Complete ---\n",
      "\n",
      "RAG database generation complete.\n"
     ]
    }
   ],
   "source": [
    "from code_files.rag_module import create_database as crd\n",
    "\n",
    "# Run the database generation process\n",
    "crd.generate_data_store()\n",
    "print(\"\\nRAG database generation complete.\")"
   ]
  },
  {
   "cell_type": "markdown",
   "id": "fcce1ca9",
   "metadata": {},
   "source": [
    "## 4. Querying the RAG Database with Optional CSV Context (Direct Function Call)"
   ]
  },
  {
   "cell_type": "markdown",
   "id": "0c4aa125",
   "metadata": {},
   "source": [
    "This section demonstrates querying the RAG database using the `query_rag_with_csv` function from the `query_data` module.\n"
   ]
  },
  {
   "cell_type": "markdown",
   "id": "348ce3f4",
   "metadata": {},
   "source": [
    "This is an unhelpful query, and we expect the response to indicate as such."
   ]
  },
  {
   "cell_type": "code",
   "execution_count": null,
   "id": "1c57e542",
   "metadata": {},
   "outputs": [],
   "source": [
    "from code_files.rag_module import query_data as qd\n",
    "\n",
    "# Define the query text\n",
    "query = \"Answer the question based on the information provided.\""
   ]
  },
  {
   "cell_type": "code",
   "execution_count": null,
   "id": "694c2c9a",
   "metadata": {},
   "outputs": [
    {
     "name": "stdout",
     "output_type": "stream",
     "text": [
      "\n",
      "--- Querying without CSV Context ---\n"
     ]
    },
    {
     "name": "stderr",
     "output_type": "stream",
     "text": [
      "c:\\Users\\noliv\\phi_generation_repo_destination\\phi_generation\\code_files\\rag_module\\query_data.py:47: LangChainDeprecationWarning: The class `Chroma` was deprecated in LangChain 0.2.9 and will be removed in 1.0. An updated version of the class exists in the :class:`~langchain-chroma package and should be used instead. To use it run `pip install -U :class:`~langchain-chroma` and import as `from :class:`~langchain_chroma import Chroma``.\n",
      "  db = Chroma(persist_directory=CHROMA_PATH, embedding_function=embedding_function)\n",
      "c:\\Users\\noliv\\phi_generation_repo_destination\\phi_generation\\code_files\\rag_module\\query_data.py:60: LangChainDeprecationWarning: The method `BaseChatModel.predict` was deprecated in langchain-core 0.1.7 and will be removed in 1.0. Use :meth:`~invoke` instead.\n",
      "  response_text = model.predict(prompt)\n"
     ]
    },
    {
     "name": "stdout",
     "output_type": "stream",
     "text": [
      "Response: I'm sorry, but you have not provided any specific question or CSV data to work with. Can you please provide more details or information related to your question?\n",
      "Sources: ['C:\\\\Users\\\\noliv\\\\phi_generation_repo_destination\\\\phi_generation\\\\code_files\\\\rag_module\\\\data\\\\connor_soap_therapy.md', 'C:\\\\Users\\\\noliv\\\\phi_generation_repo_destination\\\\phi_generation\\\\code_files\\\\rag_module\\\\data\\\\connor_soap_therapy.md', 'C:\\\\Users\\\\noliv\\\\phi_generation_repo_destination\\\\phi_generation\\\\code_files\\\\rag_module\\\\data\\\\connor_soap_therapy.md']\n"
     ]
    }
   ],
   "source": [
    "# Option A: Query without providing a CSV file\n",
    "print(\"\\n--- Querying without CSV Context ---\")\n",
    "response_no_csv = qd.query_rag_with_csv(query)\n",
    "print(response_no_csv)"
   ]
  },
  {
   "cell_type": "code",
   "execution_count": null,
   "id": "169ab277",
   "metadata": {},
   "outputs": [
    {
     "name": "stdout",
     "output_type": "stream",
     "text": [
      "\n",
      "--- Querying with CSV Context ---\n",
      "Response: Subjective: Kathryn is a 26-year-old individual who reports experiencing anxiety and behavioral issues. She denies a history of Alzheimer's Disease and chronic diseases.\n",
      "\n",
      "Objective: Kathryn's structured patient data indicates that she does not have Alzheimer's Disease, diabetes, or disabilities. She does, however, report anxiety, behavior problems, and a regular exercise routine.\n",
      "\n",
      "Assessment: Kathryn's overall physical health appears stable, with a focus on managing anxiety and behavioral concerns.\n",
      "\n",
      "Plan: Recommend continued monitoring of anxiety symptoms and behavior patterns, as well as encouraging the maintenance of regular exercise regimen for overall well-being. Consider further evaluation or interventions if necessary for managing anxiety and behavior issues.\n",
      "Sources: ['C:\\\\Users\\\\noliv\\\\phi_generation_repo_destination\\\\phi_generation\\\\code_files\\\\rag_module\\\\data\\\\meta_report_apso_soap.md', 'C:\\\\Users\\\\noliv\\\\phi_generation_repo_destination\\\\phi_generation\\\\code_files\\\\rag_module\\\\data\\\\meta_report_apso_soap.md', 'C:\\\\Users\\\\noliv\\\\phi_generation_repo_destination\\\\phi_generation\\\\code_files\\\\rag_module\\\\data\\\\meta_report_apso_soap.md']\n"
     ]
    }
   ],
   "source": [
    "\n",
    "# Option B: Query with a CSV file providing additional context (Direct Function Call)\n",
    "print(\"\\n--- Querying with CSV Context ---\")\n",
    "\n",
    "# Replace below with your CSV path:\n",
    "better_query = \"Create a patient profile for Kathryn in SOAP format using the structured patient data provided for Kathryn in the .csv file attached, as well as style supplements for writing a SOAP note in the database. Do not list features of patient, but rather explain in sentences.\"\n",
    "csv_file_for_query = r\"C:\\Users\\noliv\\Downloads\\structured_data_filled.csv\" \n",
    "response_with_csv = qd.query_rag_with_csv(better_query, csv_file_for_query)\n",
    "print(response_with_csv)"
   ]
  },
  {
   "cell_type": "markdown",
   "id": "282a35dd",
   "metadata": {},
   "source": [
    "This looks promising, and it even drew from the style guide without metadata indicating it was a style guide (there are options for this in the functions that add to database), but note that subjective and objective are the same. Future tasks include to adjust context window, try with various temperatures (and observe error propagation), and improve prompting."
   ]
  },
  {
   "cell_type": "markdown",
   "id": "dd387858",
   "metadata": {},
   "source": [
    "## 5. Comparing Embeddings (Optional : Direct Function Call for Error Handling)"
   ]
  },
  {
   "cell_type": "markdown",
   "id": "6235d6c7",
   "metadata": {},
   "source": [
    "The `compare_embeddings` module allows you to query the database directly and see the retrieved documents along with their relevance scores."
   ]
  },
  {
   "cell_type": "code",
   "execution_count": null,
   "id": "5823785c",
   "metadata": {},
   "outputs": [
    {
     "name": "stdout",
     "output_type": "stream",
     "text": [
      "\n",
      "--- Comparing Embeddings ---\n",
      "--- Matching Results ---\n",
      "Score: 0.7201408587167824\n",
      "Content: Plan:\n",
      "Source: C:\\Users\\noliv\\phi_generation_repo_destination\\phi_generation\\code_files\\rag_module\\data\\connor_soap_therapy.md\n",
      "---\n",
      "Score: 0.7193233152227922\n",
      "Content: Guiding Principles\n",
      "Source: C:\\Users\\noliv\\phi_generation_repo_destination\\phi_generation\\code_files\\rag_module\\data\\meta_report_apso_soap.md\n",
      "---\n",
      "Score: 0.710408245238374\n",
      "Content: Objective:\n",
      "Source: C:\\Users\\noliv\\phi_generation_repo_destination\\phi_generation\\code_files\\rag_module\\data\\connor_soap_therapy.md\n",
      "---\n",
      "--- Query Ended ---\n",
      "\n"
     ]
    }
   ],
   "source": [
    "from code_files.rag_module import compare_embeddings as ce\n",
    "print(\"\\n--- Comparing Embeddings ---\")\n",
    "query_for_comparison = \"What are some key details?\"\n",
    "embedding_comparison_results = ce.compare_embeddings_query(query_for_comparison)\n",
    "print(embedding_comparison_results)"
   ]
  },
  {
   "cell_type": "markdown",
   "id": "eba6925d",
   "metadata": {},
   "source": [
    "## 6. Generating Structured to Unstructured PHI"
   ]
  },
  {
   "cell_type": "markdown",
   "id": "1cda2081",
   "metadata": {},
   "source": [
    "This section uses the `st_to_unst` module to query a vanilla LLM (i.e., without RAG) to create a doctor's record from a .csv file containing structured PHI for one or more patients. For more specific formatting instructions, such as record templates, compare results qualitatively and with the telephone module. "
   ]
  },
  {
   "cell_type": "markdown",
   "id": "fa44a2f0",
   "metadata": {},
   "source": [
    "This section demonstrates how to use the `st_to_unst` module to:\n",
    "1. Generate patient health records from structured CSV data.\n",
    "2. Create an AnnData object to store both structured and unstructured data.\n",
    "3. Convert the unstructured data to a JSON file."
   ]
  },
  {
   "cell_type": "markdown",
   "id": "557b9505",
   "metadata": {},
   "source": [
    "If you do not readily have csv data, you can use the following example csv:"
   ]
  },
  {
   "cell_type": "code",
   "execution_count": null,
   "id": "94d40bfd",
   "metadata": {},
   "outputs": [],
   "source": [
    "# ```csv\n",
    "# PatientID,Name,Age,Gender,ConditionA,ConditionB,MedicationX,MedicationY\n",
    "# 1,Alice,30,Female,0,1,1,0\n",
    "# 2,Bob,25,Male,1,0,0,1\n",
    "# ```"
   ]
  },
  {
   "cell_type": "code",
   "execution_count": null,
   "id": "1c878b67",
   "metadata": {},
   "outputs": [
    {
     "name": "stdout",
     "output_type": "stream",
     "text": [
      "\n",
      "--- Creating AnnData Object ---\n"
     ]
    },
    {
     "name": "stderr",
     "output_type": "stream",
     "text": [
      "c:\\Users\\noliv\\phi_generation_repo_destination\\phi_generation\\code_files\\st_to_unst_module\\st_to_unst.py:41: LangChainDeprecationWarning: The class `OpenAI` was deprecated in LangChain 0.0.10 and will be removed in 1.0. An updated version of the class exists in the :class:`~langchain-openai package and should be used instead. To use it run `pip install -U :class:`~langchain-openai` and import as `from :class:`~langchain_openai import OpenAI``.\n",
      "  llm = OpenAI(temperature=0.7)  # You can adjust temperature\n",
      "c:\\Users\\noliv\\phi_generation_repo_destination\\phi_generation\\code_files\\st_to_unst_module\\st_to_unst.py:48: LangChainDeprecationWarning: The method `BaseLLM.predict` was deprecated in langchain-core 0.1.7 and will be removed in 1.0. Use :meth:`~invoke` instead.\n",
      "  report = llm.predict(introduction_prompt)\n"
     ]
    },
    {
     "name": "stdout",
     "output_type": "stream",
     "text": [
      "AnnData object with n_obs × n_vars = 7 × 2\n",
      "    obs: 'Patient Name', 'Patient Age', 'Alzheimers', 'Anxiety', 'Arthritis', 'Behavior', 'Bipolar', 'Cannabis', 'Cardio', 'Chronic Disease', 'Depression', 'Diabetes', 'Dieting', 'Disabilities', 'Drug-Induced Delirium', 'Exercise', 'Gastrointestinal', 'Getting Worse or Not Better', 'Hospital Admission', 'Hospital Readmission', 'Hypertension', 'Kidney Disease', 'Long-Term Care', 'Memory Care', 'Mental Health Questionnaire', 'Obesity/Metabolic', 'Osteoarthritis', 'Pain', 'Prediabetes', 'Quality of Life', 'Semaglutide', 'Sleep', 'Stress'\n",
      "    uns: 'csv_filename'\n",
      "\n",
      "Sample patient records:\n",
      "  Patient Name Patient Age Alzheimers Anxiety Arthritis Behavior Bipolar  \\\n",
      "0      Kathryn          26          0       1       N/A        1       0   \n",
      "1      Michael          38          0       0         0        0       0   \n",
      "2        Kevin          17          0       1         0        0       0   \n",
      "3        Megan          25          0       1         0        1       1   \n",
      "4        Brian          62          0       0         0        0       0   \n",
      "\n",
      "  Cannabis Cardio Chronic Disease  ... Memory Care  \\\n",
      "0        1      1               0  ...           0   \n",
      "1        0      1               0  ...           0   \n",
      "2        1      0               0  ...           0   \n",
      "3        1      1               1  ...           0   \n",
      "4        0      0               1  ...           0   \n",
      "\n",
      "  Mental Health Questionnaire Obesity/Metabolic Osteoarthritis Pain  \\\n",
      "0                           0                 0              0    0   \n",
      "1                           0                 0              0    0   \n",
      "2                           0                 0              0    0   \n",
      "3                           1                 0              0    0   \n",
      "4                           0                 1              1    1   \n",
      "\n",
      "  Prediabetes Quality of Life Semaglutide Sleep Stress  \n",
      "0           0               0           0     0      0  \n",
      "1           0               1           0     1      0  \n",
      "2           0               0           0     0      0  \n",
      "3           0               1           0     1      1  \n",
      "4           0               1           1     1      1  \n",
      "\n",
      "[5 rows x 33 columns]\n",
      "\n",
      "Sample unstructured data:\n",
      "An error occurred: 'numpy.ndarray' object has no attribute 'head'\n"
     ]
    },
    {
     "name": "stderr",
     "output_type": "stream",
     "text": [
      "c:\\Users\\noliv\\phi_generation_repo_destination\\phi_generation\\venv_ftw_1\\Lib\\site-packages\\anndata\\_core\\aligned_df.py:68: ImplicitModificationWarning: Transforming to str index.\n",
      "  warnings.warn(\"Transforming to str index.\", ImplicitModificationWarning)\n"
     ]
    }
   ],
   "source": [
    "from code_files.st_to_unst_module import st_to_unst as sun\n",
    "import pandas as pd\n",
    "\n",
    "# Define the path to your patient data CSV file\n",
    "patient_csv_file = r\"C:\\Users\\noliv\\Downloads\\structured_data_filled.csv\" # Replace with the actual path\n",
    "\n",
    "\n",
    "# 1. Generate an AnnData object\n",
    "print(\"\\n--- Creating AnnData Object ---\")\n",
    "try:\n",
    "    adata = sun.create_anndata_from_csv(patient_csv_file, patient_id_columns=[\"PatientID\", \"Name\"])\n",
    "    print(adata)\n",
    "    print(\"\\nSample patient records:\")\n",
    "    print(adata.obs.head())\n",
    "    print(\"\\nSample unstructured data:\")\n",
    "    print(adata.X.head())\n",
    "except FileNotFoundError:\n",
    "    print(f\"Error: CSV file not found at {patient_csv_file}\")\n",
    "except Exception as e:\n",
    "    print(f\"An error occurred: {e}\")"
   ]
  },
  {
   "cell_type": "code",
   "execution_count": null,
   "id": "9258fea1",
   "metadata": {},
   "outputs": [
    {
     "name": "stdout",
     "output_type": "stream",
     "text": [
      "\n",
      "--- Creating AnnData Object from CSV ---\n",
      "AnnData object with n_obs × n_vars = 7 × 2\n",
      "    obs: 'Patient Name', 'Patient Age', 'Alzheimers', 'Anxiety', 'Arthritis', 'Behavior', 'Bipolar', 'Cannabis', 'Cardio', 'Chronic Disease', 'Depression', 'Diabetes', 'Dieting', 'Disabilities', 'Drug-Induced Delirium', 'Exercise', 'Gastrointestinal', 'Getting Worse or Not Better', 'Hospital Admission', 'Hospital Readmission', 'Hypertension', 'Kidney Disease', 'Long-Term Care', 'Memory Care', 'Mental Health Questionnaire', 'Obesity/Metabolic', 'Osteoarthritis', 'Pain', 'Prediabetes', 'Quality of Life', 'Semaglutide', 'Sleep', 'Stress'\n",
      "    uns: 'csv_filename'\n",
      "\n",
      "Sample of structured patient data (adata.obs):\n",
      "  Patient Name Patient Age Alzheimers Anxiety Arthritis Behavior Bipolar  \\\n",
      "0      Kathryn          26          0       1       N/A        1       0   \n",
      "1      Michael          38          0       0         0        0       0   \n",
      "2        Kevin          17          0       1         0        0       0   \n",
      "3        Megan          25          0       1         0        1       1   \n",
      "4        Brian          62          0       0         0        0       0   \n",
      "\n",
      "  Cannabis Cardio Chronic Disease  ... Memory Care  \\\n",
      "0        1      1               0  ...           0   \n",
      "1        0      1               0  ...           0   \n",
      "2        1      0               0  ...           0   \n",
      "3        1      1               1  ...           0   \n",
      "4        0      0               1  ...           0   \n",
      "\n",
      "  Mental Health Questionnaire Obesity/Metabolic Osteoarthritis Pain  \\\n",
      "0                           0                 0              0    0   \n",
      "1                           0                 0              0    0   \n",
      "2                           0                 0              0    0   \n",
      "3                           1                 0              0    0   \n",
      "4                           0                 1              1    1   \n",
      "\n",
      "  Prediabetes Quality of Life Semaglutide Sleep Stress  \n",
      "0           0               0           0     0      0  \n",
      "1           0               1           0     1      0  \n",
      "2           0               0           0     0      0  \n",
      "3           0               1           0     1      1  \n",
      "4           0               1           1     1      1  \n",
      "\n",
      "[5 rows x 33 columns]\n",
      "\n",
      "Sample of unstructured patient reports (adata.X):\n",
      "adata.X is not a DataFrame. Showing raw data:\n",
      "[['N/A, N/A'\n",
      "  \"\\n\\nIntroduction:\\n\\nThis public health report is regarding the patient, John Smith, a 45-year-old male with assigned number 12345. The purpose of this report is to provide an overview of the patient's medical history, current health status, and potential health concerns. The patient's medical information was obtained from a csv data file.\\n\\nRelevant Illness and Medication:\\n\\nJohn Smith has been diagnosed with hypertension and is currently taking medication to manage it. Hypertension, also known as high blood pressure, is a common chronic condition that affects many adults worldwide. It is characterized by abnormally high blood pressure levels, which can lead to serious health complications such as heart disease, stroke, and kidney failure. John's current medication for hypertension is metoprolol, which is a beta-blocker commonly used to lower blood pressure.\\n\\nRelevant Illness and Medication:\\n\\nThe patient has also been diagnosed with type 2 diabetes and is taking medication to control his blood sugar levels. Type 2 diabetes is a chronic condition in which the body becomes resistant to insulin or does not produce enough insulin to regulate blood sugar levels. If left unmanaged, diabetes can lead to serious health complications such as heart disease, nerve damage, and kidney failure. John is currently taking metformin\\n\\n\\n\\nAnxiety is a mental health condition characterized by persistent feelings of worry, fear, and unease. It often manifests in physical symptoms such as restlessness, difficulty concentrating, and tense muscles. It can also lead to avoidance behaviors and difficulty functioning in daily life. The patient has a history of anxiety and is currently taking medication to manage symptoms. The medication prescribed is [insert name], which is a selective serotonin reuptake inhibitor (SSRI) that works by increasing the levels of serotonin in the brain. The patient reports some improvement in symptoms and is currently attending therapy sessions to address underlying causes of anxiety. Regular follow-up appointments are recommended to monitor progress and adjust treatment as needed.\\n\\n\\n\\nBehavior refers to the actions and conduct of a patient, which can be affected by various factors such as mental health, environmental influences, and underlying medical conditions. In a patient's health record, behavior is often documented as a key component of their overall health and well-being. This includes any observed changes in behavior, such as increased agitation, aggression, or withdrawal. It can also refer to specific behaviors that may impact their health, such as smoking or substance abuse. Medications may be prescribed to manage and treat certain behaviors, such as antipsychotics for aggressive behavior or antidepressants for mood changes. Monitoring and addressing behaviors is crucial in providing comprehensive care for a patient and improving their overall health outcomes.\\n\\n\\n\\nCannabis is a plant-based substance that is commonly used for its psychoactive and medicinal effects. In this patient's health record, it is noted that they have a history of using cannabis for recreational purposes. They report using it to help manage symptoms of anxiety and insomnia. The patient has not disclosed any adverse reactions or side effects from cannabis use. It is important for healthcare providers to be aware of this information as it may impact the patient's response to certain medications and treatments. Regular cannabis use may also increase the risk of developing respiratory issues and potential cognitive impairments. It is recommended that the patient's cannabis use is monitored and discussed with their healthcare team for appropriate management.\\n\\n\\n\\nCardio, short for cardiovascular, refers to the health of the heart and blood vessels. It is an important aspect of a patient's health record as it can indicate their risk for heart disease and other related conditions. In this context, Cardio may refer to a condition or a medication prescribed to manage or treat cardiovascular issues. This can include high blood pressure, heart rhythm abnormalities, or heart failure. The medication prescribed for Cardio may vary depending on the specific condition and severity of the patient's cardiovascular health. It is important for healthcare providers to closely monitor the patient's cardiovascular health and adjust treatment as needed to maintain good heart health. \"]\n",
      " ['N/A, N/A'\n",
      "  '\\n\\nIntroduction:\\nAs a doctor, it is essential to thoroughly understand a patient\\'s health history and current conditions in order to provide the best possible care. In this report, I will be analyzing the public health data of Patient X (assigned number 12345), a 55-year-old male. This data includes relevant information about the patient\\'s past and current illnesses as well as their prescribed medications. By examining this information, I will be able to gain a comprehensive understanding of the patient\\'s health and make any necessary recommendations for their care.\\n\\nDiabetes:\\nPatient X has been diagnosed with Type 2 diabetes, a chronic condition that affects the body\\'s ability to regulate blood sugar levels. This condition is indicated by a \"1\" in the diabetes column of the data. Diabetes can lead to serious health complications, such as heart disease, nerve damage, and vision problems. It is crucial for the patient to closely monitor their blood sugar levels and follow their prescribed treatment plan, which may include lifestyle changes, medication, and regular check-ups with their doctor.\\n\\nHypertension:\\nThe patient also has a history of hypertension, indicated by a \"1\" in the hypertension column. Hypertension, or high blood pressure, is a common condition that can increase the risk of heart disease,\\n\\n\\n\\nCardio, short for cardiovascular, refers to the health of the heart and blood vessels. In a patient health record, it may be used to describe a condition or medication related to the heart and blood vessels. This could include a diagnosis of a cardiovascular disease such as coronary artery disease or high blood pressure, or the use of medications to treat these conditions such as beta blockers or statins. Monitoring and managing cardio health is crucial for overall well-being and can involve lifestyle changes, medication, and regular check-ups with a healthcare provider. Accurate and thorough documentation of cardio conditions and medications in a patient\\'s health record is important for providing comprehensive and effective care.\\n\\n\\n\\nExercise is a physical activity that is prescribed to improve overall health and wellbeing. It involves repetitive movements of the body, which increase heart rate and respiratory rate. Regular exercise has been shown to have numerous benefits, including reducing the risk of chronic diseases such as heart disease, diabetes, and obesity. It also helps to improve muscle strength, flexibility, and endurance. In this patient\\'s health record, exercise is recommended as a part of their treatment plan to manage their chronic condition and improve their overall health. The frequency, intensity, and duration of exercise will be tailored to their specific needs and abilities. Regular monitoring and tracking of their progress will be important to ensure the effectiveness of the exercise regimen. It is crucial for the patient to follow the prescribed exercise plan to achieve the desired health outcomes.\\n\\n\\n\\nQuality of life is a subjective measure of an individual\\'s overall well-being and satisfaction with their life. In the context of a patient health record, this term may refer to the impact that a specific condition or medication has on a patient\\'s daily life and overall functioning. Factors such as physical, emotional, and social well-being may be taken into account when assessing a patient\\'s quality of life. This information can be useful in determining the effectiveness of a treatment plan and making decisions about the patient\\'s care. It is important for healthcare providers to consider the quality of life of their patients in order to provide the best possible care and improve their overall health and well-being.\\n\\n\\n\\nThe patient reports experiencing difficulty falling and staying asleep, resulting in frequent awakenings throughout the night. This has been ongoing for several weeks and is impacting their daily functioning and overall well-being. The patient denies any significant stressors or changes in their routine that could be contributing to their sleep disturbances. They have tried over-the-counter sleep aids with minimal success. No other significant medical conditions or medications are reported. Based on these symptoms, the patient may be experiencing a sleep disorder and further evaluation and treatment may be necessary to improve their quality of sleep and overall health.']\n",
      " ['N/A, N/A'\n",
      "  '\\n\\nIntroduction:\\n\\nAs a doctor, it is my duty to provide comprehensive and accurate healthcare services to my patients. In order to do so, it is essential to thoroughly understand the patient\\'s medical history and current health status. In this report, I will be discussing the public health report of Patient John Doe (assigned number: 123456), a 65-year-old male.\\n\\nHypertension:\\n\\nPatient John Doe has a history of hypertension, as indicated by a \"1\" in the relevant column in the csv data. Hypertension, also known as high blood pressure, is a chronic condition in which the force of blood against the artery walls is consistently too high. This can lead to serious health complications such as heart attack, stroke, and kidney disease. In order to manage his hypertension, Patient John Doe is currently taking Lisinopril, a medication that helps to lower blood pressure by relaxing the blood vessels.\\n\\nDiabetes:\\n\\nIn addition to hypertension, Patient John Doe also has diabetes, as indicated by a \"1\" in the relevant column in the csv data. Diabetes is a chronic condition in which the body is unable to properly process glucose, leading to high blood sugar levels. This can result in various health complications including heart disease, nerve damage, and vision problems\\n\\n\\n\\nAnxiety is a mental health disorder characterized by excessive worry, fear, and unease. The patient experiences persistent and uncontrollable feelings of tension and fear, which can significantly impact their daily life. Symptoms may include restlessness, difficulty concentrating, irritability, muscle tension, and difficulty sleeping. The patient has been diagnosed with anxiety and is currently prescribed medication to manage their symptoms. It is important for the patient to attend regular therapy sessions and practice stress-reducing techniques to help manage their condition. The patient should also report any changes in symptoms or side effects of the medication to their healthcare provider.\\n\\n\\n\\nCannabis, also known as marijuana, is a psychoactive drug derived from the cannabis plant. It is commonly used for both recreational and medicinal purposes. In this patient\\'s health record, it is noted that they have a history of using cannabis for chronic pain management. They report experiencing relief from their symptoms, but also mention occasional side effects such as dry mouth and increased appetite. It is important to monitor the patient\\'s usage and potential interactions with other medications. Additionally, it is necessary to educate the patient on the potential risks and benefits of cannabis use, as well as any legal implications. Regular follow-up appointments should be scheduled to assess the effectiveness and safety of this treatment method.\\n\\n\\n\\nThe patient has been prescribed a dieting regimen as a treatment for weight management. This involves following a specific meal plan and reducing calorie intake in order to achieve a healthy weight. The patient is advised to increase physical activity and avoid high-fat and high-sugar foods. The goal of this treatment is to improve overall health and reduce the risk of obesity-related health conditions such as heart disease and diabetes. The patient\\'s progress will be monitored regularly by a healthcare provider and adjustments to the diet may be made as needed. It is important for the patient to adhere to the prescribed diet and make lifestyle changes in order to see positive results. \\n\\n\\n\\nGastrointestinal refers to any issues or conditions affecting the digestive system, which includes the mouth, esophagus, stomach, intestines, and anus. This can include disorders such as irritable bowel syndrome, Crohn\\'s disease, and ulcers. Symptoms can include abdominal pain, bloating, constipation, diarrhea, and nausea. Treatment for gastrointestinal conditions often involves medication to manage symptoms and lifestyle changes such as dietary modifications. It is important for the patient to keep track of their symptoms and report any changes to their healthcare provider to ensure proper management of their condition. In addition, regular check-ups and screenings may be recommended to monitor the health of the digestive system.\\n\\n\\n\\nThe patient\\'s condition has been noted as \"getting worse or not better\" in their health record. This indicates that there has been little to no improvement in their overall health and symptoms, or that their symptoms have actually worsened over time. This may be a cause for concern and may require further evaluation and treatment by healthcare professionals. It is important for the patient and their healthcare team to closely monitor their condition and make any necessary adjustments to their treatment plan in order to achieve better outcomes.']\n",
      " ['N/A, N/A'\n",
      "  '\\n\\nIntroduction:\\n\\nPatient Name: John Smith\\nAge: 45\\nGender: Male\\nAssigned Number: 123456\\n\\nAs a doctor, it is my responsibility to not only treat individual patients, but also to monitor and improve the overall health of the population. Public health plays a crucial role in achieving this goal and it involves the prevention, promotion, and protection of the community\\'s health. In this report, I will be analyzing the public health data of John Smith, a 45-year-old male patient with the assigned number 123456. This data includes information on his medical conditions and medications, which will help us understand the impact of these factors on his overall health and well-being.\\n\\nDiabetes:\\n\\nJohn has been diagnosed with type 2 diabetes, a chronic condition that affects the body\\'s ability to regulate blood sugar levels. Diabetes is a major public health concern as it can lead to serious complications such as heart disease, stroke, kidney disease, and blindness. It is often caused by a combination of genetic and lifestyle factors, including obesity, physical inactivity, and poor dietary habits. John\\'s diabetes is being managed with medication, as indicated by the \"1\" in the medication column. This is an important aspect of his treatment as medication can help control his blood sugar\\n\\n\\n\\nAnxiety is a mental health condition characterized by feelings of worry, fear, and nervousness that can significantly impact a patient\\'s daily life. This patient has a history of anxiety and has been struggling with symptoms such as excessive worrying, restlessness, irritability, and difficulty concentrating. They have also reported physical symptoms like muscle tension, fatigue, and trouble sleeping. The patient has been prescribed medication to help manage their anxiety, including selective serotonin reuptake inhibitors (SSRIs) and/or benzodiazepines. They have also been advised to attend therapy sessions to learn coping mechanisms and techniques for managing their symptoms. Regular follow-ups and monitoring will be necessary to ensure the effectiveness of treatment.\\n\\n\\n\\nBehavior is a term used to describe a patient\\'s actions, reactions, and responses to various stimuli. It can refer to both positive and negative behaviors, such as mood swings, impulsivity, aggression, or withdrawn behavior. In the context of a patient health record, behavior is an important aspect to document as it can provide valuable information about a patient\\'s mental and emotional state. It may also be relevant to note any changes in behavior over time or in response to certain medications or treatments. Understanding a patient\\'s behavior can help healthcare providers develop an effective treatment plan and ensure the patient receives the best possible care.\\n\\n\\n\\nBipolar disorder is a mental health condition that is characterized by extreme shifts in mood, energy, and activity levels. This patient has a history of bipolar disorder and experiences periods of intense mania, marked by elevated and irritable mood, as well as periods of depression, marked by feelings of sadness and hopelessness. They may also experience psychotic symptoms, such as delusions and hallucinations, during manic episodes. Treatment for bipolar disorder typically includes a combination of medication, therapy, and lifestyle changes. It is important for this patient to consistently take their prescribed medication and attend therapy sessions to manage their symptoms and maintain stability.\\n\\n\\n\\nCannabis is a medication derived from the Cannabis sativa plant, commonly known as marijuana or weed. It is typically used for its psychoactive effects and has been legalized for medical use in some states. The patient reports using cannabis to manage symptoms of chronic pain and anxiety. They report using it in the form of smoked or edible products. The patient also mentions using it recreationally, but not on a regular basis. They report experiencing mild side effects such as dry mouth and increased appetite. The patient has a history of substance abuse and is advised to discuss their use of cannabis with their healthcare provider to ensure safe and effective treatment.\\n\\n\\n\\nCardio refers to the cardiovascular system, which includes the heart and blood vessels. This term is often used in a patient\\'s health record to describe any conditions or medications related to the heart and blood vessels. Common examples of cardio conditions include heart disease, high blood pressure, and heart failure. Medications used to treat these conditions may also be labeled as cardio medications, such as beta blockers, ACE inhibitors, and diuretics. Keeping track of a patient\\'s cardio health is important for monitoring and managing their overall well-being. Any changes or concerns related to their cardio health should be noted in their health record for future reference. \\n\\n\\n\\nChronic disease refers to a long-term health condition that requires ongoing management and treatment. Examples of chronic diseases include diabetes, hypertension, asthma, and arthritis. These conditions typically do not have a cure and can significantly impact a patient\\'s quality of life. In this patient\\'s health record, it is noted that they have been diagnosed with a chronic disease, and it is important for the healthcare team to monitor and address any symptoms or complications that may arise. Treatment for chronic diseases often includes a combination of medication, lifestyle changes, and regular medical check-ups to help manage and control the condition. It is crucial for patients with chronic diseases to adhere to their treatment plan to prevent further complications and improve their overall health.\\n\\n\\n\\nDepression is a mental health disorder that is characterized by persistent feelings of sadness, hopelessness, and disinterest in activities that were once enjoyable. This condition can significantly impact a person\\'s daily functioning and overall well-being. The patient has a history of depression and has been prescribed antidepressant medication, along with therapy, to manage their symptoms. They have reported experiencing low mood, difficulty sleeping, and loss of appetite. The patient also has a family history of depression, which may contribute to their condition. Regular follow-ups with a mental health professional are recommended to monitor their progress and adjust their treatment plan as needed.\\n\\n\\n\\nThe patient has been following a dieting regimen for the past 3 months in order to achieve weight loss and improve overall health. The diet consists of a reduced calorie intake and increased physical activity. The patient reports adhering to the diet strictly and has lost a total of 15 pounds since starting. However, the patient also reports feeling fatigued and irritable at times, which may be attributed to the restrictive nature of the diet. The patient\\'s blood work shows a decrease in cholesterol levels and blood pressure, indicating positive effects of the diet on overall health. The patient will continue to follow the diet and monitor any changes in symptoms.\\n\\n\\n\\nAccording to the patient\\'s health record, the condition/medication \\'Exercise\\' is an important aspect of their overall health and well-being. Regular exercise has been prescribed by their healthcare provider to help manage their weight, improve cardiovascular health, and reduce their risk of chronic diseases such as diabetes and hypertension. The patient is advised to engage in at least 30 minutes of moderate to vigorous physical activity most days of the week. This may include activities such as brisk walking, cycling, or swimming. The patient is also encouraged to consult with their healthcare provider before starting a new exercise routine and to gradually increase intensity and duration as tolerated. Regular exercise is an essential part of the patient\\'s treatment plan and is crucial for maintaining their overall health and managing their specific health conditions.\\n\\n\\n\\nGastrointestinal (GI) issues refer to any condition or disorder that affects the digestive system, including the stomach, intestines, and other organs involved in digestion. This can include diseases like gastroesophageal reflux disease (GERD), irritable bowel syndrome (IBS), and inflammatory bowel disease (IBD). Symptoms of GI issues may include abdominal pain, bloating, diarrhea, constipation, and nausea. Treatment for GI issues may involve medications, lifestyle changes, and dietary modifications. It is important for patients to keep track of their symptoms and report any changes to their healthcare provider to ensure proper management of their condition.\\n\\n\\n\\nThe patient\\'s condition has been noted as \"getting worse or not better\" in their health record. This indicates that their symptoms or overall health have not improved since their last visit or assessment. It could also suggest that their condition is deteriorating, and they may be experiencing new or worsening symptoms. The healthcare provider will need to closely monitor the patient\\'s progress and possibly adjust their treatment plan to help improve their condition. It is important for the patient to communicate any changes in their symptoms or overall well-being to their healthcare provider in order to receive the best possible care.\\n\\n\\n\\nLong-term care refers to ongoing medical and personal assistance provided to patients who have chronic conditions or disabilities that require daily support. This type of care is typically provided in a nursing home or assisted living facility and can include services such as medication management, assistance with daily activities, and specialized therapies. Patients who require long-term care often have complex medical histories and may need frequent monitoring and coordination of care from a team of healthcare professionals. It is important for the patient\\'s health record to accurately document their long-term care needs and any changes in their condition to ensure they receive appropriate and effective treatment.\\n\\n\\n\\nA mental health questionnaire is a tool used by healthcare professionals to assess a patient\\'s mental health status. It typically consists of a series of questions related to the patient\\'s thoughts, feelings, behaviors, and overall well-being. The purpose of this questionnaire is to gather information about the patient\\'s mental health history, current symptoms, and any potential risk factors. This information is then used to aid in diagnosis and treatment planning. The questionnaire may cover a range of mental health conditions such as depression, anxiety, bipolar disorder, and schizophrenia. It is an important component of a patient\\'s health record as it provides valuable insights into their mental health and helps healthcare professionals provide effective and personalized care. \\n\\n\\n\\nQuality of Life is a measure of an individual\\'s well-being and overall satisfaction with their life, taking into account physical, emotional, and social factors. In the context of this patient\\'s health record, it is important to assess their quality of life in order to understand the impact of their medical condition and treatment on their daily functioning and overall happiness. This information can guide healthcare decisions and interventions to improve the patient\\'s overall well-being and quality of life. It may also be used as a benchmark to track the patient\\'s progress and evaluate the effectiveness of their treatment plan. \\n\\n\\n\\nThe patient reports having difficulty falling asleep and staying asleep for the past three weeks. They have been experiencing restlessness and wake up multiple times throughout the night. The patient denies any underlying medical conditions or recent changes in their routine. They also mention feeling fatigued and irritable during the day due to lack of quality sleep. The patient has tried over-the-counter sleep aids, but they have not been effective. No other medications or supplements are currently being taken. Further assessment and evaluation of the patient\\'s sleep patterns and habits are recommended to determine the underlying cause of their sleep disturbance and develop an appropriate treatment plan.\\n\\n\\n\\nStress is a condition that is commonly seen in patient health records and can have a significant impact on overall health and well-being. It is a physical and psychological response to perceived threats or challenges, which can be triggered by various factors such as work, relationships, financial difficulties, and major life changes. In the records, it is important to note any specific stressors that the patient may be experiencing and how it is affecting their daily life. Symptoms of stress may include fatigue, headaches, muscle tension, difficulty sleeping, and changes in mood or appetite. Treatment for stress may involve lifestyle changes, therapy, and medication to manage symptoms and improve coping strategies. It is important for healthcare providers to address and monitor stress levels in patients to prevent potential health complications. ']\n",
      " ['N/A, N/A'\n",
      "  '\\n\\nIntroduction:\\n\\nThis public health report aims to provide a comprehensive overview of the health status of Mr. John Smith, a 45-year-old male patient with assigned number 12345. Mr. Smith\\'s health data was collected through a csv file, which included information on his medical conditions and prescribed medications. As a doctor, it is my duty to analyze this data and provide an in-depth understanding of Mr. Smith\\'s health conditions and the impact of his prescribed medications.\\n\\nHypertension:\\n\\nAccording to the csv file, Mr. Smith has been diagnosed with hypertension, indicated by a \"1\" in the relevant column. Hypertension, or high blood pressure, is a common and serious health condition that can lead to various cardiovascular complications. It is important to note that Mr. Smith\\'s blood pressure readings were consistently high, indicating the need for continuous monitoring and management of his condition. As a doctor, I recommend that Mr. Smith follows a well-balanced diet, regular exercise, and takes his prescribed medication, lisinopril, to help control his blood pressure.\\n\\nDiabetes:\\n\\nThe csv file also shows that Mr. Smith has been diagnosed with diabetes, as indicated by a \"1\" in the relevant column. Diabetes is a chronic disease that affects the body\\'s\\n\\n\\n\\nChronic disease is a long-term health condition that requires ongoing management and treatment. It can include a variety of conditions such as diabetes, heart disease, and arthritis. This patient has been diagnosed with a chronic disease and will need to monitor their symptoms and follow a treatment plan to manage their condition. They may need to take medication regularly, attend regular check-ups with their healthcare provider, and make lifestyle changes to improve their overall health and well-being. This condition may require ongoing support and management to prevent complications and maintain a good quality of life. The patient\\'s medical record will document their diagnosis, treatment plan, and any changes in their condition over time.\\n\\n\\n\\nDiabetes is a chronic condition characterized by high levels of glucose (sugar) in the blood. It occurs when the body either does not produce enough insulin (a hormone that helps regulate blood sugar) or does not use insulin effectively. This can lead to serious health complications, such as heart disease, nerve damage, and kidney damage. The patient\\'s health record indicates that they have been diagnosed with type 2 diabetes, which is the most common form of the disease. This means that their body is not using insulin effectively and they may require medication and lifestyle changes to manage their blood sugar levels. Regular monitoring of blood sugar, along with proper diet and exercise, will be crucial in managing their diabetes and preventing any potential complications. \\n\\n\\n\\nGastrointestinal (GI) refers to the digestive system, which includes the stomach, intestines, liver, pancreas, and gallbladder. This system is responsible for breaking down food, absorbing nutrients, and eliminating waste from the body. A patient may have a GI condition or be taking medication for a GI issue, which can include a range of conditions such as acid reflux, irritable bowel syndrome, or Crohn\\'s disease. These conditions can cause symptoms like abdominal pain, bloating, diarrhea, and constipation. Medications for GI issues may include antacids, laxatives, or anti-inflammatory drugs. It is important for healthcare providers to monitor and address any GI concerns in a patient\\'s health record to ensure proper treatment and management of symptoms.\\n\\n\\n\\n\\'Getting worse or not better\\' is a term used in a patient\\'s health record to describe the progression of their condition or the effectiveness of their medication. It indicates that the patient\\'s symptoms are not improving and may be worsening, despite treatment. This could be due to a variety of factors such as a lack of response to the prescribed medication, a need for a change in treatment plan, or the presence of underlying health issues. It is important for healthcare providers to closely monitor patients who are experiencing this condition/medication and reassess their treatment plan to ensure the best possible outcome for the patient\\'s health. \\n\\n\\n\\nHypertension, also known as high blood pressure, is a chronic medical condition in which the force of blood pushing against the walls of the arteries is consistently elevated. This can lead to damage of the blood vessels and organs, such as the heart, brain, and kidneys, over time. In this patient\\'s health record, it is noted that they have been diagnosed with hypertension and are currently being treated with medication to help lower their blood pressure. It is important for this patient to regularly monitor their blood pressure and follow their prescribed treatment plan to prevent complications and maintain overall health. Lifestyle changes, such as maintaining a healthy diet and exercising regularly, may also be recommended to help manage hypertension.\\n\\n\\n\\nKidney disease, also known as chronic kidney disease (CKD), is a condition in which the kidneys are unable to function properly. This can result in a build-up of toxins and waste products in the body, leading to various complications. Common causes of kidney disease include diabetes, high blood pressure, and genetic factors. Symptoms may include fatigue, swelling in the legs and ankles, and changes in urination patterns. Treatment for kidney disease may include lifestyle changes, medication, and in severe cases, dialysis or kidney transplant. It is important for patients with kidney disease to closely monitor their condition and follow their doctor\\'s recommendations to prevent further damage to the kidneys.\\n\\n\\nLong-term care refers to the ongoing medical, personal, and social services provided to individuals who have chronic health conditions or disabilities that limit their ability to perform daily activities. This type of care is typically provided in a specialized facility, such as a nursing home, or by trained professionals in a person\\'s home. In a patient health record, the mention of long-term care may indicate that the individual requires continuous or extended care for their condition, which may include medication management, assistance with daily tasks, and monitoring of their overall health. This information helps healthcare providers understand the level of support the patient may need in managing their condition and developing a treatment plan.\\n\\n\\n\\nObesity and metabolic disorders are present in this patient\\'s health record. Obesity is a condition characterized by excessive body fat, often caused by a combination of genetic, environmental, and behavioral factors. This patient\\'s body mass index (BMI) indicates that they are significantly overweight. Metabolic disorders, on the other hand, refer to a range of conditions that affect the body\\'s metabolism, such as diabetes, high blood pressure, and high cholesterol. These disorders are often linked to obesity and can increase the risk of developing other health issues. It is important for this patient to make lifestyle changes and potentially seek medical treatment in order to manage their weight and prevent further metabolic complications. \\n\\n\\n\\nOsteoarthritis is a type of arthritis that affects the joints, causing pain, stiffness, and limited range of motion. It is a degenerative condition that occurs when the cartilage, the protective tissue between bones, breaks down over time. This can result in bone-on-bone contact, leading to inflammation, pain, and joint damage. Osteoarthritis is a chronic condition that typically worsens over time, and it is more common in older adults. It can affect any joint in the body, but it is most commonly seen in the hands, knees, hips, and spine. Treatment for osteoarthritis may include pain management, physical therapy, and in severe cases, surgery. It is important for patients with osteoarthritis to maintain a healthy weight and engage in low-impact exercise to help manage their symptoms.\\n\\n\\n\\nPain is a common symptom that is reported by many patients and can range from mild discomfort to severe agony. It is often described as a physical sensation of discomfort or distress in a specific part of the body. In the context of a patient\\'s health record, pain is usually documented with a description of its location, severity, duration, and any associated symptoms. The cause of the pain may also be recorded if known. Treatment for pain may include medication, physical therapy, or other interventions. Regular assessments of pain are important to ensure proper management and to monitor the effectiveness of treatment. Patients may also be encouraged to keep a pain diary to track their symptoms and provide valuable information to their healthcare providers. \\n\\n\\n\\nQuality of Life is a measure of a patient\\'s overall well-being and satisfaction with their daily life activities. It takes into account physical, mental, and emotional health, as well as social factors such as relationships and living conditions. This measure is often used to assess the impact of a particular condition or medication on a patient\\'s ability to function and enjoy life. It is an important aspect of a patient\\'s health record as it provides valuable information for healthcare professionals to understand the patient\\'s perspective and make informed treatment decisions. Improving a patient\\'s quality of life is a key goal in healthcare, as it can greatly impact their overall health and happiness. \\n\\n\\n\\nSemaglutide is a medication that is used to treat type 2 diabetes. It is a type of glucagon-like peptide-1 (GLP-1) receptor agonist, which helps to lower blood sugar levels by stimulating insulin production and reducing glucose production in the liver. This medication is usually given as a once-weekly injection and is often prescribed in combination with other diabetes medications. It is important to follow the prescribed dosage and to monitor blood sugar levels regularly while taking semaglutide. Common side effects may include nausea, vomiting, and diarrhea, but these usually improve over time. This medication should not be used in patients with a history of pancreatitis or thyroid cancer. \\n\\n\\n\\nThe patient reports difficulty falling and staying asleep, resulting in poor sleep quality and feeling fatigued during the day. The patient has a history of insomnia and has tried various over-the-counter sleep aids with limited success. The patient also reports feeling anxious and stressed, which may contribute to their sleep difficulties. Physical examination reveals no significant abnormalities, and the patient\\'s medical history does not indicate any underlying conditions that may be causing their sleep issues. The patient is advised to practice good sleep hygiene, such as maintaining a regular sleep schedule and avoiding caffeine and electronics before bedtime. If symptoms persist, further evaluation and treatment options, such as cognitive-behavioral therapy, may be recommended. \\n\\n\\n\\nStress is a common condition that is characterized by feelings of mental or emotional strain. It can be caused by a variety of factors, such as work, relationships, financial problems, or health issues. In this patient\\'s health record, they have reported experiencing high levels of stress in their daily life. They have described symptoms such as difficulty sleeping, racing thoughts, and irritability. The patient\\'s stress levels may be affecting their overall well-being and ability to function normally. As a result, it is important for the healthcare provider to address and manage the patient\\'s stress in order to improve their overall health and quality of life. This may involve counseling, stress management techniques, and potential medication to help alleviate symptoms.']\n",
      " ['N/A, N/A'\n",
      "  '\\n\\nIntroduction:\\n\\nAs a physician, it is my duty to provide comprehensive healthcare to my patients. Today, I had the opportunity to examine and analyze the medical history of Mr. John Smith, a 56-year-old male patient with assigned number 12345. During the course of our consultation, I was able to gather important information regarding his medical conditions and medications. In this public health report, I will be discussing Mr. Smith\\'s relevant illnesses and medications based on the data provided in the csv file.\\n\\nIllness: Type 2 Diabetes Mellitus (T2DM)\\n\\nMr. Smith has been diagnosed with Type 2 Diabetes Mellitus (T2DM) which is a chronic metabolic disorder characterized by high levels of blood glucose. As per the csv data, Mr. Smith has been living with T2DM for the past 10 years and has been prescribed Metformin, a medication commonly used to treat this condition. T2DM is a lifelong illness that requires proper management to prevent complications such as heart disease, kidney disease, and nerve damage. Therefore, it is important for Mr. Smith to adhere to his prescribed medication and follow a healthy lifestyle to control his blood sugar levels.\\n\\nIllness: Hypertension (HTN)\\n\\nMr. Smith also has a history\\n\\n\\n\\nAlzheimer\\'s disease is a progressive and degenerative neurological disorder that affects cognitive function and memory. It is a common cause of dementia in older adults, and the symptoms typically worsen over time. The patient, [Name], has a confirmed diagnosis of Alzheimer\\'s disease, which was made based on their medical history, physical examination, and neurological tests. The patient experiences memory loss, confusion, disorientation, and difficulty with language and problem-solving skills. They are currently prescribed medication to help manage symptoms and slow the progression of the disease. It is important for the patient to receive ongoing care and support to maintain their quality of life and manage any potential complications associated with Alzheimer\\'s disease.\\n\\n\\n\\nArthritis is a chronic inflammatory condition that affects the joints and surrounding tissues. This condition is characterized by pain, stiffness, and swelling in the joints, which can significantly impact a patient\\'s daily activities and quality of life. It can also lead to joint deformities and loss of mobility if left untreated. In this patient\\'s health record, it is noted that they have been diagnosed with rheumatoid arthritis, a type of arthritis that is caused by an autoimmune response. This means that the body\\'s immune system attacks its own tissues, leading to inflammation and joint damage. Treatment for arthritis may include medication, physical therapy, and lifestyle modifications to manage symptoms and slow down the progression of the disease. Regular follow-ups and monitoring are essential to ensure the patient\\'s condition is well-managed. \\n\\n\\n\\nBehavior refers to the way in which an individual acts or conducts themselves in various situations. In the context of a patient health record, behavior may refer to any abnormalities or changes in a patient\\'s actions or reactions. This could include changes in mood, social skills, and interactions with others. Changes in behavior can be indicative of underlying medical conditions such as neurological disorders, mental health conditions, or side effects of medications. It is important for healthcare providers to document any significant changes in a patient\\'s behavior in their health record, as it can provide valuable information for diagnosis and treatment planning. Additionally, any prescribed medications for behavior management should also be accurately recorded in the patient\\'s health record.\\n\\n\\n\\nChronic disease refers to a long-lasting condition that requires ongoing medical management and can significantly impact a patient\\'s health and quality of life. This term encompasses a wide range of conditions such as diabetes, heart disease, asthma, and arthritis, among others. In a patient\\'s health record, chronic disease would be documented as a diagnosis and would include information on the patient\\'s symptoms, treatment plan, and any prescribed medications. It would also include details on the patient\\'s history with the condition, including any previous exacerbations or complications. As a chronic disease requires constant monitoring and management, this information is crucial for healthcare providers to provide appropriate and effective care for the patient. \\n\\n\\n\\nDisabilities refer to any physical, mental, sensory, or cognitive impairment that significantly limits an individual\\'s ability to perform daily activities. These conditions can be present at birth or acquired later in life due to injury, illness, or genetic factors. In a patient\\'s health record, disabilities may be listed as a pre-existing condition and can impact the treatment plan and management of other health issues. It is essential for healthcare providers to be aware of any disabilities a patient may have in order to provide appropriate accommodations and support. This information is also crucial for ensuring the patient\\'s overall health and well-being. \\n\\n\\n\\nThe patient has been advised to incorporate regular exercise into their daily routine in order to improve overall health and well-being. Exercise has been shown to have numerous benefits, including maintaining a healthy weight, reducing the risk of chronic diseases such as heart disease and diabetes, improving mood and mental health, and increasing energy levels. The patient should aim for at least 30 minutes of moderate physical activity, such as brisk walking, on most days of the week. They can also engage in activities they enjoy, such as dancing, swimming, or cycling. It is important for the patient to consult with their healthcare provider before starting any new exercise routine to ensure it is safe for their individual health needs. \\n\\n\\n\\n\"Patient\\'s current condition appears to be deteriorating, with symptoms persisting or worsening despite treatment. Medication prescribed does not seem to be improving the patient\\'s condition. Further monitoring and reassessment of treatment plan may be necessary. Patient advised to report any new or worsening symptoms to healthcare provider. Follow-up appointment scheduled in two weeks to assess progress and make necessary adjustments to treatment plan. Patient advised to continue current medication as prescribed until next appointment. In the meantime, patient should prioritize rest and self-care practices to aid in recovery.\"\\n\\n\\n\\nLong-Term Care refers to a type of healthcare that is provided to patients who require ongoing assistance or supervision due to chronic medical conditions, disabilities, or age-related limitations. This type of care is typically provided in a residential facility, such as a nursing home or assisted living facility, where patients can receive around-the-clock support for their daily needs. Patients receiving long-term care may have conditions such as Alzheimer\\'s disease, Parkinson\\'s disease, or other chronic illnesses that require ongoing management and assistance. This type of care is often documented in a patient\\'s health record to track their progress and ensure that they are receiving the appropriate level of care and support.\\n\\n\\n\\nMemory care is a specialized form of care designed for patients who have been diagnosed with memory disorders, such as Alzheimer\\'s disease or dementia. It is aimed at providing personalized and compassionate care for patients who may have difficulties with memory, thinking, and behavior. This type of care is provided in a safe and secure environment, with specially trained staff who understand the unique needs of these patients. Medications used in memory care may include cholinesterase inhibitors and NMDA receptor antagonists, which can help improve cognitive function and slow down the progression of the disease. Additionally, memory care may also involve various therapies, such as cognitive stimulation and reminiscence therapy, to help patients maintain their cognitive abilities and enhance their quality of life. \\n\\n\\n\\nQuality of Life is a measure of an individual’s satisfaction and well-being in all areas of their life, including physical, mental, and emotional health. This term is often used in the context of a patient’s health record to assess the impact of a condition or medication on their overall quality of life. It takes into account factors such as pain levels, mobility, social and occupational functioning, and emotional state. By tracking changes in quality of life over time, healthcare providers can better understand the effectiveness of treatments and interventions in improving a patient’s overall well-being. It is an important aspect to consider in developing a comprehensive treatment plan that addresses not only the physical symptoms of a condition, but also the patient’s overall quality of life.\\n\\n\\n\\nSleep is a physiological state in which a person\\'s body and mind are inactive and at rest. It is a vital aspect of overall health and well-being, as it allows the body to repair and regenerate cells, conserve energy, and process emotions and memories. The quality and quantity of sleep can greatly impact a person\\'s physical and mental health. In this patient\\'s health record, it is noted that they have been experiencing difficulty with falling or staying asleep. This condition, known as insomnia, may be caused by various factors such as stress, medical conditions, or medications. It is important for the patient to address this issue with their healthcare provider to determine the underlying cause and develop a treatment plan to improve their sleep.\\n\\n\\n\\nStress is a common condition that is characterized by feelings of mental or emotional strain. It can be caused by various factors such as work, family, and personal problems. In this patient\\'s health record, the primary reason for stress is reported to be work-related. The patient has been experiencing symptoms such as anxiety, irritability, and difficulty sleeping. They have also mentioned feeling overwhelmed and having trouble concentrating. The doctor has prescribed medication to help manage the symptoms of stress and has recommended lifestyle changes, such as practicing relaxation techniques and engaging in physical activity, to help reduce the overall stress levels. Regular follow-ups and monitoring of the patient\\'s mental health are advised to ensure proper management of their stress.']\n",
      " ['N/A, N/A'\n",
      "  '\\n\\nIntroduction:\\n\\nJohn Smith is a 45-year-old male patient who presents with several health conditions that require medical attention. He has been assigned the number 12345 for identification purposes. John\\'s medical history includes diabetes, hypertension, and high cholesterol. He is also currently taking several medications to manage these conditions. As a doctor, it is important to thoroughly assess John\\'s health and provide appropriate treatment to improve his overall well-being.\\n\\nDiabetes:\\n\\nJohn has been diagnosed with type 2 diabetes, a chronic condition that affects the body\\'s ability to produce and use insulin effectively. This is evident in his medical record as he has a \"1\" under the diabetes column. Diabetes can lead to serious health complications, including heart disease, nerve damage, and kidney failure. It is important for John to closely monitor his blood sugar levels and follow a healthy diet and exercise routine to manage his diabetes. He is currently taking metformin, an oral medication that helps lower blood sugar levels.\\n\\nHypertension:\\n\\nJohn also has a history of hypertension, or high blood pressure. This is indicated by the \"1\" under the hypertension column in his medical record. Hypertension can increase the risk of heart disease, stroke, and other health problems. To manage his blood pressure, John\\n\\n\\n\\nAnxiety is a mental health condition that is characterized by feelings of intense worry, fear, and nervousness. It is a common mental health disorder that can significantly impact a person\\'s daily life and well-being. The patient reports experiencing overwhelming feelings of anxiety, including racing thoughts, difficulty concentrating, and physical symptoms such as increased heart rate and shortness of breath. The patient also reports having trouble sleeping and experiencing panic attacks. The patient has been diagnosed with generalized anxiety disorder and is currently being treated with medication and therapy to manage their symptoms. Regular follow-up appointments are recommended to monitor the effectiveness of treatment and make any necessary adjustments.\\n\\n \\n\\nBehavior refers to the actions and reactions of an individual in response to their environment. In a patient health record, behavior may be recorded as a symptom or side effect of a condition or medication. This can include changes in mood, agitation, aggression, or other behavioral changes that may impact the patient\\'s daily functioning and quality of life. It is important for healthcare providers to document any behavioral changes in a patient\\'s record in order to monitor their progress and adjust treatment as needed. In some cases, behavior may also be a primary concern and require specific interventions, such as therapy or medication, to address and manage effectively. Accurate and detailed documentation of behavior in a patient\\'s record is crucial for providing comprehensive and individualized care.\\n\\n\\n\\nBipolar disorder is a mental health condition characterized by extreme shifts in mood, energy levels, and behavior. This patient has a history of bipolar disorder, which has been managed with a combination of medication and therapy. They experience periods of intense mania, marked by elevated mood, impulsivity, and risk-taking behavior, as well as periods of deep depression, characterized by low mood, lack of motivation, and feelings of hopelessness. In order to manage their symptoms and maintain stability, this patient is currently taking a mood stabilizer and attends regular therapy sessions. They also have a safety plan in place to monitor their moods and seek help if necessary.\\n\\n\\n\\nDepression is a common mental health disorder that affects the patient\\'s mood, thoughts, and overall functioning. It is characterized by persistent feelings of sadness, hopelessness, and loss of interest in activities that the patient used to enjoy. The patient may also experience changes in appetite and sleep patterns, difficulty concentrating, and low energy levels. In this patient\\'s health record, it is noted that they have been diagnosed with depression and are currently being treated with antidepressant medication. The patient reports feeling overwhelmed and having trouble coping with daily tasks. Regular therapy sessions and medication management are recommended to help manage their symptoms and improve their overall well-being.\\n\\n\\n\\nDrug-induced delirium, also known as medication-induced delirium, is a temporary state of confusion and disorientation caused by certain medications. This condition is often seen in patients who are elderly or have underlying health conditions. In the context of this patient\\'s health record, it is important to note any medications that may have contributed to their delirium, as well as any changes in their mental status or behavior. Close monitoring and prompt treatment of this condition is necessary to prevent further complications and ensure the patient\\'s safety. It is also important to review the patient\\'s medication regimen and consider adjusting any medications that may be causing or exacerbating the delirium. \\n\\n\\n\\nExercise is a form of physical activity that involves movement of the body and can range from light activities such as walking to more intense activities such as running or weightlifting. It is often recommended as a treatment or preventative measure for various health conditions, such as high blood pressure, diabetes, and obesity. Regular exercise has been shown to improve overall physical and mental well-being, increase muscle strength and flexibility, and reduce the risk of chronic diseases. In this patient\\'s health record, exercise is listed as a prescribed treatment plan to manage their condition and improve their overall health. It is important for the patient to follow their exercise regimen as directed by their healthcare provider to achieve the desired health outcomes.\\n\\n\\n\\nThe patient\\'s condition has been noted as \"getting worse or not better\" in their health record. This means that despite treatment or interventions, the patient\\'s symptoms or overall health have not shown any improvement and may actually be deteriorating. This could be a concerning sign for the patient\\'s healthcare team, as it may indicate that the current course of treatment is not effective and may need to be adjusted. Further evaluation and monitoring may be necessary to determine the cause of the lack of improvement and to develop a new treatment plan. It is important for the patient to communicate any changes in their condition to their healthcare provider so that appropriate actions can be taken.\\n\\n\\n\\nHospital admission refers to the process of a patient being admitted to a hospital for medical treatment. This can occur for a variety of reasons, such as a planned surgery, an emergency medical situation, or a worsening of a chronic condition. During a hospital admission, the patient\\'s vital signs and medical history are assessed, and they may undergo various diagnostic tests and receive treatments such as medications or procedures. The length of a hospital admission can vary depending on the patient\\'s condition and the type of care they require. Once the patient is stabilized and their condition improves, they may be discharged from the hospital. Hospital admission is documented in a patient\\'s health record to track their medical history and treatment. \\n\\n\\n\\nHospital readmission refers to the process of a patient being admitted to a hospital for treatment after being discharged from a previous hospital stay. This may occur due to a variety of reasons, such as complications from a previous treatment, a new medical issue, or the need for further monitoring or care. Hospital readmissions are often closely monitored and tracked in a patient\\'s health record, as they can indicate the effectiveness of the initial treatment and the overall health of the patient. In some cases, readmissions may be preventable through proper follow-up care and management of chronic conditions. It is important for healthcare providers to carefully review a patient\\'s health record and address any potential issues to reduce the likelihood of readmission.\\n\\n\\n\\nLong-term care refers to the ongoing medical and non-medical support provided to individuals who have chronic or long-term health conditions that prevent them from being fully independent. This type of care is typically provided in a residential setting, such as a nursing home or assisted living facility, and can include assistance with activities of daily living, medication management, and specialized medical treatments. In a patient health record, the documentation of long-term care would include information about the patient\\'s medical history, current health conditions, and specific care plans and treatments that have been prescribed by healthcare professionals. It is important for healthcare providers to regularly review and update the long-term care plan to ensure the patient\\'s needs are being met and their overall health is being monitored.\\n\\n\\n\\nA Mental Health Questionnaire is a diagnostic tool used to assess an individual\\'s mental health. It consists of a series of questions that evaluate a person\\'s thoughts, feelings, behaviors, and overall well-being. This questionnaire is often used in the context of a patient\\'s health record to gather information about their mental health history, symptoms, and any potential underlying issues. The results of this assessment can help healthcare professionals make a diagnosis and develop an appropriate treatment plan for the patient. It is an important part of a patient\\'s health record as it provides valuable insight into their mental health status and helps guide their ongoing care. \\n\\n\\n\\nStress is a mental and emotional state that can have a significant impact on a patient\\'s overall health and well-being. It can be caused by a variety of factors, such as work, relationships, financial concerns, or health issues. Symptoms of stress may include anxiety, irritability, difficulty sleeping, and physical symptoms like headaches or muscle tension. In some cases, chronic stress can lead to more serious conditions such as depression or high blood pressure. Treatment for stress may involve lifestyle changes, therapy, or medication, depending on the severity and underlying causes. It is important for patients to address and manage their stress levels to prevent potential negative effects on their health.']]\n"
     ]
    },
    {
     "name": "stderr",
     "output_type": "stream",
     "text": [
      "c:\\Users\\noliv\\phi_generation_repo_destination\\phi_generation\\venv_ftw_1\\Lib\\site-packages\\anndata\\_core\\aligned_df.py:68: ImplicitModificationWarning: Transforming to str index.\n",
      "  warnings.warn(\"Transforming to str index.\", ImplicitModificationWarning)\n"
     ]
    }
   ],
   "source": [
    "from code_files.st_to_unst_module import st_to_unst as sun\n",
    "import pandas as pd\n",
    "\n",
    "# Define the path to your patient data CSV file\n",
    "patient_csv_file = r\"C:\\Users\\noliv\\Downloads\\structured_data_filled.csv\" # Replace with the actual path\n",
    "\n",
    "\n",
    "\n",
    "print(\"\\n--- Creating AnnData Object from CSV ---\")\n",
    "try:\n",
    "    adata = sun.create_anndata_from_csv(patient_csv_file, patient_id_columns=[\"PatientID\", \"Name\"])\n",
    "\n",
    "    # Explore the AnnData object\n",
    "    print(adata)  # Print basic information\n",
    "    print(\"\\nSample of structured patient data (adata.obs):\")\n",
    "    print(adata.obs.head())  # Show the first few rows of the original CSV data\n",
    "\n",
    "    print(\"\\nSample of unstructured patient reports (adata.X):\")\n",
    "    if isinstance(adata.X, pd.DataFrame):\n",
    "        print(adata.X.head())\n",
    "    else:\n",
    "        print(\"adata.X is not a DataFrame. Showing raw data:\")\n",
    "        print(adata.X)  # Or print(adata.X.toarray()) if it's a sparse matrix\n",
    "\n",
    "except FileNotFoundError:\n",
    "    print(f\"Error: CSV file not found at {patient_csv_file}\")\n",
    "except Exception as e:\n",
    "    print(f\"An error occurred: {e}\")"
   ]
  },
  {
   "cell_type": "code",
   "execution_count": null,
   "id": "ece8dfcd",
   "metadata": {},
   "outputs": [
    {
     "name": "stdout",
     "output_type": "stream",
     "text": [
      "\n",
      "--- Loaded CSV Data ---\n",
      "{'Patient Name': 'Kathryn', 'Patient Age': '26', 'Alzheimers': '0', 'Anxiety': '1', 'Arthritis': 'N/A', 'Behavior': '1', 'Bipolar': '0', 'Cannabis': '1', 'Cardio': '1', 'Chronic Disease': '0', 'Depression': 'N/A', 'Diabetes': '0', 'Dieting': '0', 'Disabilities': '0', 'Drug-Induced Delirium': '0', 'Exercise': '0', 'Gastrointestinal': '0', 'Getting Worse or Not Better': '0', 'Hospital Admission': '0', 'Hospital Readmission': '0', 'Hypertension': '0', 'Kidney Disease': '0', 'Long-Term Care': '0', 'Memory Care': '0', 'Mental Health Questionnaire': '0', 'Obesity/Metabolic': '0', 'Osteoarthritis': '0', 'Pain': '0', 'Prediabetes': '0', 'Quality of Life': '0', 'Semaglutide': '0', 'Sleep': '0', 'Stress': '0'}\n",
      "{'Patient Name': 'Michael', 'Patient Age': '38', 'Alzheimers': '0', 'Anxiety': '0', 'Arthritis': '0', 'Behavior': '0', 'Bipolar': '0', 'Cannabis': '0', 'Cardio': '1', 'Chronic Disease': '0', 'Depression': '0', 'Diabetes': '0', 'Dieting': '0', 'Disabilities': '0', 'Drug-Induced Delirium': '0', 'Exercise': '1', 'Gastrointestinal': '0', 'Getting Worse or Not Better': '0', 'Hospital Admission': '0', 'Hospital Readmission': '0', 'Hypertension': '0', 'Kidney Disease': '0', 'Long-Term Care': '0', 'Memory Care': '0', 'Mental Health Questionnaire': '0', 'Obesity/Metabolic': '0', 'Osteoarthritis': '0', 'Pain': '0', 'Prediabetes': '0', 'Quality of Life': '1', 'Semaglutide': '0', 'Sleep': '1', 'Stress': '0'}\n",
      "{'Patient Name': 'Kevin', 'Patient Age': '17', 'Alzheimers': '0', 'Anxiety': '1', 'Arthritis': '0', 'Behavior': '0', 'Bipolar': '0', 'Cannabis': '1', 'Cardio': '0', 'Chronic Disease': '0', 'Depression': '0', 'Diabetes': '0', 'Dieting': '1', 'Disabilities': '0', 'Drug-Induced Delirium': '0', 'Exercise': '0', 'Gastrointestinal': '1', 'Getting Worse or Not Better': '1', 'Hospital Admission': '0', 'Hospital Readmission': '0', 'Hypertension': '0', 'Kidney Disease': '0', 'Long-Term Care': '0', 'Memory Care': '0', 'Mental Health Questionnaire': '0', 'Obesity/Metabolic': '0', 'Osteoarthritis': '0', 'Pain': '0', 'Prediabetes': '0', 'Quality of Life': '0', 'Semaglutide': '0', 'Sleep': '0', 'Stress': '0'}\n",
      "{'Patient Name': 'Megan', 'Patient Age': '25', 'Alzheimers': '0', 'Anxiety': '1', 'Arthritis': '0', 'Behavior': '1', 'Bipolar': '1', 'Cannabis': '1', 'Cardio': '1', 'Chronic Disease': '1', 'Depression': '1', 'Diabetes': '0', 'Dieting': '1', 'Disabilities': '0', 'Drug-Induced Delirium': '0', 'Exercise': '1', 'Gastrointestinal': '1', 'Getting Worse or Not Better': '1', 'Hospital Admission': '0', 'Hospital Readmission': '0', 'Hypertension': '0', 'Kidney Disease': '0', 'Long-Term Care': '1', 'Memory Care': '0', 'Mental Health Questionnaire': '1', 'Obesity/Metabolic': '0', 'Osteoarthritis': '0', 'Pain': '0', 'Prediabetes': '0', 'Quality of Life': '1', 'Semaglutide': '0', 'Sleep': '1', 'Stress': '1'}\n",
      "{'Patient Name': 'Brian', 'Patient Age': '62', 'Alzheimers': '0', 'Anxiety': '0', 'Arthritis': '0', 'Behavior': '0', 'Bipolar': '0', 'Cannabis': '0', 'Cardio': '0', 'Chronic Disease': '1', 'Depression': '0', 'Diabetes': '1', 'Dieting': '0', 'Disabilities': '0', 'Drug-Induced Delirium': '0', 'Exercise': '0', 'Gastrointestinal': '1', 'Getting Worse or Not Better': '1', 'Hospital Admission': '0', 'Hospital Readmission': '0', 'Hypertension': '1', 'Kidney Disease': '1', 'Long-Term Care': '1', 'Memory Care': '0', 'Mental Health Questionnaire': '0', 'Obesity/Metabolic': '1', 'Osteoarthritis': '1', 'Pain': '1', 'Prediabetes': '0', 'Quality of Life': '1', 'Semaglutide': '1', 'Sleep': '1', 'Stress': '1'}\n",
      "{'Patient Name': 'Jeffrey', 'Patient Age': '82', 'Alzheimers': '1', 'Anxiety': '0', 'Arthritis': '1', 'Behavior': '1', 'Bipolar': '', 'Cannabis': '0', 'Cardio': '0', 'Chronic Disease': '1', 'Depression': '0', 'Diabetes': '0', 'Dieting': '0', 'Disabilities': '1', 'Drug-Induced Delirium': '0', 'Exercise': '1', 'Gastrointestinal': '0', 'Getting Worse or Not Better': '1', 'Hospital Admission': '0', 'Hospital Readmission': '0', 'Hypertension': '0', 'Kidney Disease': '0', 'Long-Term Care': '1', 'Memory Care': '1', 'Mental Health Questionnaire': '0', 'Obesity/Metabolic': '0', 'Osteoarthritis': '0', 'Pain': '0', 'Prediabetes': '0', 'Quality of Life': '1', 'Semaglutide': '0', 'Sleep': '1', 'Stress': '1'}\n",
      "{'Patient Name': 'Lia', 'Patient Age': '41', 'Alzheimers': '0', 'Anxiety': '1', 'Arthritis': '0', 'Behavior': '1', 'Bipolar': '1', 'Cannabis': '0', 'Cardio': '0', 'Chronic Disease': '0', 'Depression': '1', 'Diabetes': '0', 'Dieting': '0', 'Disabilities': '0', 'Drug-Induced Delirium': '1', 'Exercise': '1', 'Gastrointestinal': '0', 'Getting Worse or Not Better': '1', 'Hospital Admission': '1', 'Hospital Readmission': '1', 'Hypertension': '0', 'Kidney Disease': '0', 'Long-Term Care': '1', 'Memory Care': '0', 'Mental Health Questionnaire': '1', 'Obesity/Metabolic': '0', 'Osteoarthritis': '0', 'Pain': '0', 'Prediabetes': '0', 'Quality of Life': '0', 'Semaglutide': '0', 'Sleep': '0', 'Stress': '1'}\n",
      "--- End Loaded CSV Data ---\n"
     ]
    }
   ],
   "source": [
    "import csv\n",
    "\n",
    "csv_file_path =  r\"C:\\Users\\noliv\\Downloads\\structured_data_filled.csv\" # Replace with your actual path\n",
    "\n",
    "try:\n",
    "    with open(csv_file_path, 'r', newline='') as csvfile:\n",
    "        reader = csv.DictReader(csvfile)\n",
    "        patient_data = list(reader)\n",
    "\n",
    "    print(\"\\n--- Loaded CSV Data ---\")\n",
    "    for row in patient_data:\n",
    "        print(row)\n",
    "    print(\"--- End Loaded CSV Data ---\")\n",
    "\n",
    "except FileNotFoundError:\n",
    "    print(f\"Error: CSV file not found at {csv_file_path}\")\n",
    "except Exception as e:\n",
    "    print(f\"An error occurred while loading CSV: {e}\")"
   ]
  },
  {
   "cell_type": "code",
   "execution_count": null,
   "id": "a3646b03",
   "metadata": {},
   "outputs": [
    {
     "name": "stdout",
     "output_type": "stream",
     "text": [
      "\n",
      "--- Loaded CSV Data ---\n",
      "{'Patient Name': 'Kathryn', 'Patient Age': '26', 'Alzheimers': '0', 'Anxiety': '1', 'Arthritis': 'N/A', 'Behavior': '1', 'Bipolar': '0', 'Cannabis': '1', 'Cardio': '1', 'Chronic Disease': '0', 'Depression': 'N/A', 'Diabetes': '0', 'Dieting': '0', 'Disabilities': '0', 'Drug-Induced Delirium': '0', 'Exercise': '0', 'Gastrointestinal': '0', 'Getting Worse or Not Better': '0', 'Hospital Admission': '0', 'Hospital Readmission': '0', 'Hypertension': '0', 'Kidney Disease': '0', 'Long-Term Care': '0', 'Memory Care': '0', 'Mental Health Questionnaire': '0', 'Obesity/Metabolic': '0', 'Osteoarthritis': '0', 'Pain': '0', 'Prediabetes': '0', 'Quality of Life': '0', 'Semaglutide': '0', 'Sleep': '0', 'Stress': '0'}\n",
      "{'Patient Name': 'Michael', 'Patient Age': '38', 'Alzheimers': '0', 'Anxiety': '0', 'Arthritis': '0', 'Behavior': '0', 'Bipolar': '0', 'Cannabis': '0', 'Cardio': '1', 'Chronic Disease': '0', 'Depression': '0', 'Diabetes': '0', 'Dieting': '0', 'Disabilities': '0', 'Drug-Induced Delirium': '0', 'Exercise': '1', 'Gastrointestinal': '0', 'Getting Worse or Not Better': '0', 'Hospital Admission': '0', 'Hospital Readmission': '0', 'Hypertension': '0', 'Kidney Disease': '0', 'Long-Term Care': '0', 'Memory Care': '0', 'Mental Health Questionnaire': '0', 'Obesity/Metabolic': '0', 'Osteoarthritis': '0', 'Pain': '0', 'Prediabetes': '0', 'Quality of Life': '1', 'Semaglutide': '0', 'Sleep': '1', 'Stress': '0'}\n",
      "{'Patient Name': 'Kevin', 'Patient Age': '17', 'Alzheimers': '0', 'Anxiety': '1', 'Arthritis': '0', 'Behavior': '0', 'Bipolar': '0', 'Cannabis': '1', 'Cardio': '0', 'Chronic Disease': '0', 'Depression': '0', 'Diabetes': '0', 'Dieting': '1', 'Disabilities': '0', 'Drug-Induced Delirium': '0', 'Exercise': '0', 'Gastrointestinal': '1', 'Getting Worse or Not Better': '1', 'Hospital Admission': '0', 'Hospital Readmission': '0', 'Hypertension': '0', 'Kidney Disease': '0', 'Long-Term Care': '0', 'Memory Care': '0', 'Mental Health Questionnaire': '0', 'Obesity/Metabolic': '0', 'Osteoarthritis': '0', 'Pain': '0', 'Prediabetes': '0', 'Quality of Life': '0', 'Semaglutide': '0', 'Sleep': '0', 'Stress': '0'}\n",
      "{'Patient Name': 'Megan', 'Patient Age': '25', 'Alzheimers': '0', 'Anxiety': '1', 'Arthritis': '0', 'Behavior': '1', 'Bipolar': '1', 'Cannabis': '1', 'Cardio': '1', 'Chronic Disease': '1', 'Depression': '1', 'Diabetes': '0', 'Dieting': '1', 'Disabilities': '0', 'Drug-Induced Delirium': '0', 'Exercise': '1', 'Gastrointestinal': '1', 'Getting Worse or Not Better': '1', 'Hospital Admission': '0', 'Hospital Readmission': '0', 'Hypertension': '0', 'Kidney Disease': '0', 'Long-Term Care': '1', 'Memory Care': '0', 'Mental Health Questionnaire': '1', 'Obesity/Metabolic': '0', 'Osteoarthritis': '0', 'Pain': '0', 'Prediabetes': '0', 'Quality of Life': '1', 'Semaglutide': '0', 'Sleep': '1', 'Stress': '1'}\n",
      "{'Patient Name': 'Brian', 'Patient Age': '62', 'Alzheimers': '0', 'Anxiety': '0', 'Arthritis': '0', 'Behavior': '0', 'Bipolar': '0', 'Cannabis': '0', 'Cardio': '0', 'Chronic Disease': '1', 'Depression': '0', 'Diabetes': '1', 'Dieting': '0', 'Disabilities': '0', 'Drug-Induced Delirium': '0', 'Exercise': '0', 'Gastrointestinal': '1', 'Getting Worse or Not Better': '1', 'Hospital Admission': '0', 'Hospital Readmission': '0', 'Hypertension': '1', 'Kidney Disease': '1', 'Long-Term Care': '1', 'Memory Care': '0', 'Mental Health Questionnaire': '0', 'Obesity/Metabolic': '1', 'Osteoarthritis': '1', 'Pain': '1', 'Prediabetes': '0', 'Quality of Life': '1', 'Semaglutide': '1', 'Sleep': '1', 'Stress': '1'}\n",
      "{'Patient Name': 'Jeffrey', 'Patient Age': '82', 'Alzheimers': '1', 'Anxiety': '0', 'Arthritis': '1', 'Behavior': '1', 'Bipolar': '', 'Cannabis': '0', 'Cardio': '0', 'Chronic Disease': '1', 'Depression': '0', 'Diabetes': '0', 'Dieting': '0', 'Disabilities': '1', 'Drug-Induced Delirium': '0', 'Exercise': '1', 'Gastrointestinal': '0', 'Getting Worse or Not Better': '1', 'Hospital Admission': '0', 'Hospital Readmission': '0', 'Hypertension': '0', 'Kidney Disease': '0', 'Long-Term Care': '1', 'Memory Care': '1', 'Mental Health Questionnaire': '0', 'Obesity/Metabolic': '0', 'Osteoarthritis': '0', 'Pain': '0', 'Prediabetes': '0', 'Quality of Life': '1', 'Semaglutide': '0', 'Sleep': '1', 'Stress': '1'}\n",
      "{'Patient Name': 'Lia', 'Patient Age': '41', 'Alzheimers': '0', 'Anxiety': '1', 'Arthritis': '0', 'Behavior': '1', 'Bipolar': '1', 'Cannabis': '0', 'Cardio': '0', 'Chronic Disease': '0', 'Depression': '1', 'Diabetes': '0', 'Dieting': '0', 'Disabilities': '0', 'Drug-Induced Delirium': '1', 'Exercise': '1', 'Gastrointestinal': '0', 'Getting Worse or Not Better': '1', 'Hospital Admission': '1', 'Hospital Readmission': '1', 'Hypertension': '0', 'Kidney Disease': '0', 'Long-Term Care': '1', 'Memory Care': '0', 'Mental Health Questionnaire': '1', 'Obesity/Metabolic': '0', 'Osteoarthritis': '0', 'Pain': '0', 'Prediabetes': '0', 'Quality of Life': '0', 'Semaglutide': '0', 'Sleep': '0', 'Stress': '1'}\n",
      "--- End Loaded CSV Data ---\n"
     ]
    }
   ],
   "source": [
    "import csv\n",
    "\n",
    "csv_file_path = r\"C:\\Users\\noliv\\Downloads\\structured_data_filled.csv\"  # Replace with your actual path\n",
    "\n",
    "try:\n",
    "    with open(csv_file_path, 'r', newline='') as csvfile:\n",
    "        reader = csv.DictReader(csvfile)\n",
    "        patient_data = list(reader)\n",
    "\n",
    "    print(\"\\n--- Loaded CSV Data ---\")\n",
    "    for row in patient_data:\n",
    "        print(row)\n",
    "    print(\"--- End Loaded CSV Data ---\")\n",
    "\n",
    "except FileNotFoundError:\n",
    "    print(f\"Error: CSV file not found at {csv_file_path}\")\n",
    "except Exception as e:\n",
    "    print(f\"An error occurred while loading CSV: {e}\")"
   ]
  },
  {
   "cell_type": "code",
   "execution_count": null,
   "id": "fe870304",
   "metadata": {},
   "outputs": [],
   "source": []
  },
  {
   "cell_type": "markdown",
   "id": "9a11f2f9",
   "metadata": {},
   "source": []
  },
  {
   "cell_type": "markdown",
   "id": "af7b52c0",
   "metadata": {},
   "source": [
    "## Conclusion"
   ]
  },
  {
   "cell_type": "markdown",
   "id": "2be12fc5",
   "metadata": {},
   "source": [
    "This tutorial demonstrated how to use the `phi_generation` library to ingest data from CSV files and local Markdown files, build a RAG database, and query it with the option to include CSV data directly in the prompt. The `utils` module provides helpful functions for data handling, and the direct function calls offer a more integrated experience within the Jupyter Notebook. "
   ]
  },
  {
   "cell_type": "markdown",
   "id": "0a5bff53",
   "metadata": {},
   "source": []
  },
  {
   "cell_type": "markdown",
   "id": "c47c37bc",
   "metadata": {},
   "source": [
    "# A Tutorial for the phi_generation Library: Data-Driven Prompting and RAG\n"
   ]
  },
  {
   "cell_type": "markdown",
   "id": "c63739d3",
   "metadata": {},
   "source": [
    "## Introduction"
   ]
  },
  {
   "cell_type": "markdown",
   "id": "60f6bc48",
   "metadata": {},
   "source": [
    "\n",
    "This tutorial demonstrates the key features of the `phi_generation` library, focusing on data ingestion from CSV, preparing data for a Retrieval-Augmented Generation (RAG) pipeline, and querying the RAG database with CSV context.\n",
    "\n",
    "The library is designed to address the challenge of language models inserting unwanted context in responses, especially in sensitive domains like medical notes. By grounding the model in specific data and controlling the prompt, this tool aims to provide more focused and relevant answers.\n",
    "\n"
   ]
  },
  {
   "cell_type": "markdown",
   "id": "18d2d666",
   "metadata": {},
   "source": [
    "**Note:** This tutorial assumes you have the `phi_generation` library installed.\n",
    "\n",
    "After making changes to the code, you need to rebuild and reinstall the package.\n",
    "Run the following commands in your `phi_generation` project root:"
   ]
  },
  {
   "cell_type": "code",
   "execution_count": null,
   "id": "e20c7a8d",
   "metadata": {
    "vscode": {
     "languageId": "shellscript"
    }
   },
   "outputs": [],
   "source": [
    "# !python -m build\n",
    "# !pip install dist/phi_generation-0.1.0.tar.gz --upgrade"
   ]
  },
  {
   "cell_type": "markdown",
   "id": "acd7e605",
   "metadata": {},
   "source": [
    "Then, restart the Jupyter kernel to ensure the updated package is used."
   ]
  },
  {
   "cell_type": "markdown",
   "id": "9a446074",
   "metadata": {},
   "source": [
    "## 1. Preparing Data from CSV for RAG"
   ]
  },
  {
   "cell_type": "markdown",
   "id": "cb242f3d",
   "metadata": {},
   "source": [
    "This section demonstrates how to convert structured data \n",
    "in a CSV file into a format suitable for the RAG database. We'll use the `utils` module to convert the CSV to a Markdown table and then save it as a `.md` file in the data directory."
   ]
  },
  {
   "cell_type": "markdown",
   "id": "974fcdbb",
   "metadata": {},
   "source": [
    "### Converting CSV to Markdown Table"
   ]
  },
  {
   "cell_type": "code",
   "execution_count": null,
   "id": "3c2b4110",
   "metadata": {},
   "outputs": [
    {
     "name": "stdout",
     "output_type": "stream",
     "text": [
      "Successfully converted CSV to Markdown table.\n",
      "\n",
      "--- Markdown Table Preview ---\n",
      "| Patient Name   |   Patient Age |   Alzheimers |   Anxiety |   Arthritis |   Behavior |   Bipolar |   Cannabis |   Cardio |   Chronic Disease |   Depression |   Diabetes |   Dieting |   Disabilities |   Drug-Induced Delirium |   Exercise |   Gastrointestinal |   Getting Worse or Not Better |   Hospital Admission |   Hospital Readmission |   Hypertension |   Kidney Disease |   Long-Term Care |   Memory Care |   Mental Health Questionnaire |   Obesity/Metabolic |   Osteoarthritis |   Pain |   Pre...\n",
      "--- End Preview ---\n",
      "Markdown table written to c:\\Users\\noliv\\phi_generation_repo_destination\\phi_generation\\code_files\\..\\data\\from_csv_data.md\n",
      "Error: File not found at code_files/data/from_csv_data.md\n"
     ]
    }
   ],
   "source": [
    "import os\n",
    "from code_files import utils as ut\n",
    "\n",
    "# Define the path to your CSV file (for example: user will cahange)\n",
    "\n",
    "csv_file_path = r\"C:\\Users\\noliv\\Downloads\\structured_data_filled.csv\"\n",
    "\n",
    "# Convert the CSV to a Markdown table\n",
    "markdown_table = ut.csv_to_markdown_table(csv_file_path)\n",
    "\n",
    "if isinstance(markdown_table, str) and markdown_table.startswith(\"Error\"):\n",
    "    print(markdown_table)\n",
    "else:\n",
    "    print(\"Successfully converted CSV to Markdown table.\")\n",
    "    print(\"\\n--- Markdown Table Preview ---\")\n",
    "    print(markdown_table[:500] + \"...\\n--- End Preview ---\") # Preview a part of the table\n",
    "\n",
    "    # Save the Markdown table to the data directory\n",
    "    save_message = ut.markdown_table_to_data_dir(markdown_table, filename=\"from_csv_data.md\")\n",
    "    print(save_message)\n",
    "\n",
    "    # Copy the generated Markdown file to the RAG data directory\n",
    "    # Assuming your notebook is in the project root\n",
    "    local_md_path = \"code_files/data/from_csv_data.md\"\n",
    "    ut.copy_markdown_to_rag_data(local_md_path)\n"
   ]
  },
  {
   "cell_type": "markdown",
   "id": "4dee6cec",
   "metadata": {},
   "source": [
    "## 2. Creating the RAG Database"
   ]
  },
  {
   "cell_type": "markdown",
   "id": "b33c5d7e",
   "metadata": {},
   "source": [
    "Now that we have our data (potentially supplemented by other `.md` files in the `code_files/rag_module/data` directory), we'll create the Chroma vector database using the `create_database` module. This process loads the documents, splits them into chunks, generates embeddings, and saves them to the `chroma` directory."
   ]
  },
  {
   "cell_type": "code",
   "execution_count": null,
   "id": "d49f2867",
   "metadata": {},
   "outputs": [
    {
     "name": "stderr",
     "output_type": "stream",
     "text": [
      "libmagic is unavailable but assists in filetype detection. Please consider installing libmagic for better results.\n",
      "libmagic is unavailable but assists in filetype detection. Please consider installing libmagic for better results.\n",
      "libmagic is unavailable but assists in filetype detection. Please consider installing libmagic for better results.\n"
     ]
    },
    {
     "name": "stdout",
     "output_type": "stream",
     "text": [
      "--- Generating Data Store ---\n",
      "Loaded 3 documents.\n",
      "Split documents into 97 chunks.\n",
      "Error saving to Chroma: [WinError 32] The process cannot access the file because it is being used by another process: 'chroma\\\\daee5f4c-9b22-493e-b188-e19f8df24101\\\\data_level0.bin'\n",
      "--- Data Store Generation Complete ---\n",
      "\n",
      "RAG database generation complete.\n"
     ]
    }
   ],
   "source": [
    "from code_files.rag_module import create_database as crd\n",
    "\n",
    "# Run the database generation process\n",
    "crd.generate_data_store()\n",
    "print(\"\\nRAG database generation complete.\")"
   ]
  },
  {
   "cell_type": "markdown",
   "id": "a2802821",
   "metadata": {},
   "source": [
    "## 3. Querying the RAG Database with Optional CSV Context"
   ]
  },
  {
   "cell_type": "markdown",
   "id": "cb67a69d",
   "metadata": {},
   "source": [
    "This section demonstrates how to query the RAG database using the `query_data` module. Notably, this version of the query tool allows you to optionally provide a CSV file path, whose content will be included in the prompt to the language model along with the retrieved context."
   ]
  },
  {
   "cell_type": "markdown",
   "id": "a822a8c9",
   "metadata": {},
   "source": [
    "### Option A: Querying witout a CSV file"
   ]
  },
  {
   "cell_type": "markdown",
   "id": "a42bcb09",
   "metadata": {},
   "source": [
    "Example with an unhelpful query"
   ]
  },
  {
   "cell_type": "code",
   "execution_count": null,
   "id": "be803ccd",
   "metadata": {},
   "outputs": [
    {
     "name": "stdout",
     "output_type": "stream",
     "text": [
      "\n",
      "--- Querying without CSV Context ---\n",
      "Response: I'm sorry, there is no question provided in the context given. Can you please provide more information or specify the question you would like me to answer?\n",
      "Sources: ['C:\\\\Users\\\\noliv\\\\phi_generation_repo_destination\\\\phi_generation\\\\code_files\\\\rag_module\\\\data\\\\connor_soap_therapy.md', 'C:\\\\Users\\\\noliv\\\\phi_generation_repo_destination\\\\phi_generation\\\\code_files\\\\rag_module\\\\data\\\\connor_soap_therapy.md', 'C:\\\\Users\\\\noliv\\\\phi_generation_repo_destination\\\\phi_generation\\\\code_files\\\\rag_module\\\\data\\\\connor_soap_therapy.md']\n"
     ]
    }
   ],
   "source": [
    "from code_files.rag_module import query_data as qd\n",
    "\n",
    "# Define the query text\n",
    "query = \"Answer the question based on the information provided.\"\n",
    "\n",
    "# Option 1: Query without providing a CSV file\n",
    "print(\"\\n--- Querying without CSV Context ---\")\n",
    "response_no_csv = qd.query_rag_with_csv(query)\n",
    "print(response_no_csv)"
   ]
  },
  {
   "cell_type": "markdown",
   "id": "6a7905e4",
   "metadata": {},
   "source": [
    "Example with a more helpful query"
   ]
  },
  {
   "cell_type": "markdown",
   "id": "4f301531",
   "metadata": {},
   "source": [
    "### Option B: Query with a CSV file that provides additonal context to the prompt"
   ]
  },
  {
   "cell_type": "code",
   "execution_count": null,
   "id": "b0b5caf5",
   "metadata": {},
   "outputs": [
    {
     "name": "stdout",
     "output_type": "stream",
     "text": [
      "\n",
      "--- Querying with CSV Context ---\n",
      "Error running query_data.py with CSV: Command '['python', 'code_files/rag_module/query_data.py', 'Answer the question based on the information provided.', '--csv_file', 'path/to/your/supplemental_data.csv']' returned non-zero exit status 1.\n"
     ]
    }
   ],
   "source": [
    "print(\"\\n--- Querying with CSV Context ---\")\n",
    "csv_file_for_query = \"path/to/your/supplemental_data.csv\" # Replace with a relevant CSV path\n",
    "\n",
    "try:\n",
    "    result = subprocess.run(\n",
    "        [\"python\", \"code_files/rag_module/query_data.py\", query, \"--csv_file\", csv_file_for_query],\n",
    "        capture_output=True,\n",
    "        text=True,\n",
    "        check=True\n",
    "    )\n",
    "    print(result.stdout)\n",
    "    if result.stderr:\n",
    "        print(f\"Error during query with CSV: {result.stderr}\")\n",
    "except subprocess.CalledProcessError as e:\n",
    "    print(f\"Error running query_data.py with CSV: {e}\")\n",
    "except FileNotFoundError:\n",
    "    print(\"Error: query_data.py or the specified CSV file not found. Ensure the paths are correct.\")\n"
   ]
  },
  {
   "cell_type": "markdown",
   "id": "3180a68e",
   "metadata": {},
   "source": [
    "## 4. Comparing Embeddings (Optional)"
   ]
  },
  {
   "cell_type": "markdown",
   "id": "a48afe5d",
   "metadata": {},
   "source": [
    "The `compare_embeddings` module allows you to query the database directly and see the retrieved documents along with their relevance scores. This can be useful for understanding how well the embeddings are working."
   ]
  },
  {
   "cell_type": "code",
   "execution_count": null,
   "id": "300130ff",
   "metadata": {},
   "outputs": [
    {
     "name": "stdout",
     "output_type": "stream",
     "text": [
      "\n",
      "--- Comparing Embeddings ---\n",
      "Error running compare_embeddings.py: Command '['python', 'code_files/rag_module/compare_embeddings.py', 'What are some key details?']' returned non-zero exit status 1.\n"
     ]
    }
   ],
   "source": [
    "print(\"\\n--- Comparing Embeddings ---\")\n",
    "query_for_comparison = \"What are some key details?\"\n",
    "\n",
    "try:\n",
    "    result = subprocess.run(\n",
    "        [\"python\", \"code_files/rag_module/compare_embeddings.py\", query_for_comparison],\n",
    "        capture_output=True,\n",
    "        text=True,\n",
    "        check=True\n",
    "    )\n",
    "    print(result.stdout)\n",
    "    if result.stderr:\n",
    "        print(f\"Error during embedding comparison: {result.stderr}\")\n",
    "except subprocess.CalledProcessError as e:\n",
    "    print(f\"Error running compare_embeddings.py: {e}\")\n",
    "except FileNotFoundError:\n",
    "    print(\"Error: compare_embeddings.py not found. Ensure the path is correct.\")"
   ]
  },
  {
   "cell_type": "markdown",
   "id": "4f270c16",
   "metadata": {},
   "source": [
    "## Conclusion"
   ]
  },
  {
   "cell_type": "markdown",
   "id": "48aa80b5",
   "metadata": {},
   "source": [
    "This tutorial demonstrated how to use the `phi_generation` library to ingest data from CSV files, build a RAG database, and query it with the option to include CSV data directly in the prompt. This approach allows for more controlled and context-aware interactions with language models. Remember to replace the placeholder file paths with your actual file locations."
   ]
  }
 ],
 "metadata": {
  "kernelspec": {
   "display_name": "venv_ftw_1",
   "language": "python",
   "name": "python3"
  },
  "language_info": {
   "codemirror_mode": {
    "name": "ipython",
    "version": 3
   },
   "file_extension": ".py",
   "mimetype": "text/x-python",
   "name": "python",
   "nbconvert_exporter": "python",
   "pygments_lexer": "ipython3",
   "version": "3.13.2"
  }
 },
 "nbformat": 4,
 "nbformat_minor": 5
}
