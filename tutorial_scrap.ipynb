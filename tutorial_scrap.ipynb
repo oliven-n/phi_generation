{
 "cells": [
  {
   "cell_type": "markdown",
   "id": "646e977c",
   "metadata": {},
   "source": [
    "# Tutorial"
   ]
  },
  {
   "cell_type": "markdown",
   "id": "359e3bb6",
   "metadata": {},
   "source": [
    "## RAG tool"
   ]
  },
  {
   "cell_type": "markdown",
   "id": "e8992b95",
   "metadata": {},
   "source": [
    "The first step of this pipeline involves answering a prompt based on data. Specifically, this package is designed to take in structured data (in the form of a csv), as well as style supplements.  In querying a non-RAG like ChatGPT, the model often inserts unwanted context (e.g., history of a medication or disease, or its other uses not related to the patient's needs) that does not reflect the tone of true doctor's notes. This tool is designed to mitigate those effects, or to assess the future need for fine-tuning an LLM on patient data."
   ]
  },
  {
   "cell_type": "code",
   "execution_count": 3,
   "id": "69c21f91",
   "metadata": {},
   "outputs": [],
   "source": [
    "from code_files import utils as ut\n",
    "from code_files.telephone_module import telephone as tm\n",
    "from code_files.rag_module import create_database as crd\n"
   ]
  },
  {
   "cell_type": "code",
   "execution_count": null,
   "id": "e6247809",
   "metadata": {},
   "outputs": [
    {
     "name": "stdout",
     "output_type": "stream",
     "text": [
      "--- Generating Data Store ---\n"
     ]
    },
    {
     "name": "stderr",
     "output_type": "stream",
     "text": [
      "libmagic is unavailable but assists in filetype detection. Please consider installing libmagic for better results.\n",
      "libmagic is unavailable but assists in filetype detection. Please consider installing libmagic for better results.\n",
      "libmagic is unavailable but assists in filetype detection. Please consider installing libmagic for better results.\n"
     ]
    },
    {
     "name": "stdout",
     "output_type": "stream",
     "text": [
      "Loaded 3 documents.\n",
      "Split documents into 97 chunks.\n",
      "Saved 97 chunks to chroma.\n",
      "--- Data Store Generation Complete ---\n"
     ]
    },
    {
     "name": "stderr",
     "output_type": "stream",
     "text": [
      "c:\\Users\\noliv\\phi_generation_repo_destination\\phi_generation\\code_files\\rag_module\\create_database.py:58: LangChainDeprecationWarning: Since Chroma 0.4.x the manual persistence method is no longer supported as docs are automatically persisted.\n",
      "  vector_store.persist()\n"
     ]
    }
   ],
   "source": [
    "# any time you write new functions you have to rebuild and reinstall\n",
    "# run from phi_generation project\n",
    "# python -m build\n",
    "# pip install dist/code_files-0.1.0.tar.gz\n",
    "# and then restart the kernel and redo the imports\n",
    "crd.generate_data_store()"
   ]
  },
  {
   "cell_type": "markdown",
   "id": "be7a5b89",
   "metadata": {},
   "source": [
    "As we have seen, the RAG is not capable of viewing style context, only of performing retrieval."
   ]
  },
  {
   "cell_type": "markdown",
   "id": "0d5ba4a5",
   "metadata": {},
   "source": [
    "To add your style supplements to the database, which is drawn from 'code_files > rag_module > data', they will need to be structured as .md documents. You can use the built-in function to add "
   ]
  },
  {
   "cell_type": "markdown",
   "id": "dbb566a9",
   "metadata": {
    "vscode": {
     "languageId": "plaintext"
    }
   },
   "source": [
    "First, for any data contained in your prompt, it must be contained in both the database and the prompt to achieve a high enough relevance score to produce the response.\n",
    "In a similar manner to your context documents, use the utils.py functions to "
   ]
  },
  {
   "cell_type": "markdown",
   "id": "0a5bff53",
   "metadata": {},
   "source": []
  }
 ],
 "metadata": {
  "kernelspec": {
   "display_name": "venv_ftw_1",
   "language": "python",
   "name": "python3"
  },
  "language_info": {
   "codemirror_mode": {
    "name": "ipython",
    "version": 3
   },
   "file_extension": ".py",
   "mimetype": "text/x-python",
   "name": "python",
   "nbconvert_exporter": "python",
   "pygments_lexer": "ipython3",
   "version": "3.13.2"
  }
 },
 "nbformat": 4,
 "nbformat_minor": 5
}
