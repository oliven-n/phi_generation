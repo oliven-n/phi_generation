{
 "cells": [
  {
   "cell_type": "markdown",
   "id": "9c5b45eb",
   "metadata": {},
   "source": [
    "# A Tutorial for the phi_generation Library: Data-Driven Prompting and RAG (Direct Function Calls)"
   ]
  },
  {
   "cell_type": "markdown",
   "id": "7f36d0c3",
   "metadata": {},
   "source": [
    "## Introduction"
   ]
  },
  {
   "cell_type": "markdown",
   "id": "e43bbd52",
   "metadata": {},
   "source": [
    "This tutorial demonstrates the key features of the `phi_generation` library, focusing on data ingestion, preparing data for a Retrieval-Augmented Generation (RAG) pipeline, and querying the RAG database with optional CSV context.\n",
    "\n",
    "The library aims to provide focused and relevant answers from language models by grounding them in specific data."
   ]
  },
  {
   "cell_type": "markdown",
   "id": "64f30748",
   "metadata": {},
   "source": [
    "**Note:** This tutorial assumes you have the `phi_generation` library installed.\n",
    "\n",
    " After making changes to the code, you need to rebuild and reinstall the package.\n",
    " Run the following commands in your `phi_generation` project root:"
   ]
  },
  {
   "cell_type": "code",
   "execution_count": 3,
   "id": "a49c940e",
   "metadata": {
    "vscode": {
     "languageId": "powershell"
    }
   },
   "outputs": [
    {
     "ename": "SyntaxError",
     "evalue": "invalid syntax (2719185373.py, line 1)",
     "output_type": "error",
     "traceback": [
      "  \u001b[36mCell\u001b[39m\u001b[36m \u001b[39m\u001b[32mIn[3]\u001b[39m\u001b[32m, line 1\u001b[39m\n\u001b[31m    \u001b[39m\u001b[31mpython -m build\u001b[39m\n              ^\n\u001b[31mSyntaxError\u001b[39m\u001b[31m:\u001b[39m invalid syntax\n"
     ]
    }
   ],
   "source": [
    "python -m build\n",
    "pip install dist/code_files-0.1.0.tar.gz --upgrade"
   ]
  },
  {
   "cell_type": "markdown",
   "id": "0b5f6db9",
   "metadata": {},
   "source": [
    "## 1. Preparing Data from CSV for RAG"
   ]
  },
  {
   "cell_type": "markdown",
   "id": "7fa6d604",
   "metadata": {},
   "source": [
    "This section demonstrates how to convert structured data in a CSV file into a Markdown format suitable for the RAG database using the `utils` module."
   ]
  },
  {
   "cell_type": "code",
   "execution_count": 1,
   "id": "56686056",
   "metadata": {},
   "outputs": [],
   "source": [
    "import os\n",
    "from code_files import utils as ut\n",
    "\n",
    "# Define the path to your CSV file\n",
    "csv_file_path = r\"C:\\Users\\noliv\\Downloads\\structured_data_filled.csv\"  \n",
    "\n",
    "# Convert the CSV to a Markdown table\n",
    "markdown_table = ut.csv_to_markdown_table(csv_file_path)"
   ]
  },
  {
   "cell_type": "markdown",
   "id": "10085e7a",
   "metadata": {},
   "source": [
    "Some error handling on the above:"
   ]
  },
  {
   "cell_type": "code",
   "execution_count": 2,
   "id": "8a0c6931",
   "metadata": {},
   "outputs": [
    {
     "name": "stdout",
     "output_type": "stream",
     "text": [
      "Successfully converted CSV to Markdown table.\n",
      "\n",
      "--- Markdown Table Preview ---\n",
      "| Patient Name   |   Patient Age |   Alzheimers |   Anxiety |   Arthritis |   Behavior |   Bipolar |   Cannabis |   Cardio |   Chronic Disease |   Depression |   Diabetes |   Dieting |   Disabilities |   Drug-Induced Delirium |   Exercise |   Gastrointestinal |   Getting Worse or Not Better |   Hospital Admission |   Hospital Readmission |   Hypertension |   Kidney Disease |   Long-Term Care |   Memory Care |   Mental Health Questionnaire |   Obesity/Metabolic |   Osteoarthritis |   Pain |   Pre...\n",
      "--- End Preview ---\n",
      "Markdown written to c:\\Users\\noliv\\phi_generation_repo_destination\\phi_generation\\code_files\\..\\code_files/data\\from_csv_data.md\n",
      "Error: File not found at code_files/rag_module/data/from_csv_data.md\n"
     ]
    }
   ],
   "source": [
    "if isinstance(markdown_table, str) and markdown_table.startswith(\"Error\"):\n",
    "    print(markdown_table)\n",
    "else:\n",
    "    print(\"Successfully converted CSV to Markdown table.\")\n",
    "    print(\"\\n--- Markdown Table Preview ---\")\n",
    "    print(markdown_table[:500] + \"...\\n--- End Preview ---\") # Preview a part of the table\n",
    "\n",
    "    # Save the Markdown table to the data directory\n",
    "    save_message = ut.var_markdown_to_data_dir(markdown_table, filename=\"from_csv_data.md\")\n",
    "    print(save_message)\n",
    "\n",
    "    # Copy the generated Markdown file to the RAG data directory\n",
    "    # Assuming your notebook is in the project root\n",
    "    local_md_path = \"code_files/rag_module/data/from_csv_data.md\"\n",
    "    ut.local_markdown_to_data_dir(local_md_path)"
   ]
  },
  {
   "cell_type": "markdown",
   "id": "9a8913f9",
   "metadata": {},
   "source": [
    "## 2. Adding Additional Documents to the Data Directory (Optional)"
   ]
  },
  {
   "cell_type": "markdown",
   "id": "b961faf8",
   "metadata": {},
   "source": [
    "You can add more Markdown files to the 'data' directory, which will be processed by the database creation step."
   ]
  },
  {
   "cell_type": "code",
   "execution_count": 4,
   "id": "f32fade6",
   "metadata": {},
   "outputs": [
    {
     "name": "stdout",
     "output_type": "stream",
     "text": [
      "Added example_document.md to the data directory.\n"
     ]
    }
   ],
   "source": [
    "# Example 1: Adding content directly\n",
    "document_content = \"\"\"\n",
    "# This is an example document\n",
    "\n",
    "This document contains some additional information for the RAG database.\n",
    "\"\"\"\n",
    "ut.var_markdown_to_data_dir(document_content, filename = \"sample_text.md\")\n",
    "print(\"Added example_document.md to the data directory.\")"
   ]
  },
  {
   "cell_type": "code",
   "execution_count": null,
   "id": "e1246cdf",
   "metadata": {},
   "outputs": [],
   "source": [
    "# Example 2: Copying a local Markdown file\n",
    "\n",
    "# You can replace with the path to your local .md file, or add many files in a path at once with this function\n",
    "local_file_to_copy = \"path/to/your/local_document.md\" \n",
    "copy_result = ut.copy_file_to_dir(local_file_to_copy, \"code_files/data\", enforce_md=True)\n",
    "print(copy_result)"
   ]
  },
  {
   "cell_type": "markdown",
   "id": "948480a6",
   "metadata": {},
   "source": [
    "## 3. Creating the RAG Database"
   ]
  },
  {
   "cell_type": "markdown",
   "id": "91ef6fce",
   "metadata": {},
   "source": [
    "Now that we have our data in the 'data' directory (including the Markdown generated from the CSV and any additional documents), we'll create the Chroma vector database using the `create_database` module."
   ]
  },
  {
   "cell_type": "code",
   "execution_count": null,
   "id": "1ca7079b",
   "metadata": {},
   "outputs": [],
   "source": [
    "from code_files.rag_module import create_database as crd\n",
    "\n",
    "# Run the database generation process\n",
    "crd.generate_data_store()\n",
    "print(\"\\nRAG database generation complete.\")"
   ]
  },
  {
   "cell_type": "markdown",
   "id": "3fe5138b",
   "metadata": {},
   "source": [
    "## 4. Querying the RAG Database with Optional CSV Context (Direct Function Call)"
   ]
  },
  {
   "cell_type": "markdown",
   "id": "88fb69d0",
   "metadata": {},
   "source": [
    "This section demonstrates querying the RAG database using the `query_rag_with_csv` function from the `query_data` module.\n"
   ]
  },
  {
   "cell_type": "code",
   "execution_count": null,
   "id": "4c1c91bd",
   "metadata": {},
   "outputs": [],
   "source": [
    "from code_files.rag_module import query_data as qd\n",
    "\n",
    "# Define the query text\n",
    "query = \"Answer the question based on the information provided.\""
   ]
  },
  {
   "cell_type": "code",
   "execution_count": null,
   "id": "334dd708",
   "metadata": {},
   "outputs": [],
   "source": [
    "# Option A: Query without providing a CSV file\n",
    "print(\"\\n--- Querying without CSV Context ---\")\n",
    "response_no_csv = qd.query_rag_with_csv(query)\n",
    "print(response_no_csv)"
   ]
  },
  {
   "cell_type": "code",
   "execution_count": null,
   "id": "d5c9f5d6",
   "metadata": {},
   "outputs": [],
   "source": [
    "\n",
    "# Option B: Query with a CSV file providing additional context (Direct Function Call)\n",
    "print(\"\\n--- Querying with CSV Context ---\")\n",
    "csv_file_for_query = \"path/to/your/supplemental_data.csv\" # Replace with a relevant CSV path\n",
    "response_with_csv = qd.query_rag_with_csv(query, csv_file_for_query)\n",
    "print(response_with_csv)"
   ]
  },
  {
   "cell_type": "markdown",
   "id": "f49a374c",
   "metadata": {},
   "source": [
    "## 5. Comparing Embeddings (Direct Function Call)"
   ]
  },
  {
   "cell_type": "markdown",
   "id": "c93c678f",
   "metadata": {},
   "source": [
    "The `compare_embeddings` module allows you to query the database directly and see the retrieved documents along with their relevance scores."
   ]
  },
  {
   "cell_type": "code",
   "execution_count": null,
   "id": "185f18e7",
   "metadata": {},
   "outputs": [],
   "source": [
    "from code_files.rag_module import compare_embeddings as ce\n",
    "print(\"\\n--- Comparing Embeddings ---\")\n",
    "query_for_comparison = \"What are some key details?\"\n",
    "embedding_comparison_results = ce.compare_embeddings_query(query_for_comparison)\n",
    "print(embedding_comparison_results)"
   ]
  },
  {
   "cell_type": "markdown",
   "id": "dec43b43",
   "metadata": {},
   "source": [
    "## Conclusion"
   ]
  },
  {
   "cell_type": "markdown",
   "id": "a076364d",
   "metadata": {},
   "source": [
    "This tutorial demonstrated how to use the `phi_generation` library to ingest data from CSV files and local Markdown files, build a RAG database, and query it with the option to include CSV data directly in the prompt. The `utils` module provides helpful functions for data handling, and the direct function calls offer a more integrated experience within the Jupyter Notebook. "
   ]
  }
 ],
 "metadata": {
  "kernelspec": {
   "display_name": "venv_ftw_1",
   "language": "python",
   "name": "python3"
  },
  "language_info": {
   "codemirror_mode": {
    "name": "ipython",
    "version": 3
   },
   "file_extension": ".py",
   "mimetype": "text/x-python",
   "name": "python",
   "nbconvert_exporter": "python",
   "pygments_lexer": "ipython3",
   "version": "3.13.2"
  }
 },
 "nbformat": 4,
 "nbformat_minor": 5
}
