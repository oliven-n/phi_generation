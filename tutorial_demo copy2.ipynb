{
 "cells": [
  {
   "cell_type": "markdown",
   "id": "9c5b45eb",
   "metadata": {},
   "source": [
    "# A Tutorial for the phi_generation Library: Data-Driven Prompting and RAG (Direct Function Calls)"
   ]
  },
  {
   "cell_type": "markdown",
   "id": "7f36d0c3",
   "metadata": {},
   "source": [
    "## Introduction"
   ]
  },
  {
   "cell_type": "markdown",
   "id": "e43bbd52",
   "metadata": {},
   "source": [
    "This tutorial demonstrates the key features of the `phi_generation` library, focusing on data ingestion, preparing data for a Retrieval-Augmented Generation (RAG) pipeline, and querying the RAG database with optional CSV context.\n",
    "\n",
    "The library aims to provide focused and relevant answers from language models by grounding them in specific data."
   ]
  },
  {
   "cell_type": "markdown",
   "id": "3ae1ca33",
   "metadata": {},
   "source": [
    "## Data"
   ]
  },
  {
   "cell_type": "markdown",
   "id": "c25a593c",
   "metadata": {},
   "source": [
    "Best practices for encoding structured patient data is still under consideration.  The current working practice of the lab is to store patient data in .csv or dataframe format, with alphanumeric entries for identifying patient data, and binary values for whether a patient record mentions each disease, mediation, and symptom of interest.  Because of HIPAA restrictions, \"real\" data was constructed manually in the current working format, compatible with the Bayesian patient data package also under development in the lab."
   ]
  },
  {
   "cell_type": "markdown",
   "id": "64f30748",
   "metadata": {},
   "source": [
    "**Note:** This tutorial assumes you have the `phi_generation` library installed.\n",
    "\n",
    " After making changes to the code, you need to rebuild and reinstall the package.\n",
    " Run the following commands on command line in your `phi_generation` project root:"
   ]
  },
  {
   "cell_type": "code",
   "execution_count": null,
   "id": "a49c940e",
   "metadata": {
    "vscode": {
     "languageId": "powershell"
    }
   },
   "outputs": [
    {
     "ename": "SyntaxError",
     "evalue": "invalid syntax (2719185373.py, line 1)",
     "output_type": "error",
     "traceback": [
      "  \u001b[36mCell\u001b[39m\u001b[36m \u001b[39m\u001b[32mIn[1]\u001b[39m\u001b[32m, line 1\u001b[39m\n\u001b[31m    \u001b[39m\u001b[31mpython -m build\u001b[39m\n              ^\n\u001b[31mSyntaxError\u001b[39m\u001b[31m:\u001b[39m invalid syntax\n"
     ]
    }
   ],
   "source": [
    "python -m build\n",
    "pip install dist/phi_gen-0.1.0.tar.gz --upgrade"
   ]
  },
  {
   "cell_type": "markdown",
   "id": "0b5f6db9",
   "metadata": {},
   "source": [
    "## 1. Preparing Data from CSV for RAG"
   ]
  },
  {
   "cell_type": "markdown",
   "id": "7fa6d604",
   "metadata": {},
   "source": [
    "This section demonstrates how to convert structured data in a CSV file into a Markdown format suitable for the RAG database using the `utils` module."
   ]
  },
  {
   "cell_type": "code",
   "execution_count": null,
   "id": "56686056",
   "metadata": {},
   "outputs": [],
   "source": [
    "import os\n",
    "from phi_gen import utils as ut\n",
    "\n",
    "# Define the path to your CSV file\n",
    "csv_file_path = r\"C:\\Users\\noliv\\Downloads\\structured_data_filled.csv\"  \n",
    "\n",
    "# Convert the CSV to a Markdown table\n",
    "markdown_table = ut.csv_to_markdown_table(csv_file_path)"
   ]
  },
  {
   "cell_type": "markdown",
   "id": "10085e7a",
   "metadata": {},
   "source": [
    "Some error handling on the above:"
   ]
  },
  {
   "cell_type": "code",
   "execution_count": null,
   "id": "8a0c6931",
   "metadata": {},
   "outputs": [
    {
     "name": "stdout",
     "output_type": "stream",
     "text": [
      "Successfully converted CSV to Markdown table.\n",
      "\n",
      "--- Markdown Table Preview ---\n",
      "| Patient Name   |   Patient Age |   Alzheimers |   Anxiety |   Arthritis |   Behavior |   Bipolar |   Cannabis |   Cardio |   Chronic Disease |   Depression |   Diabetes |   Dieting |   Disabilities |   Drug-Induced Delirium |   Exercise |   Gastrointestinal |   Getting Worse or Not Better |   Hospital Admission |   Hospital Readmission |   Hypertension |   Kidney Disease |   Long-Term Care |   Memory Care |   Mental Health Questionnaire |   Obesity/Metabolic |   Osteoarthritis |   Pain |   Pre...\n",
      "--- End Preview ---\n",
      "Markdown written to c:\\Users\\noliv\\phi_generation_repo_destination\\phi_generation\\code_files\\..\\code_files/rag_module/data\\from_csv_data.md\n"
     ]
    }
   ],
   "source": [
    "if isinstance(markdown_table, str) and markdown_table.startswith(\"Error\"):\n",
    "    print(markdown_table)\n",
    "else:\n",
    "    print(\"Successfully converted CSV to Markdown table.\")\n",
    "    print(\"\\n--- Markdown Table Preview ---\")\n",
    "    print(markdown_table[:500] + \"...\\n--- End Preview ---\") # Preview a part of the table\n",
    "\n",
    "    # Save the Markdown table to the data directory\n",
    "    save_message = ut.var_markdown_to_data_dir(markdown_table, filename=\"from_csv_data.md\")\n",
    "    print(save_message)\n",
    "\n",
    "    # Copy the generated Markdown file to the RAG data directory\n",
    "    # Assuming your notebook is in the project root\n",
    "    local_md_path = \"phi_gen/rag_module/data/from_csv_data.md\"\n",
    "    ut.local_markdown_to_data_dir(local_md_path)"
   ]
  },
  {
   "cell_type": "markdown",
   "id": "9a8913f9",
   "metadata": {},
   "source": [
    "## 2. Adding Additional Documents to the Data Directory (Optional)"
   ]
  },
  {
   "cell_type": "markdown",
   "id": "b961faf8",
   "metadata": {},
   "source": [
    "You can add more Markdown files to the 'data' directory, which will be processed by the database creation step."
   ]
  },
  {
   "cell_type": "code",
   "execution_count": 3,
   "id": "f32fade6",
   "metadata": {},
   "outputs": [
    {
     "name": "stdout",
     "output_type": "stream",
     "text": [
      "Added example_document.md to the data directory.\n"
     ]
    }
   ],
   "source": [
    "# Example 1: Adding content directly\n",
    "document_content = \"\"\"\n",
    "# This is an example document\n",
    "\n",
    "This document contains some additional information for the RAG database.\n",
    "\"\"\"\n",
    "ut.var_markdown_to_data_dir(document_content, filename = \"sample_text.md\")\n",
    "print(\"Added example_document.md to the data directory.\")"
   ]
  },
  {
   "cell_type": "code",
   "execution_count": null,
   "id": "e1246cdf",
   "metadata": {},
   "outputs": [
    {
     "name": "stdout",
     "output_type": "stream",
     "text": [
      "Error: Only files with the '.md' extension can be copied.\n"
     ]
    }
   ],
   "source": [
    "# Example 2: Copying a local Markdown file\n",
    "\n",
    "# You can replace with the path to your local .md file, or add many files in a path at once with this function\n",
    "\n",
    "# This is not an .md so it will throw an error\n",
    "local_file_to_copy = r\"C:\\Users\\noliv\\Downloads\\s41592-022-01728-4.pdf\" \n",
    "copy_result = ut.local_markdown_to_data_dir(local_file_to_copy, \"phi_gen/data\", enforce_md=True)\n",
    "print(copy_result)"
   ]
  },
  {
   "cell_type": "markdown",
   "id": "948480a6",
   "metadata": {},
   "source": [
    "## 3. Creating the RAG Database"
   ]
  },
  {
   "cell_type": "markdown",
   "id": "91ef6fce",
   "metadata": {},
   "source": [
    "Now that we have our data in the 'data' directory (including the Markdown generated from the CSV and any additional documents), we'll create the Chroma vector database using the `create_database` module."
   ]
  },
  {
   "cell_type": "code",
   "execution_count": null,
   "id": "1ca7079b",
   "metadata": {},
   "outputs": [
    {
     "name": "stdout",
     "output_type": "stream",
     "text": [
      "--- Generating Data Store ---\n"
     ]
    },
    {
     "name": "stderr",
     "output_type": "stream",
     "text": [
      "libmagic is unavailable but assists in filetype detection. Please consider installing libmagic for better results.\n",
      "libmagic is unavailable but assists in filetype detection. Please consider installing libmagic for better results.\n",
      "libmagic is unavailable but assists in filetype detection. Please consider installing libmagic for better results.\n",
      "libmagic is unavailable but assists in filetype detection. Please consider installing libmagic for better results.\n",
      "libmagic is unavailable but assists in filetype detection. Please consider installing libmagic for better results.\n"
     ]
    },
    {
     "name": "stdout",
     "output_type": "stream",
     "text": [
      "Loaded 5 documents.\n",
      "Split documents into 100 chunks.\n",
      "Error saving to Chroma: [WinError 32] The process cannot access the file because it is being used by another process: 'chroma\\\\daee5f4c-9b22-493e-b188-e19f8df24101\\\\data_level0.bin'\n",
      "--- Data Store Generation Complete ---\n",
      "\n",
      "RAG database generation complete.\n"
     ]
    }
   ],
   "source": [
    "from phi_gen.rag_module import create_database as crd\n",
    "\n",
    "# Run the database generation process\n",
    "crd.generate_data_store()\n",
    "print(\"\\nRAG database generation complete.\")"
   ]
  },
  {
   "cell_type": "markdown",
   "id": "3fe5138b",
   "metadata": {},
   "source": [
    "## 4. Querying the RAG Database with Optional CSV Context (Direct Function Call)"
   ]
  },
  {
   "cell_type": "markdown",
   "id": "88fb69d0",
   "metadata": {},
   "source": [
    "This section demonstrates querying the RAG database using the `query_rag_with_csv` function from the `query_data` module.\n"
   ]
  },
  {
   "cell_type": "markdown",
   "id": "23f981cb",
   "metadata": {},
   "source": [
    "This is an unhelpful query, and we expect the response to indicate as such."
   ]
  },
  {
   "cell_type": "code",
   "execution_count": null,
   "id": "4c1c91bd",
   "metadata": {},
   "outputs": [],
   "source": [
    "from phi_gen.rag_module import query_data as qd\n",
    "\n",
    "# Define the query text\n",
    "query = \"Answer the question based on the information provided.\""
   ]
  },
  {
   "cell_type": "code",
   "execution_count": 7,
   "id": "334dd708",
   "metadata": {},
   "outputs": [
    {
     "name": "stdout",
     "output_type": "stream",
     "text": [
      "\n",
      "--- Querying without CSV Context ---\n"
     ]
    },
    {
     "name": "stderr",
     "output_type": "stream",
     "text": [
      "c:\\Users\\noliv\\phi_generation_repo_destination\\phi_generation\\code_files\\rag_module\\query_data.py:47: LangChainDeprecationWarning: The class `Chroma` was deprecated in LangChain 0.2.9 and will be removed in 1.0. An updated version of the class exists in the :class:`~langchain-chroma package and should be used instead. To use it run `pip install -U :class:`~langchain-chroma` and import as `from :class:`~langchain_chroma import Chroma``.\n",
      "  db = Chroma(persist_directory=CHROMA_PATH, embedding_function=embedding_function)\n",
      "c:\\Users\\noliv\\phi_generation_repo_destination\\phi_generation\\code_files\\rag_module\\query_data.py:60: LangChainDeprecationWarning: The method `BaseChatModel.predict` was deprecated in langchain-core 0.1.7 and will be removed in 1.0. Use :meth:`~invoke` instead.\n",
      "  response_text = model.predict(prompt)\n"
     ]
    },
    {
     "name": "stdout",
     "output_type": "stream",
     "text": [
      "Response: I'm sorry, but there is no specific question provided to answer based on the context and CSV data. Please provide a question for me to answer.\n",
      "Sources: ['C:\\\\Users\\\\noliv\\\\phi_generation_repo_destination\\\\phi_generation\\\\code_files\\\\rag_module\\\\data\\\\connor_soap_therapy.md', 'C:\\\\Users\\\\noliv\\\\phi_generation_repo_destination\\\\phi_generation\\\\code_files\\\\rag_module\\\\data\\\\connor_soap_therapy.md', 'C:\\\\Users\\\\noliv\\\\phi_generation_repo_destination\\\\phi_generation\\\\code_files\\\\rag_module\\\\data\\\\connor_soap_therapy.md']\n"
     ]
    }
   ],
   "source": [
    "# Option A: Query without providing a CSV file\n",
    "print(\"\\n--- Querying without CSV Context ---\")\n",
    "response_no_csv = qd.query_rag_with_csv(query)\n",
    "print(response_no_csv)"
   ]
  },
  {
   "cell_type": "code",
   "execution_count": 8,
   "id": "d5c9f5d6",
   "metadata": {},
   "outputs": [
    {
     "name": "stdout",
     "output_type": "stream",
     "text": [
      "\n",
      "--- Querying with CSV Context ---\n",
      "Response: Subjective: Kathryn is a 26-year-old female with a history of anxiety, arthritis, and behavioral changes. She denies any current issues with depression, diabetes, or dieting.\n",
      "\n",
      "Objective: Kathryn presents today with moderate anxiety, mild arthritis symptoms, and some behavioral changes.\n",
      "\n",
      "Assessment: Patient has a mix of physical and mental health concerns, mainly focused on anxiety and arthritis. Monitoring of these conditions is essential for ongoing care.\n",
      "\n",
      "Plan: Recommend further evaluation of arthritis symptoms and consider treatment options for anxiety management. Follow up in 2 weeks to assess response to interventions.\n",
      "Sources: ['C:\\\\Users\\\\noliv\\\\phi_generation_repo_destination\\\\phi_generation\\\\code_files\\\\rag_module\\\\data\\\\meta_report_apso_soap.md', 'C:\\\\Users\\\\noliv\\\\phi_generation_repo_destination\\\\phi_generation\\\\code_files\\\\rag_module\\\\data\\\\meta_report_apso_soap.md', 'C:\\\\Users\\\\noliv\\\\phi_generation_repo_destination\\\\phi_generation\\\\code_files\\\\rag_module\\\\data\\\\meta_report_apso_soap.md']\n"
     ]
    }
   ],
   "source": [
    "\n",
    "# Option B: Query with a CSV file providing additional context (Direct Function Call)\n",
    "print(\"\\n--- Querying with CSV Context ---\")\n",
    "\n",
    "# Replace below with your CSV path:\n",
    "better_query = \"Create a patient profile for Kathryn in SOAP format using the structured patient data provided for Kathryn in the .csv file attached, as well as style supplements for writing a SOAP note in the database. Do not list features of patient, but rather explain in sentences.\"\n",
    "csv_file_for_query = r\"C:\\Users\\noliv\\Downloads\\structured_data_filled.csv\" \n",
    "response_with_csv = qd.query_rag_with_csv(better_query, csv_file_for_query)\n",
    "print(response_with_csv)"
   ]
  },
  {
   "cell_type": "markdown",
   "id": "28537fe9",
   "metadata": {},
   "source": [
    "This looks promising, and it even drew from the style guide without metadata indicating it was a style guide (there are options for this in the functions that add to database), but note that subjective and objective are the same. Future tasks include to adjust context window, try with various temperatures (and observe error propagation), and improve prompting."
   ]
  },
  {
   "cell_type": "markdown",
   "id": "f49a374c",
   "metadata": {},
   "source": [
    "## 5. Comparing Embeddings (Optional : Direct Function Call for Error Handling)"
   ]
  },
  {
   "cell_type": "markdown",
   "id": "c93c678f",
   "metadata": {},
   "source": [
    "The `compare_embeddings` module allows you to query the database directly and see the retrieved documents along with their relevance scores."
   ]
  },
  {
   "cell_type": "code",
   "execution_count": null,
   "id": "185f18e7",
   "metadata": {},
   "outputs": [
    {
     "name": "stdout",
     "output_type": "stream",
     "text": [
      "\n",
      "--- Comparing Embeddings ---\n",
      "--- Matching Results ---\n",
      "Score: 0.7201408587167824\n",
      "Content: Plan:\n",
      "Source: C:\\Users\\noliv\\phi_generation_repo_destination\\phi_generation\\code_files\\rag_module\\data\\connor_soap_therapy.md\n",
      "---\n",
      "Score: 0.7193233152227922\n",
      "Content: Guiding Principles\n",
      "Source: C:\\Users\\noliv\\phi_generation_repo_destination\\phi_generation\\code_files\\rag_module\\data\\meta_report_apso_soap.md\n",
      "---\n",
      "Score: 0.710408245238374\n",
      "Content: Objective:\n",
      "Source: C:\\Users\\noliv\\phi_generation_repo_destination\\phi_generation\\code_files\\rag_module\\data\\connor_soap_therapy.md\n",
      "---\n",
      "--- Query Ended ---\n",
      "\n"
     ]
    }
   ],
   "source": [
    "from phi_gen.rag_module import compare_embeddings as ce\n",
    "print(\"\\n--- Comparing Embeddings ---\")\n",
    "query_for_comparison = \"What are some key details?\"\n",
    "embedding_comparison_results = ce.compare_embeddings_query(query_for_comparison)\n",
    "print(embedding_comparison_results)"
   ]
  },
  {
   "cell_type": "markdown",
   "id": "d0633372",
   "metadata": {},
   "source": [
    "## 6. Generating Structured to Unstructured PHI"
   ]
  },
  {
   "cell_type": "markdown",
   "id": "160c72b3",
   "metadata": {},
   "source": [
    "This section uses the `st_to_unst` module to query a vanilla LLM (i.e., without RAG) to create a doctor's record from a .csv file containing structured PHI for one or more patients. For more specific formatting instructions, such as record templates, compare results qualitatively and with the telephone module. "
   ]
  },
  {
   "cell_type": "markdown",
   "id": "0fb24937",
   "metadata": {},
   "source": [
    "This section demonstrates how to use the `st_to_unst` module to:\n",
    "1. Generate patient health records from structured CSV data.\n",
    "2. Create an AnnData object to store both structured and unstructured data.\n",
    "3. Convert the unstructured data to a JSON file."
   ]
  },
  {
   "cell_type": "markdown",
   "id": "e5b87421",
   "metadata": {},
   "source": [
    "If you do not readily have csv data, you can use the following example csv:"
   ]
  },
  {
   "cell_type": "code",
   "execution_count": null,
   "id": "e0876c7e",
   "metadata": {},
   "outputs": [],
   "source": [
    "# ```csv\n",
    "# PatientID,Name,Age,Gender,ConditionA,ConditionB,MedicationX,MedicationY\n",
    "# 1,Alice,30,Female,0,1,1,0\n",
    "# 2,Bob,25,Male,1,0,0,1\n",
    "# ```"
   ]
  },
  {
   "cell_type": "code",
   "execution_count": null,
   "id": "0e384b78",
   "metadata": {},
   "outputs": [
    {
     "name": "stdout",
     "output_type": "stream",
     "text": [
      "\n",
      "--- Creating AnnData Object ---\n"
     ]
    },
    {
     "name": "stderr",
     "output_type": "stream",
     "text": [
      "c:\\Users\\noliv\\phi_generation_repo_destination\\phi_generation\\code_files\\st_to_unst_module\\st_to_unst.py:41: LangChainDeprecationWarning: The class `OpenAI` was deprecated in LangChain 0.0.10 and will be removed in 1.0. An updated version of the class exists in the :class:`~langchain-openai package and should be used instead. To use it run `pip install -U :class:`~langchain-openai` and import as `from :class:`~langchain_openai import OpenAI``.\n",
      "  llm = OpenAI(temperature=0.7)  # You can adjust temperature\n",
      "c:\\Users\\noliv\\phi_generation_repo_destination\\phi_generation\\code_files\\st_to_unst_module\\st_to_unst.py:48: LangChainDeprecationWarning: The method `BaseLLM.predict` was deprecated in langchain-core 0.1.7 and will be removed in 1.0. Use :meth:`~invoke` instead.\n",
      "  report = llm.predict(introduction_prompt)\n"
     ]
    },
    {
     "name": "stdout",
     "output_type": "stream",
     "text": [
      "AnnData object with n_obs × n_vars = 7 × 2\n",
      "    obs: 'Patient Name', 'Patient Age', 'Alzheimers', 'Anxiety', 'Arthritis', 'Behavior', 'Bipolar', 'Cannabis', 'Cardio', 'Chronic Disease', 'Depression', 'Diabetes', 'Dieting', 'Disabilities', 'Drug-Induced Delirium', 'Exercise', 'Gastrointestinal', 'Getting Worse or Not Better', 'Hospital Admission', 'Hospital Readmission', 'Hypertension', 'Kidney Disease', 'Long-Term Care', 'Memory Care', 'Mental Health Questionnaire', 'Obesity/Metabolic', 'Osteoarthritis', 'Pain', 'Prediabetes', 'Quality of Life', 'Semaglutide', 'Sleep', 'Stress'\n",
      "    uns: 'csv_filename'\n",
      "\n",
      "Sample patient records:\n",
      "  Patient Name Patient Age Alzheimers Anxiety Arthritis Behavior Bipolar  \\\n",
      "0      Kathryn          26          0       1       N/A        1       0   \n",
      "1      Michael          38          0       0         0        0       0   \n",
      "2        Kevin          17          0       1         0        0       0   \n",
      "3        Megan          25          0       1         0        1       1   \n",
      "4        Brian          62          0       0         0        0       0   \n",
      "\n",
      "  Cannabis Cardio Chronic Disease  ... Memory Care  \\\n",
      "0        1      1               0  ...           0   \n",
      "1        0      1               0  ...           0   \n",
      "2        1      0               0  ...           0   \n",
      "3        1      1               1  ...           0   \n",
      "4        0      0               1  ...           0   \n",
      "\n",
      "  Mental Health Questionnaire Obesity/Metabolic Osteoarthritis Pain  \\\n",
      "0                           0                 0              0    0   \n",
      "1                           0                 0              0    0   \n",
      "2                           0                 0              0    0   \n",
      "3                           1                 0              0    0   \n",
      "4                           0                 1              1    1   \n",
      "\n",
      "  Prediabetes Quality of Life Semaglutide Sleep Stress  \n",
      "0           0               0           0     0      0  \n",
      "1           0               1           0     1      0  \n",
      "2           0               0           0     0      0  \n",
      "3           0               1           0     1      1  \n",
      "4           0               1           1     1      1  \n",
      "\n",
      "[5 rows x 33 columns]\n",
      "\n",
      "Sample unstructured data:\n",
      "An error occurred: 'numpy.ndarray' object has no attribute 'head'\n"
     ]
    },
    {
     "name": "stderr",
     "output_type": "stream",
     "text": [
      "c:\\Users\\noliv\\phi_generation_repo_destination\\phi_generation\\venv_ftw_1\\Lib\\site-packages\\anndata\\_core\\aligned_df.py:68: ImplicitModificationWarning: Transforming to str index.\n",
      "  warnings.warn(\"Transforming to str index.\", ImplicitModificationWarning)\n"
     ]
    }
   ],
   "source": [
    "from phi_gen.st_to_unst_module import st_to_unst as sun\n",
    "import pandas as pd\n",
    "\n",
    "# Define the path to your patient data CSV file\n",
    "patient_csv_file = r\"C:\\Users\\noliv\\Downloads\\structured_data_filled.csv\" # Replace with the actual path\n",
    "\n",
    "\n",
    "# 1. Generate an AnnData object\n",
    "print(\"\\n--- Creating AnnData Object ---\")\n",
    "try:\n",
    "    adata = sun.create_anndata_from_csv(patient_csv_file, patient_id_columns=[\"PatientID\", \"Name\"])\n",
    "    print(adata)\n",
    "    print(\"\\nSample patient records:\")\n",
    "    print(adata.obs.head())\n",
    "    print(\"\\nSample unstructured data:\")\n",
    "    print(adata.X.head())\n",
    "except FileNotFoundError:\n",
    "    print(f\"Error: CSV file not found at {patient_csv_file}\")\n",
    "except Exception as e:\n",
    "    print(f\"An error occurred: {e}\")"
   ]
  },
  {
   "cell_type": "code",
   "execution_count": null,
   "id": "07b342e7",
   "metadata": {},
   "outputs": [
    {
     "name": "stdout",
     "output_type": "stream",
     "text": [
      "\n",
      "--- Creating AnnData Object from CSV ---\n"
     ]
    },
    {
     "name": "stderr",
     "output_type": "stream",
     "text": [
      "c:\\Users\\noliv\\phi_generation_repo_destination\\phi_generation\\code_files\\st_to_unst_module\\st_to_unst.py:412: LangChainDeprecationWarning: The class `OpenAI` was deprecated in LangChain 0.0.10 and will be removed in 1.0. An updated version of the class exists in the :class:`~langchain-openai package and should be used instead. To use it run `pip install -U :class:`~langchain-openai` and import as `from :class:`~langchain_openai import OpenAI``.\n",
      "  llm = OpenAI(temperature=0.7)  # You can adjust temperature\n",
      "c:\\Users\\noliv\\phi_generation_repo_destination\\phi_generation\\code_files\\st_to_unst_module\\st_to_unst.py:419: LangChainDeprecationWarning: The method `BaseLLM.predict` was deprecated in langchain-core 0.1.7 and will be removed in 1.0. Use :meth:`~invoke` instead.\n",
      "  report = llm.predict(introduction_prompt)\n"
     ]
    },
    {
     "name": "stdout",
     "output_type": "stream",
     "text": [
      "AnnData object with n_obs × n_vars = 7 × 2\n",
      "    obs: 'Patient Name', 'Patient Age', 'Alzheimers', 'Anxiety', 'Arthritis', 'Behavior', 'Bipolar', 'Cannabis', 'Cardio', 'Chronic Disease', 'Depression', 'Diabetes', 'Dieting', 'Disabilities', 'Drug-Induced Delirium', 'Exercise', 'Gastrointestinal', 'Getting Worse or Not Better', 'Hospital Admission', 'Hospital Readmission', 'Hypertension', 'Kidney Disease', 'Long-Term Care', 'Memory Care', 'Mental Health Questionnaire', 'Obesity/Metabolic', 'Osteoarthritis', 'Pain', 'Prediabetes', 'Quality of Life', 'Semaglutide', 'Sleep', 'Stress'\n",
      "    uns: 'csv_filename'\n",
      "\n",
      "Sample of structured patient data (adata.obs):\n",
      "  Patient Name Patient Age Alzheimers Anxiety Arthritis Behavior Bipolar  \\\n",
      "0      Kathryn          26          0       1       N/A        1       0   \n",
      "1      Michael          38          0       0         0        0       0   \n",
      "2        Kevin          17          0       1         0        0       0   \n",
      "3        Megan          25          0       1         0        1       1   \n",
      "4        Brian          62          0       0         0        0       0   \n",
      "\n",
      "  Cannabis Cardio Chronic Disease  ... Memory Care  \\\n",
      "0        1      1               0  ...           0   \n",
      "1        0      1               0  ...           0   \n",
      "2        1      0               0  ...           0   \n",
      "3        1      1               1  ...           0   \n",
      "4        0      0               1  ...           0   \n",
      "\n",
      "  Mental Health Questionnaire Obesity/Metabolic Osteoarthritis Pain  \\\n",
      "0                           0                 0              0    0   \n",
      "1                           0                 0              0    0   \n",
      "2                           0                 0              0    0   \n",
      "3                           1                 0              0    0   \n",
      "4                           0                 1              1    1   \n",
      "\n",
      "  Prediabetes Quality of Life Semaglutide Sleep Stress  \n",
      "0           0               0           0     0      0  \n",
      "1           0               1           0     1      0  \n",
      "2           0               0           0     0      0  \n",
      "3           0               1           0     1      1  \n",
      "4           0               1           1     1      1  \n",
      "\n",
      "[5 rows x 33 columns]\n",
      "\n",
      "Sample of unstructured patient reports (adata.X):\n",
      "adata.X is not a DataFrame. Showing raw data:\n",
      "[['N/A, N/A'\n",
      "  '\\n\\nIntroduction:\\n\\nThe patient, John Smith, is a 45-year-old male with the assigned number 123456. He presents with a history of various medical conditions and medications. As a doctor, it is important to thoroughly assess and understand his medical history in order to provide appropriate treatment and care. In this report, we will discuss the relevant illnesses and medications listed in the CSV data and their potential impact on the patient\\'s overall health.\\n\\nDiabetes:\\nJohn has been diagnosed with type 2 diabetes, which is indicated by a \"1\" in the CSV data. This chronic condition affects the body\\'s ability to regulate blood sugar levels, leading to various complications if left uncontrolled. Diabetes increases the risk of heart disease, stroke, nerve damage, and kidney disease. In order to manage his diabetes, John takes metformin, an oral medication that helps to lower blood sugar levels. It is important for John to regularly monitor his blood sugar levels and follow a healthy diet and exercise regimen to prevent any long-term complications.\\n\\nHypertension:\\nThe CSV data indicates that John also has hypertension, commonly known as high blood pressure. This is a significant risk factor for heart disease, stroke, and kidney disease. In order to manage his blood pressure, John takes a combination\\n\\n\\n\\nAnxiety is a mental health condition characterized by feelings of excessive worry, fear, and unease. [Patient name] has been diagnosed with Generalized Anxiety Disorder (GAD), which causes persistent and excessive anxiety and worry about various aspects of life, such as work, relationships, and health. [He/She] experiences physical symptoms such as restlessness, difficulty concentrating, muscle tension, and sleep disturbances. [Patient name] has been prescribed [medication name], a selective serotonin reuptake inhibitor (SSRI), to help manage [his/her] symptoms. [He/She] will also be receiving therapy to learn coping mechanisms and relaxation techniques to better manage [his/her] anxiety. Regular follow-up appointments will be scheduled to monitor [his/her] response to treatment. \\n\\n\\n\\nBehavior is a term used to describe the actions or conduct of an individual. In the context of a patient\\'s health record, behavior may refer to any patterns of behavior that may impact their overall well-being and health. This can include behaviors such as substance abuse, self-harm, eating disorders, or other destructive behaviors. It can also refer to any changes in behavior that may be indicative of a mental health disorder or neurological condition. In some cases, medication may be prescribed to help manage or improve certain behaviors. It is important for healthcare professionals to document and monitor a patient\\'s behavior in order to provide appropriate care and treatment. \\n\\n\\n\\nThe patient has a history of using cannabis, also known as marijuana, for recreational purposes. Cannabis is a psychoactive drug derived from the Cannabis plant and is typically smoked or ingested for its mind-altering effects. The patient reports using cannabis to relax and alleviate stress, but it is important to note that it can also have negative effects on mental health and cognitive function. The patient should be monitored for any potential side effects of cannabis use, such as impaired memory and coordination, and may benefit from counseling or support to manage their use. It is important to discuss the potential risks and benefits of cannabis use with the patient and to develop a plan for responsible and safe use.\\n\\n\\n\\nCardio, short for cardiovascular, refers to the health and function of the heart and blood vessels. It is an essential aspect of a patient\\'s health record as it provides information about the patient\\'s overall cardiovascular health. This may include any past or current conditions such as high blood pressure, heart disease, or heart attacks, as well as any medications prescribed to manage these conditions. Cardio is a crucial component of a patient\\'s medical history and helps healthcare providers assess the risk of cardiovascular diseases and develop appropriate treatment plans. Regular monitoring and management of cardio health can significantly improve a patient\\'s overall wellbeing and prevent serious health complications. ']\n",
      " ['N/A, N/A'\n",
      "  \"\\n\\nIntroduction:\\n\\nThis public health report is being created for Patient X, a 45-year-old male with the assigned number 123456. Patient X's medical information has been gathered and organized from a csv data file. As a doctor, it is important to thoroughly analyze and understand a patient's medical history in order to provide the best possible care. This report will provide a comprehensive overview of Patient X's medical conditions and medications, highlighting any relevant information that may be crucial for their health.\\n\\nDiabetes:\\n\\nPatient X has been diagnosed with diabetes, a chronic illness that affects the body's ability to produce or respond to insulin. This condition is marked by high levels of blood sugar and can lead to serious health complications if not managed properly. According to the csv data, Patient X has been prescribed metformin, a medication commonly used to treat type 2 diabetes. It is crucial for Patient X to take this medication as prescribed and monitor their blood sugar levels regularly to prevent any further complications.\\n\\nHypertension:\\n\\nThe csv data also shows that Patient X has been diagnosed with hypertension, or high blood pressure. This condition puts extra strain on the heart and blood vessels, increasing the risk of heart disease, stroke, and other health issues. Patient X has been prescribed lisinop\\n\\n\\n\\nCardio, short for cardiovascular, refers to the health of a patient's heart and blood vessels. This condition can encompass a range of issues, from high blood pressure and heart disease to stroke and heart attack. In this patient's health record, it is important to note their current cardiovascular health and any previous diagnoses or treatments. This information can help healthcare providers make informed decisions about the patient's care, such as monitoring blood pressure levels and prescribing medications to manage their condition. Regular check-ups and lifestyle modifications, such as maintaining a healthy diet and exercise routine, can also be recommended to improve the patient's cardiovascular health.\\n\\n\\n\\nExercise is a form of physical activity that involves planned, structured, and repetitive movements of the body. It is recommended as a treatment or preventative measure for a variety of health conditions, including obesity, heart disease, diabetes, and mental health disorders. As part of this patient's health record, it is important to note their exercise habits in order to assess their overall level of physical activity and potential impact on their health. This includes the type, frequency, and duration of their exercise routine, as well as any modifications or limitations due to their current medical condition. Regular exercise can have numerous benefits for overall health and should be discussed and monitored as part of this patient's treatment plan.\\n\\n\\n\\nQuality of Life typically refers to a patient's overall well-being and satisfaction with their life, including their physical, emotional, and social functioning. In the context of a patient health record, the quality of life is often assessed through various measures and can be affected by a variety of factors such as chronic health conditions, mental health issues, and lifestyle choices. Medications and treatments may also have an impact on a patient's quality of life, as they can improve symptoms and overall functioning or potentially cause side effects that negatively impact the patient's well-being. It is important for healthcare providers to consider a patient's quality of life when making treatment decisions and working towards improving their overall health and well-being.\\n\\n\\n\\nSleep is a natural bodily process that is essential for maintaining good physical and mental health. It is a state of rest where the body and mind are inactive, allowing for rest and rejuvenation. In this patient's health record, it is noted that they have been experiencing difficulties with their sleep, including trouble falling asleep, staying asleep, or feeling rested upon waking. This could be indicative of a sleep disorder, such as insomnia or sleep apnea, or it could be a side effect of a medication they are currently taking. It is important for the healthcare provider to address this issue and determine the underlying cause in order to promote better sleep and overall well-being for the patient. \"]\n",
      " ['N/A, N/A'\n",
      "  '\\n\\nIntroduction:\\n\\nJohn Smith is a 45-year-old male patient with an assigned number of 12345. He came to our clinic for a routine check-up and provided us with his medical history. After reviewing his medical records, it was found that he has a history of various illnesses and is currently taking multiple medications. As a doctor, it is important to understand the patient\\'s medical history in order to provide them with the best possible care. In this report, we will discuss John\\'s relevant illnesses and medications, and provide recommendations for his overall health and well-being.\\n\\nHypertension:\\n\\nJohn has a history of hypertension, which is indicated by a \"1\" in the relevant column of the table. Hypertension, also known as high blood pressure, is a condition in which the force of blood pushing against the walls of the arteries is consistently higher than normal. This can lead to serious health complications such as heart disease, stroke, and kidney problems. To manage his hypertension, John is currently taking Amlodipine, a calcium channel blocker that helps relax the blood vessels and lower blood pressure. It is important for John to continue taking this medication as prescribed by his doctor and to monitor his blood pressure regularly.\\n\\nDiabetes:\\n\\nJohn also has a history of diabetes\\n\\n\\n\\nAnxiety is a common mental health condition characterized by excessive worry and fear that can interfere with daily activities. This patient has a history of anxiety, experiencing symptoms such as restlessness, difficulty concentrating, muscle tension, and trouble sleeping. They report feeling constantly on edge and have described frequent panic attacks. The patient has been prescribed medication to help manage their symptoms, including selective serotonin reuptake inhibitors (SSRIs) and benzodiazepines. They have also been advised to seek therapy and practice relaxation techniques to cope with their anxiety. The patient\\'s anxiety is currently stable with the prescribed treatment plan and they have been able to resume their normal activities. However, close monitoring and follow-up appointments are recommended to ensure their symptoms continue to be managed effectively.\\n\\n\\n\\nCannabis is a psychoactive drug derived from the Cannabis sativa plant. It is commonly used for its mind-altering effects, including relaxation, euphoria, and altered sensory perception. In this patient\\'s health record, it is noted that they have a history of using cannabis for recreational purposes, as well as for medicinal purposes to manage symptoms such as pain, anxiety, and nausea. The patient reports using cannabis through smoking, vaping, or consuming edibles. It is important to monitor the patient\\'s cannabis use, as excessive or prolonged use can lead to potential adverse effects, including impaired cognitive function, respiratory problems, and dependence. The patient should also be educated on potential drug interactions with other medications they are taking. \\n\\n\\n\\nThe patient has been prescribed a dieting plan as a form of treatment for their current health condition. Dieting involves making intentional changes to one\\'s eating habits in order to achieve a specific goal, such as weight loss or managing a chronic illness. The patient will be required to follow a specific meal plan, which may include limiting certain foods or increasing intake of others. The goal of this treatment is to improve the patient\\'s overall health and well-being. The patient will also be advised to engage in regular physical activity in conjunction with the dieting plan for optimal results. Regular monitoring and follow-up appointments will be necessary to track progress and make any necessary adjustments to the diet plan. It is important for the patient to adhere to the prescribed diet plan in order to achieve the desired outcome. \\n\\n\\n\\nGastrointestinal (GI) refers to the digestive system, which includes the mouth, esophagus, stomach, intestines, and anus. GI issues can range from mild discomfort to serious conditions that require medical intervention. Common symptoms of GI problems include abdominal pain, bloating, diarrhea, constipation, and nausea. In this patient\\'s health record, it is noted that they have a history of gastrointestinal issues, specifically acid reflux and irritable bowel syndrome (IBS). They are currently taking medication to manage these conditions, including proton pump inhibitors for acid reflux and antispasmodics for IBS. The patient is advised to follow a healthy diet and manage stress levels to help alleviate their GI symptoms. Any changes or worsening of symptoms should be reported to their healthcare provider.\\n\\n\\n\\nIn the patient\\'s health record, it is noted that their condition has been getting worse or not improving with their current treatment. This could be a concerning sign as it may indicate that the current treatment plan is not effectively managing their condition. The patient may be experiencing worsening symptoms or their condition may not be responding to the medication as expected. It is important for the healthcare team to closely monitor the patient\\'s progress and reassess the treatment plan to ensure that the patient receives the most effective care. Further diagnostic tests or changes in medication may be necessary to address the patient\\'s worsening condition and improve their overall health.']\n",
      " ['N/A, N/A'\n",
      "  '\\n\\nIntroduction:\\n\\nAs a doctor, it is my responsibility to ensure the well-being of my patients and provide them with the best possible care. In this report, I will be discussing the health of Mr. John Smith, a 45-year-old male who was assigned the number 12345. Through a thorough analysis of his medical history and current health status, I have identified several relevant illnesses and medications that require attention. It is my hope that this report will aid in the management and treatment of Mr. Smith\\'s health conditions.\\n\\nRelevant Illnesses:\\n\\nMr. Smith has a history of hypertension, as indicated by a \"1\" in the relevant column of the provided csv data. Hypertension, or high blood pressure, is a chronic condition that can lead to serious health complications such as heart disease and stroke. It is important for Mr. Smith to monitor his blood pressure regularly and follow a healthy lifestyle to manage his hypertension. \\n\\nAnother relevant illness for Mr. Smith is diabetes, also indicated by a \"1\" in the relevant column. Diabetes is a metabolic disorder that affects the body\\'s ability to produce or use insulin, resulting in high blood sugar levels. This condition requires careful management through diet, exercise, and medication to prevent complications such as nerve damage, heart\\n\\n\\nAnxiety is a mental health condition characterized by feelings of fear, worry, and unease. It is a common condition that can range in severity from mild to debilitating. This patient has a history of anxiety, which has been impacting their daily life and causing significant distress. They report experiencing physical symptoms such as racing heart, difficulty breathing, and muscle tension. The patient has been prescribed medication to manage their anxiety, along with therapy to address the underlying causes and coping strategies. Close monitoring and regular follow-up appointments are recommended to track the effectiveness of the treatment plan and make any necessary adjustments. \\n\\n\\n\\nBehavior refers to the way an individual acts or conducts themselves. In a patient health record, behavior may be mentioned in relation to a specific condition or medication. For example, a patient may exhibit disruptive behavior as a side effect of a medication they are taking. This could include symptoms such as agitation, aggression, or hyperactivity. Alternatively, behavior may be listed as a primary condition, such as in the case of a behavioral disorder like ADHD or a mental health disorder like bipolar disorder. Accurate documentation of behavior in a patient\\'s health record is important for tracking symptoms, monitoring treatment effectiveness, and providing appropriate care for the patient.\\n\\n\\n\\nBipolar disorder is a mental health condition that affects the patient\\'s mood, energy levels, and ability to function in daily life. This condition is characterized by extreme shifts in mood, ranging from periods of elevated and irritable behavior (known as mania) to episodes of deep sadness and hopelessness (known as depression). These mood swings can be disruptive and unpredictable, causing significant distress and impairment in the patient\\'s life. Treatment for bipolar disorder typically includes a combination of medication, therapy, and lifestyle changes to help manage symptoms and improve overall well-being. It is important for the patient to regularly monitor their symptoms and work closely with their healthcare team to develop a personalized treatment plan. \\n\\n\\n\\nCannabis, also known as marijuana, is a medication that is derived from the cannabis plant. It is commonly used for its psychoactive and medicinal effects. In this patient\\'s health record, cannabis is listed as a medication that has been prescribed for pain management and to stimulate appetite. The patient has reported using cannabis for relief of chronic pain and to increase their appetite, as they have been experiencing weight loss due to a lack of appetite. It is important to monitor the patient\\'s usage of cannabis and to ensure they are using it safely and in accordance with their doctor\\'s recommendations. Frequent check-ins and adjustments to the dosage may be necessary to achieve the desired effects and manage any potential side effects.\\n\\n\\n\\nCardio, short for cardiovascular, refers to the health of the heart and blood vessels. It is often used as a term to describe various heart conditions or diseases. In a patient\\'s health record, the mention of \"cardio\" may indicate a history of heart-related issues such as hypertension, coronary artery disease, or heart failure. It may also be used to refer to medication used to treat these conditions, such as beta-blockers or statins. The presence of \"cardio\" in a patient\\'s health record may require additional monitoring and treatment to manage the condition and prevent further complications. It is important for healthcare providers to carefully assess and monitor a patient\\'s cardio health to ensure proper management and prevention of potential risks.\\n\\n\\n\\nChronic disease refers to a medical condition that is long-lasting and typically requires ongoing management. This can include conditions such as diabetes, hypertension, asthma, and heart disease. In the context of a patient health record, chronic disease would be noted as a diagnosis and would include information on the patient\\'s history, treatment plan, and any relevant medications. It is important for healthcare providers to closely monitor and manage chronic diseases, as they can significantly impact a patient\\'s overall health and quality of life. This may involve regular check-ups, lifestyle modifications, and medication management to help control symptoms and prevent complications.\\n\\n\\n\\nDepression is a mood disorder characterized by persistent feelings of sadness, hopelessness, and loss of interest in activities that were once enjoyable. It may also be accompanied by physical symptoms such as changes in appetite, sleep patterns, and energy levels. In this patient\\'s health record, it is noted that they have been diagnosed with depression and have been experiencing these symptoms for the past six months. They have also reported difficulty with daily tasks and relationships due to their depression. The patient is currently being treated with a combination of therapy and medication, and their progress is being monitored closely.\\n\\n\\n\\nThe patient has a history of dieting as a means to manage their weight. They have attempted various weight loss methods, including low-calorie diets, fad diets, and meal replacement programs. The patient reports a desire to lose weight in order to improve their overall health and body image. However, they have experienced difficulty in maintaining their weight loss and have a history of yo-yo dieting. It is important to monitor their eating habits and provide support and education on healthy, sustainable methods of weight management. Referral to a registered dietitian may also be beneficial for long-term success.\\n\\n\\n\\nExercise is a recommended form of physical activity that involves planned, structured, and repetitive bodily movements to improve or maintain physical fitness and overall health. This can include activities such as walking, running, swimming, cycling, and strength training. Regular exercise is essential for maintaining a healthy weight, strengthening muscles and bones, improving cardiovascular health, and reducing the risk of chronic diseases such as diabetes, heart disease, and certain types of cancer. It is important for patients to follow a safe and appropriate exercise routine based on their current health status and any medical conditions they may have. Exercise may also be prescribed as part of a treatment plan for certain medical conditions. It is important for patients to discuss their exercise routine with their healthcare provider and follow any recommended guidelines.\\n\\n\\n\\nGastrointestinal issues refer to any problems or disorders related to the digestive system, which includes the stomach, intestines, and other organs involved in digestion. This can include conditions such as irritable bowel syndrome, acid reflux, ulcers, and inflammatory bowel disease. Symptoms may include abdominal pain, bloating, diarrhea, constipation, and nausea. A patient with gastrointestinal issues may be prescribed medications such as antacids, proton pump inhibitors, or antibiotics to help manage their symptoms. It is important for the patient to maintain a healthy diet and lifestyle, as well as regularly follow up with their healthcare provider to monitor their condition and adjust their treatment plan as needed.\\n\\n\\n\\nIn the context of a patient\\'s health record, \"Getting Worse or Not Better\" refers to the patient\\'s condition or symptoms not improving or even deteriorating despite receiving treatment. This could indicate that the current treatment plan is not effective and may need to be adjusted or that the patient has developed complications or underlying health issues that are hindering their recovery. It is important for healthcare providers to closely monitor the patient\\'s progress and make necessary changes to the treatment plan to ensure the best possible outcome for the patient. Failure to address \"Getting Worse or Not Better\" could lead to serious consequences for the patient\\'s health and well-being.\\n\\n\\n\\nLong-Term Care is a type of healthcare service that is designed to support patients who have chronic or ongoing health conditions that require continuous care. This type of care is often provided in a specialized facility, such as a nursing home or assisted living facility. Patients who require long-term care may have conditions such as dementia, Alzheimer\\'s disease, or physical disabilities that limit their ability to perform daily tasks. The goal of long-term care is to provide patients with the necessary support and assistance to maintain their quality of life and manage their conditions effectively. This may include assistance with activities of daily living, medication management, and medical monitoring. Long-term care is often documented in a patient\\'s health record to ensure that all healthcare providers involved in their care are aware of their specific needs and treatment plan. \\n\\n\\n\\nA mental health questionnaire is a tool used by healthcare professionals to assess a patient\\'s mental health status. It typically consists of a series of questions that cover a range of topics related to a person\\'s thoughts, feelings, and behaviors. This questionnaire is often included as part of a patient\\'s health record and serves as an important tool for healthcare providers to gather information about a patient\\'s mental health history, symptoms, and potential risk factors. The information gathered from the questionnaire can help healthcare providers make an accurate diagnosis and develop an appropriate treatment plan for the patient. It also serves as a reference point for tracking changes in the patient\\'s mental health over time. The use of a mental health questionnaire can aid in early detection and intervention of mental health disorders, promoting overall well-being and quality of life for the patient.\\n\\n\\n\\nQuality of Life is a measure of an individual\\'s overall well-being and ability to function in daily life. It is often used in the context of a patient\\'s health record to assess the impact of a condition or medication on their overall quality of life. This can include physical, emotional, and social factors such as pain levels, ability to carry out daily activities, and social relationships. Quality of life is an important consideration in healthcare, as it can greatly affect a patient\\'s satisfaction with their treatment and their overall outlook on life. Monitoring changes in quality of life over time can also help healthcare providers make adjustments to treatment plans to improve the patient\\'s overall well-being. \\n\\n\\n\\nSleep is a crucial aspect of a patient\\'s health and well-being. It is a natural state of rest that allows the body to recharge and repair itself. The quality and quantity of sleep can greatly impact a patient\\'s overall health, as it plays a vital role in regulating important bodily functions such as metabolism, immune system, and cognitive function. Any disruption or disorder in sleep can lead to a range of health issues, including fatigue, mood disturbances, and impaired concentration. It is important for healthcare providers to monitor and address any sleep-related concerns in a patient\\'s health record to ensure optimal health and well-being.\\n\\n\\n\\nStress is a common condition that can affect both physical and mental health. It is often caused by external factors such as work, relationships, or financial problems. In this patient\\'s health record, it is noted that they have been experiencing high levels of stress over the past few months. They have reported symptoms such as headaches, muscle tension, and difficulty sleeping. The patient also mentions feeling overwhelmed and anxious. To manage their stress, the patient has been advised to practice relaxation techniques, exercise regularly, and make lifestyle changes to reduce stressors. The doctor has also prescribed a low-dose medication to help with anxiety and improve sleep. The patient will have a follow-up appointment to monitor their progress and adjust treatment if needed.']\n",
      " ['N/A, N/A'\n",
      "  '\\n\\nIntroduction:\\n\\nAs a doctor, it is essential to understand the overall health status of a patient and identify any potential health risks. In this report, I will be discussing the public health profile of Mr. John Smith, a 65-year-old male patient with assigned number 12345. This report is based on the information provided in the csv data, which includes details of Mr. Smith\\'s medical conditions and medications.\\n\\nDiabetes:\\n\\nMr. Smith has been diagnosed with diabetes, a chronic condition that affects the body\\'s ability to regulate blood sugar levels. According to the csv data, he has been living with diabetes for the past 10 years and is currently taking insulin injections to manage his condition. It is important to note that diabetes can increase the risk of other health complications such as heart disease, stroke, and kidney disease.\\n\\nHypertension:\\n\\nThe csv data also indicates that Mr. Smith has been diagnosed with hypertension, also known as high blood pressure. This is a common condition among older adults and can increase the risk of heart disease, stroke, and other health issues. It is crucial to monitor and manage hypertension through lifestyle changes and medication, which Mr. Smith is currently doing.\\n\\nHigh Cholesterol:\\n\\nAnother relevant illness that Mr. Smith is dealing with is high cholesterol\\n\\n\\n\\nChronic disease, also known as a chronic condition, is a long-term health condition that requires ongoing medical management and care. It is a condition that persists for a prolonged period of time, often for the rest of a patient\\'s life. Examples of chronic diseases include diabetes, hypertension, asthma, and cancer. These conditions can significantly impact a patient\\'s daily life and may require lifestyle changes, medication management, and regular check-ups with healthcare professionals to effectively manage symptoms and prevent complications. It is important for patients with chronic diseases to closely monitor their condition and adhere to their treatment plan to maintain their overall health and well-being. \\n\\n\\n\\nDiabetes is a chronic medical condition that affects the body\\'s ability to regulate blood sugar levels. It is characterized by high levels of glucose in the blood due to either a lack of insulin production or the body\\'s inability to use insulin effectively. This can lead to a variety of symptoms, including increased thirst and urination, fatigue, and blurred vision. If left untreated, diabetes can also lead to serious complications such as nerve damage, kidney disease, and cardiovascular problems. Treatment for diabetes typically involves lifestyle changes, such as a healthy diet and regular exercise, as well as medication to help regulate blood sugar levels. It is important for patients with diabetes to closely monitor their blood sugar levels and regularly check in with their healthcare provider to manage their condition effectively. \\n\\n\\n\\nGastrointestinal refers to the digestive system, which includes the stomach, intestines, and other organs involved in breaking down and absorbing food. In this patient\\'s health record, it is noted that they have been experiencing gastrointestinal issues, such as abdominal pain, diarrhea, and nausea. This could be indicative of a variety of conditions, including gastritis, irritable bowel syndrome, or a gastrointestinal infection. Further testing and examination may be necessary to determine the specific cause of the patient\\'s symptoms. Treatment for gastrointestinal issues may include dietary changes, medications, and lifestyle modifications. It is important for the patient to closely follow their healthcare provider\\'s recommendations and monitor their symptoms for any changes.\\n\\n\\n\\nIn the patient\\'s health record, it has been noted that their condition or medication status is currently marked as \"getting worse or not better.\" This means that the patient\\'s symptoms, whether related to their underlying condition or the medication they are taking, are not improving and may be worsening. This could be a cause for concern and may require a reassessment of the treatment plan. It is important for the healthcare team to closely monitor the patient\\'s progress and make any necessary adjustments to ensure that they are receiving the most effective care. Further diagnostic tests or consultations may also be recommended to determine the cause of the lack of improvement and to develop a new plan of action.\\n\\n\\n\\nHypertension, also known as high blood pressure, is a chronic medical condition in which the force of blood against the walls of the arteries is consistently elevated. This can lead to damage of the blood vessels and multiple organs, including the heart, brain, and kidneys. In this patient\\'s health record, it is noted that they have been diagnosed with hypertension and are currently being treated with medication to control their blood pressure. It is important for the patient to regularly monitor their blood pressure and follow a healthy lifestyle, including a balanced diet and regular exercise, to manage their condition and prevent complications. Close monitoring and adherence to treatment is crucial in managing hypertension and reducing the risk of associated health problems.\\n\\n\\n\\nKidney disease, also known as renal disease, is a medical condition in which the kidneys are damaged or unable to function properly. This condition can be acute or chronic and can have various causes such as diabetes, high blood pressure, infections, or certain medications. Common symptoms of kidney disease include changes in urinary frequency, blood in the urine, swelling in the hands and feet, and fatigue. Treatment for kidney disease may involve medication, lifestyle changes, and in severe cases, dialysis or kidney transplantation. It is important for the patient to closely monitor their kidney function and follow their healthcare provider\\'s instructions to manage this condition effectively.\\n\\n\\n\\nLong-Term Care refers to a type of healthcare service that is provided to patients who have chronic or long-term medical conditions that require ongoing management and support. This type of care is often provided in a specialized facility, such as a nursing home or assisted living facility, and focuses on helping patients maintain their quality of life and manage their health needs. Patients receiving long-term care may have conditions such as dementia, Alzheimer\\'s disease, or other chronic illnesses that require frequent medical attention and assistance with activities of daily living. This type of care is typically documented in a patient\\'s health record to ensure that all healthcare providers are aware of the patient\\'s specific needs and treatment plan. \\n\\n\\n\\nObesity/Metabolic is a condition characterized by excess body fat and impaired metabolic function. The patient\\'s body mass index (BMI) is above 30, indicating that they are obese. This condition increases the risk of developing other health issues such as type 2 diabetes, heart disease, and high blood pressure. The patient\\'s medical history reveals a sedentary lifestyle and a diet high in processed foods and sugar, contributing to their obesity. Metabolic dysfunction is also present, as evidenced by their elevated cholesterol and blood sugar levels. The patient\\'s treatment plan will focus on lifestyle modifications such as a balanced diet and regular exercise to help manage their weight and improve their overall metabolic health. Close monitoring of their blood sugar and cholesterol levels will also be necessary to prevent complications.\\n\\n\\n\\nOsteoarthritis is a degenerative joint disease that is characterized by the breakdown of cartilage in the joints. This condition is commonly seen in elderly patients and can cause significant pain and stiffness in the affected joints. The patient may experience difficulty with daily activities such as walking, climbing stairs, and gripping objects. X-rays may show joint space narrowing and the formation of bone spurs. Treatment options may include medication for pain management, physical therapy, and joint injections. In severe cases, joint replacement surgery may be necessary. It is important for the patient to maintain a healthy weight and engage in low-impact exercises to help manage symptoms and slow the progression of the disease.\\n\\n\\n\\nPain is a common symptom that is often reported by patients and recorded in their health records. It can be described as a distressing sensation or feeling of discomfort that can range from mild to severe. Pain can be acute, meaning it is short-term and usually associated with an injury or illness, or it can be chronic, lasting for an extended period of time. In some cases, the cause of pain may be unknown, while in others it may be a result of a specific condition or disease. It is important for healthcare providers to accurately document the location, severity, and type of pain in a patient\\'s health record in order to effectively manage and treat it. This information can also help track the progress of pain management strategies and identify any potential underlying causes. \\n\\n\\n\\nQuality of Life is a term used to describe a patient\\'s overall well-being and satisfaction with their life. It takes into consideration physical, mental, and social factors that can impact a person\\'s daily life and overall happiness. In the context of a patient health record, Quality of Life may be assessed through various measures such as self-reported surveys or assessments by healthcare professionals. This information is important in understanding the patient\\'s overall health and can help guide treatment plans and interventions. Improving a patient\\'s Quality of Life is often a primary goal in healthcare, as it can greatly impact their overall health and recovery.\\n\\n\\n\\nSemaglutide is a medication that is used to treat type 2 diabetes in patients. It works by stimulating the release of insulin and decreasing the production of glucose in the liver. This helps to regulate blood sugar levels and improve glycemic control. Semaglutide is typically given as a once-weekly injection and has been shown to be effective in reducing HbA1c levels and promoting weight loss in patients with diabetes. However, it may also cause side effects such as nausea, vomiting, and diarrhea. It is important for patients to closely monitor their blood sugar levels while taking semaglutide and to report any concerning symptoms to their healthcare provider.\\n\\n\\n\\nSleep is a vital aspect of overall health and well-being. This patient experiences difficulty falling and staying asleep, which has been impacting their daily functioning and quality of life. The lack of sufficient sleep can lead to fatigue, irritability, and difficulty concentrating. The patient reports feeling restless and anxious at night, making it challenging to get a restful sleep. The doctor has prescribed sleep medication to help regulate their sleep cycle and improve the quality of sleep. The patient is advised to follow good sleep hygiene practices, such as avoiding caffeine and electronics before bedtime, to support the effectiveness of the medication. Regular follow-ups will be scheduled to monitor the patient\\'s response to the medication and adjust the dosage if necessary.\\n\\n\\n\\nStress is a condition that is commonly experienced by individuals and can have a significant impact on their overall health and well-being. It is often described as a feeling of emotional or mental tension, caused by external pressures or internal worries. In the context of this patient\\'s health record, stress may be a contributing factor to various health issues, such as high blood pressure, headaches, and difficulty sleeping. The patient may also report symptoms such as irritability, difficulty concentrating, and changes in appetite. Treatment for stress may include lifestyle changes such as exercise, relaxation techniques, and therapy, as well as medication to help manage symptoms. It is important for the healthcare provider to address and monitor the patient\\'s stress levels in order to promote overall health and well-being.']\n",
      " ['N/A, N/A'\n",
      "  \"\\n\\nIntroduction:\\n\\nAs a doctor, it is my duty to ensure the health and well-being of my patients. In this report, I will be discussing the public health of Mr. John Smith, a 65-year-old male patient with the assigned number 12345. Through the use of data from his medical history, I will provide an in-depth analysis of his current health status, including any relevant illnesses and medications.\\n\\nHypertension:\\n\\nAccording to the csv data, Mr. Smith has been diagnosed with hypertension, commonly known as high blood pressure. This condition is characterized by consistently elevated blood pressure levels, which can lead to serious health complications such as heart disease and stroke. In Mr. Smith's case, his hypertension is considered severe, with a systolic blood pressure reading of 180 mmHg or above. To manage his condition, Mr. Smith has been prescribed Losartan, a medication that helps to relax blood vessels and lower blood pressure levels.\\n\\nDiabetes:\\n\\nThe csv data also shows that Mr. Smith has been diagnosed with type 2 diabetes, a chronic condition that affects the body's ability to regulate blood sugar levels. This condition is typically managed through a combination of medication, diet, and exercise. In Mr. Smith's case, he has been\\n\\n\\n\\nAlzheimer's disease is a progressive neurological disorder that affects memory and cognitive functioning. This patient has been diagnosed with Alzheimer's, with symptoms including forgetfulness, confusion, and difficulty with daily tasks. The disease has significantly impacted their daily life and they require assistance with activities of daily living. They have been prescribed medication to help slow the progression of the disease, manage symptoms, and improve quality of life. The patient's care plan includes regular screenings, cognitive exercises, and support from caregivers. Ongoing monitoring and adjustments to medication may be necessary as the disease progresses. Family history, lifestyle factors, and other medical conditions may also play a role in the development and progression of this disease.\\n\\n\\n\\nArthritis is a chronic condition that causes inflammation and stiffness in the joints, resulting in pain and limited mobility. This condition is commonly found in the elderly population, but can also affect younger individuals. The patient has been diagnosed with osteoarthritis, the most common form of arthritis that occurs when the protective cartilage in the joints wears down over time. This has caused significant discomfort and difficulty with daily activities for the patient. Treatment for arthritis typically includes pain management, physical therapy, and medication to reduce inflammation. The patient's current medication regimen includes nonsteroidal anti-inflammatory drugs (NSAIDs) and disease-modifying antirheumatic drugs (DMARDs) to help manage symptoms and slow the progression of the disease. Regular follow-up appointments will be necessary to monitor the patient's condition and adjust treatment as needed. \\n\\n\\n\\nBehavior is a term used to describe a patient's actions and reactions in a medical setting. This can include behaviors such as agitation, aggression, self-harm, or other disruptive actions. In a patient's health record, behavior may be listed as a condition or medication if it is being actively managed or treated. This may involve a combination of medication, therapy, and behavioral interventions to help the patient manage their behaviors and improve their overall well-being. Accurate documentation of behavior is essential in a patient's health record to ensure proper treatment and continuity of care. It also allows healthcare providers to track progress and make adjustments to the treatment plan as needed. \\n\\n\\n\\nChronic disease is a long-term health condition that requires ongoing management and treatment. It is typically characterized by symptoms that persist for months or even years, and can have a significant impact on a patient's quality of life. Examples of chronic diseases include diabetes, heart disease, and arthritis. In this patient's health record, it is important to note any previous diagnoses of chronic disease and the current treatment plan being followed. It is also important to monitor any changes in symptoms or medication adherence to ensure the best possible management of the chronic disease. Regular check-ups and communication with healthcare providers are crucial in managing chronic disease and maintaining overall health.\\n\\n\\n\\nDisabilities refer to a physical, mental, or developmental impairment that significantly impacts a person's daily activities and functioning. This condition can be present at birth or acquired later in life due to injury, illness, or aging. In a patient health record, disabilities are listed as a medical history and provide important information for healthcare providers to understand the patient's needs and limitations. This information is crucial in developing a treatment plan that takes into account the patient's abilities and challenges. Disabilities can range from mobility limitations to cognitive impairments and require ongoing care and support. Proper documentation of disabilities in a patient's health record is essential to ensure they receive appropriate and effective medical care. \\n\\n\\n\\nExercise is a recommended form of physical activity that is prescribed to improve overall health and well-being. It involves engaging in activities that increase the heart rate and promote strength, flexibility, and endurance. Regular exercise has been shown to decrease the risk of chronic diseases such as heart disease, diabetes, and obesity. It can also help with weight management, stress management, and improving mental health. This patient has been advised to engage in regular exercise as part of their treatment plan to improve their overall health and manage any existing health conditions. It is important for the patient to follow a personalized exercise plan that is suitable for their current fitness level and health needs.\\n\\n\\n\\nIn the patient's health record, it is noted that their condition is getting worse or not improving despite treatment. This could be a cause for concern as it indicates that the current treatment plan may not be effective in managing the patient's health. It is important for the healthcare team to closely monitor the patient's symptoms and make necessary adjustments to their treatment plan. Further investigations may also be needed to determine the underlying cause of the lack of improvement. It is crucial for the patient to communicate any changes in their symptoms to their healthcare provider in order to properly manage their condition and prevent it from worsening.\\n\\n\\n\\nLong-Term Care is a type of care provided to patients who require assistance with daily activities due to a chronic illness, injury, or disability. This care is often provided in a specialized facility, such as a nursing home, and is tailored to meet the individual needs of the patient. The goal of Long-Term Care is to help patients maintain their quality of life and independence as much as possible. In a patient health record, it would be noted as a long-term condition and may include information on the patient's care plan, medications, and any changes in their condition. It is important for healthcare providers to regularly assess and monitor the patient's progress and adjust their care plan accordingly to ensure their well-being and comfort.\\n\\n\\n\\nMemory care is a specialized type of long-term care that focuses on providing support and assistance to individuals with memory disorders, such as dementia or Alzheimer's disease. This type of care is designed to help patients maintain their independence and quality of life while managing their memory-related symptoms. In a patient's health record, memory care would typically include a detailed assessment of the patient's cognitive functioning, as well as a personalized care plan to address their specific needs and challenges. This may include medication management, therapy, and specialized activities and interventions to support memory and cognitive function. Regular monitoring and updates on the patient's condition and progress would also be documented in their health record.\\n\\n\\n\\nQuality of life is a subjective measure of an individual's overall well-being and satisfaction with their daily life. It is often used as an indicator of a patient's overall health and can be affected by various factors such as physical health, mental health, social support, and access to healthcare. In the context of a patient health record, quality of life may be included as a vital sign or assessed through patient-reported outcome measures. It is important for healthcare providers to monitor and address any factors that may be negatively impacting a patient's quality of life in order to improve their overall health and well-being.\\n\\n\\n\\nSleep is a natural state of rest in which the body and mind are in a relaxed state and rejuvenate. It is an essential part of maintaining good physical and mental health. The patient reports difficulty falling asleep and staying asleep, leading to feelings of fatigue and irritability during the day. This condition, known as insomnia, has been ongoing for the past month and is negatively impacting the patient's daily functioning. The patient has tried various over-the-counter sleep aids, but they have been ineffective. As a result, the patient has been prescribed a medication to help promote sleep and improve overall sleep quality. The patient will continue to monitor their sleep patterns and report any changes or concerns to their healthcare provider.\\n\\n\\n\\nStress is a common condition that can affect a patient's physical and mental health. It is often caused by being overwhelmed with responsibilities, changes in one's personal or professional life, or other external factors. Symptoms of stress can include headaches, fatigue, muscle tension, and difficulty concentrating. In addition to impacting a patient's overall well-being, chronic stress can also increase the risk of developing other health conditions such as high blood pressure and heart disease. Treatment for stress may include lifestyle changes, therapy, and medication to manage symptoms and improve coping mechanisms. It is important for patients to communicate any symptoms of stress to their healthcare provider in order to develop an effective treatment plan.\"]\n",
      " ['N/A, N/A'\n",
      "  '\\n\\nIntroduction:\\n\\nThis public health report is based on the medical data of Patient 12345, a 56-year-old male. The patient\\'s data has been collected and analyzed for the purpose of identifying any relevant health conditions and medications. The patient\\'s information has been obtained through a thorough examination and review of their medical history. This report aims to provide a comprehensive overview of the patient\\'s current health status and any potential health concerns that may require further investigation or treatment.\\n\\nHypertension:\\nPatient 12345 has been diagnosed with hypertension, as indicated by the presence of a \"1\" in the corresponding column of the csv data. Hypertension, or high blood pressure, is a common chronic condition that affects millions of people worldwide. It is characterized by consistently elevated blood pressure levels, which can lead to serious health complications such as heart disease, stroke, and kidney failure. The patient\\'s medical data shows that they are currently taking a combination of medications to manage their hypertension, including amlodipine and lisinopril. These medications work by relaxing the blood vessels and decreasing the workload of the heart, thus reducing the patient\\'s blood pressure levels.\\n\\nType 2 Diabetes:\\nThe patient\\'s data also reveals a diagnosis of type 2 diabetes, which is a\\n\\n\\n\\nAnxiety is a mental health condition characterized by intense feelings of worry, fear, and nervousness. This patient has a history of anxiety and has been experiencing symptoms such as frequent panic attacks, difficulty controlling anxious thoughts, and avoidance of certain situations or activities due to fear. They have been prescribed an anti-anxiety medication, such as selective serotonin reuptake inhibitors (SSRIs) or benzodiazepines, to help manage their symptoms. It is important for the patient to attend regular therapy sessions and practice techniques such as deep breathing and mindfulness to cope with their anxiety. Close monitoring of their medication, as well as any potential side effects, will be necessary to ensure effective treatment.\\n\\n\\n\\nBehavior, also known as behaviorism, refers to a range of actions and reactions exhibited by an individual in response to their environment. In the context of a patient health record, behavior can refer to a variety of factors such as mood, attitude, and actions that may impact their overall well-being. This can include both positive and negative behaviors, such as adherence to medication and treatment plans, as well as habits and lifestyle choices that may affect their health. In some cases, a patient\\'s behavior may also be indicative of underlying mental health conditions or may be a side effect of medication. It is important for healthcare providers to document and monitor a patient\\'s behavior in order to provide comprehensive and individualized care.\\n\\n\\n\\nBipolar disorder, also known as manic-depressive disorder, is a mental illness characterized by extreme shifts in mood, energy, and activity levels. This condition is typically chronic and can significantly impact an individual\\'s daily functioning and relationships. In this patient\\'s health record, they have been diagnosed with bipolar disorder and have a history of experiencing both manic and depressive episodes. They may also be prescribed medication, such as mood stabilizers, to help manage their symptoms. Close monitoring and regular therapy sessions may also be necessary to effectively manage this condition and improve the patient\\'s overall well-being. \\n\\n\\n\\nDepression is a common mental health disorder that affects a patient\\'s mood and overall well-being. It is characterized by feelings of sadness, hopelessness, and loss of interest in activities that the patient once enjoyed. In this patient\\'s health record, it is noted that they have been experiencing symptoms of depression, such as persistent low mood, changes in appetite and sleep patterns, and difficulty concentrating. The patient has also expressed feelings of worthlessness and has had thoughts of self-harm. They have been prescribed antidepressant medication and are currently undergoing therapy to manage their symptoms. Regular follow-ups and monitoring of their mental health status are recommended to ensure effective management of their condition.\\n\\n\\n\\nDrug-induced delirium is a temporary alteration in mental status and behavior caused by the use of certain medications. This condition is documented in the patient\\'s health record and is characterized by symptoms such as confusion, disorientation, agitation, and hallucinations. It can occur as a side effect of various medications, including sedatives, antidepressants, and antipsychotics. The patient may have a history of substance abuse or a sensitivity to certain drugs, making them more susceptible to developing this condition. Treatment involves discontinuing the offending medication and providing supportive care to manage the symptoms. Close monitoring of the patient\\'s mental status and vital signs is essential to ensure their safety and well-being. \\n\\n\\n\\nExercise is a form of physical activity performed to improve or maintain overall health and fitness. It involves the use of different body movements and muscle contractions to increase heart rate and strengthen muscles. In the context of a patient health record, exercise may be prescribed as a treatment for various conditions such as obesity, high blood pressure, diabetes, and heart disease. Regular exercise has been shown to have numerous benefits for both physical and mental health, including weight management, improved cardiovascular health, increased energy levels, and reduced stress and anxiety. The type and intensity of exercise recommended may vary depending on the patient\\'s age, medical history, and current health status. It is important for patients to follow their prescribed exercise regimen and consult with their healthcare provider before making any changes to their exercise routine.\\n\\n\\n\\n\\'Getting worse or not better\\' refers to a patient\\'s condition or response to treatment that is not showing signs of improvement or is deteriorating. This can be a concerning and frustrating situation for both the patient and their healthcare provider, as it may indicate that the current treatment plan is not effective or that the underlying condition is more severe than initially thought. It is important for the patient\\'s health record to document any changes in symptoms or lack of progress, as this can guide further treatment decisions and help track the overall progress of the patient\\'s health. Close monitoring and regular communication between the patient and their healthcare team is crucial in managing a condition that is not improving.\\n\\n\\n\\nHospital admission refers to the process of admitting a patient into a hospital for inpatient care. This is typically done when a patient\\'s condition requires specialized medical attention and treatment that cannot be provided in an outpatient setting. The decision to admit a patient to the hospital is usually made by a physician or other healthcare provider and is based on the patient\\'s medical history, current symptoms, and overall health status. During a hospital admission, the patient\\'s vital signs, medical history, and other relevant information will be recorded in their health record. This information will be used by the healthcare team to create a treatment plan and monitor the patient\\'s progress during their stay in the hospital. Hospital admissions can vary in length, from a few days to weeks, depending on the patient\\'s condition and response to treatment. \\n\\n\\n\\nHospital readmission refers to the situation where a patient is admitted to the hospital again within a short period of time after being discharged from their previous hospital stay. This may occur due to a variety of reasons, such as complications from their initial treatment, inadequate follow-up care, or a new health issue. In a patient health record, hospital readmission would be documented as a significant event, with details of the reasons for readmission, any interventions or treatments provided, and the patient\\'s progress during their second hospital stay. This information is important for healthcare providers to track and analyze in order to improve the overall quality of care and reduce the likelihood of readmission for patients.\\n\\n\\n\\nLong-term care is a type of medical support and assistance that is provided to individuals who have chronic health conditions or disabilities that require ongoing care. This type of care is typically provided in a nursing home, assisted living facility, or in the patient\\'s own home by trained caregivers and healthcare professionals. The goal of long-term care is to help patients maintain their quality of life and manage their condition in a safe and comfortable environment. This may include assistance with daily activities, medication management, and specialized therapies. In a patient health record, information about the type of long-term care received, the duration of care, and any changes in the patient\\'s condition or treatment plan will be documented for the purpose of providing comprehensive and coordinated care.\\n\\n\\n\\nA mental health questionnaire is a diagnostic tool used to assess a patient\\'s mental health status. It is typically included in a patient\\'s health record as part of a comprehensive evaluation. The questionnaire consists of a series of questions that cover a variety of mental health topics, such as mood, behavior, and thought patterns. The patient\\'s responses to the questionnaire can provide valuable information to healthcare professionals, helping them to identify any underlying mental health conditions and make appropriate treatment recommendations. This questionnaire is a crucial component of the patient\\'s health record, as it allows healthcare providers to gain a better understanding of the patient\\'s mental health and provide personalized care. \\n\\n\\n\\nStress is a common condition that occurs when a person experiences physical, mental, or emotional strain. It can be caused by a variety of factors, including work, relationships, financial problems, or health issues. In this patient\\'s health record, stress is noted as a contributing factor to their overall health. The patient reports feeling overwhelmed and anxious, with symptoms such as headaches, muscle tension, and difficulty sleeping. They also mention a recent increase in workload and family problems. The doctor has recommended lifestyle changes, relaxation techniques, and possibly medication to help manage the patient\\'s stress levels. Regular follow-up appointments and monitoring of symptoms will be necessary to ensure the patient\\'s stress is properly managed.']]\n"
     ]
    }
   ],
   "source": [
    "from phi_gen.st_to_unst_module import st_to_unst as sun\n",
    "import pandas as pd\n",
    "\n",
    "# Define the path to your patient data CSV file\n",
    "patient_csv_file = r\"C:\\Users\\noliv\\Downloads\\structured_data_filled.csv\" # Replace with the actual path\n",
    "\n",
    "\n",
    "\n",
    "print(\"\\n--- Creating AnnData Object from CSV ---\")\n",
    "try:\n",
    "    adata = sun.create_anndata_from_csv(patient_csv_file, patient_id_columns=[\"PatientID\", \"Name\"])\n",
    "\n",
    "    # Explore the AnnData object\n",
    "    print(adata)  # Print basic information\n",
    "    print(\"\\nSample of structured patient data (adata.obs):\")\n",
    "    print(adata.obs.head())  # Show the first few rows of the original CSV data\n",
    "\n",
    "    print(\"\\nSample of unstructured patient reports (adata.X):\")\n",
    "    if isinstance(adata.X, pd.DataFrame):\n",
    "        print(adata.X.head())\n",
    "    else:\n",
    "        print(\"adata.X is not a DataFrame. Showing raw data:\")\n",
    "        print(adata.X)  # Or print(adata.X.toarray()) if it's a sparse matrix\n",
    "\n",
    "except FileNotFoundError:\n",
    "    print(f\"Error: CSV file not found at {patient_csv_file}\")\n",
    "except Exception as e:\n",
    "    print(f\"An error occurred: {e}\")"
   ]
  },
  {
   "cell_type": "code",
   "execution_count": 3,
   "id": "ce02ec37",
   "metadata": {},
   "outputs": [
    {
     "name": "stdout",
     "output_type": "stream",
     "text": [
      "[['N/A, N/A'\n",
      "  \"\\nIntroduction\\n\\nPatient Name: John Smith\\nAge: 45\\nGender: Male\\nAssigned Number: 12345\\n\\nAs a doctor, it is important to regularly assess the overall health of patients in order to prevent and manage any potential illnesses. In this case, Mr. John Smith, a 45-year-old male, has presented for a routine check-up. Upon reviewing his medical records, it is noted that he has a history of several health conditions and is currently taking multiple medications. A thorough evaluation of his health is necessary to ensure that he is receiving appropriate care and treatment for his existing conditions.\\n\\nHypertension and Diabetes\\n\\nMr. Smith has been diagnosed with both hypertension and diabetes, two chronic conditions that require ongoing management and monitoring. Hypertension, also known as high blood pressure, is a condition in which the force of blood against the artery walls is too high. This can put strain on the heart and lead to serious health complications if left uncontrolled. Diabetes, on the other hand, is a condition in which the body is unable to properly regulate blood sugar levels. This can lead to a variety of health issues, such as heart disease, nerve damage, and kidney damage. It is important for Mr. Smith to regularly monitor his blood pressure and\\n\\n\\n\\nAnxiety is a mental health condition characterized by excessive worry, fear, and nervousness that can significantly impact daily functioning. This patient has a history of anxiety and reports experiencing persistent feelings of restlessness, difficulty concentrating, and physical symptoms such as muscle tension and fatigue. They have been prescribed medication to manage their symptoms, including selective serotonin reuptake inhibitors (SSRIs) and cognitive-behavioral therapy. The patient reports some improvement in their symptoms, but continues to struggle with occasional panic attacks and social anxiety. They are encouraged to continue with their treatment plan and to seek support from their healthcare provider if their symptoms worsen.\\n\\n\\n\\nBehavior refers to the actions and reactions of a patient in response to their environment and circumstances. In a patient health record, behavior may be noted as a significant factor in their overall health and wellbeing. This could include behaviors such as aggression, agitation, withdrawal, or self-harm. It may also refer to the presence of certain behaviors associated with a specific condition or medication, such as hyperactivity in patients with ADHD or mood changes in patients taking antidepressants. Understanding a patient's behavior can help healthcare providers develop appropriate treatment plans and interventions to address any underlying issues and improve the patient's overall health. Regular monitoring and documentation of behavior in a patient's health record can also help track progress and identify any changes that may need to be addressed.\\n\\n\\n\\nCannabis is a psychoactive drug derived from the Cannabis plant and is commonly used for its medicinal and recreational properties. The patient reports using cannabis as a form of pain relief for their chronic back pain. However, it has also been noted that the patient experiences occasional feelings of anxiety and paranoia after using cannabis. The patient reports using cannabis in moderation and is aware of potential side effects and risks associated with its use. Regular monitoring of the patient's cannabis use is recommended to ensure safe and effective pain management. Patient education on the potential risks and benefits of cannabis use is also recommended.\\n\\n\\n\\nCardio, also known as cardiovascular disease, is a chronic condition that affects the heart and blood vessels. It is typically caused by a combination of factors, including high blood pressure, high cholesterol, smoking, and a sedentary lifestyle. As a result, the arteries become narrowed and hardened, making it difficult for blood to flow properly to the heart. This can lead to serious health complications, such as heart attack, stroke, or heart failure. Treatment for cardio usually involves lifestyle changes, such as regular exercise and a healthy diet, as well as medications to control blood pressure and cholesterol levels. It is important for patients with cardio to regularly monitor their condition and follow their doctor's recommendations to prevent further complications. \"]\n",
      " ['N/A, N/A'\n",
      "  \"\\n\\nIntroduction:\\n\\nMrs. Jane Smith is a 45-year-old female patient who has been assigned the number 12345. She presents with a medical history of various illnesses and is currently on multiple medications. As a doctor, it is important to understand her medical background in order to provide the best possible care for her. In this report, I will discuss her relevant illnesses and medications in detail.\\n\\nHypertension:\\n\\nMrs. Smith has been diagnosed with hypertension, which is a condition characterized by high blood pressure. According to her medical records, she has been dealing with this condition for the past 10 years. Hypertension is a major risk factor for heart disease and stroke, and it requires lifelong management. Mrs. Smith is currently taking medication to control her blood pressure and she has been compliant with her treatment plan. However, regular check-ups and adjustments to her medication may be needed to ensure that her blood pressure is within a healthy range.\\n\\nType 2 Diabetes:\\n\\nMrs. Smith also has a history of type 2 diabetes, a chronic condition that affects the way her body processes glucose (sugar). This can lead to various complications if left untreated, such as heart disease, nerve damage, and kidney disease. It is important for Mrs. Smith to maintain a healthy\\n\\n\\n\\nCardio is a medication commonly prescribed for patients with cardiovascular diseases, such as hypertension, coronary artery disease, or heart failure. It contains a combination of drugs that work together to lower blood pressure, improve blood flow, and reduce the workload on the heart. This medication is usually taken orally once a day and may be adjusted based on the patient's response. It is important for patients to regularly monitor their blood pressure and report any side effects to their healthcare provider. Additionally, lifestyle changes, such as maintaining a healthy diet and exercising regularly, may also be recommended to complement the effects of Cardio. Overall, this medication is used to manage and improve the overall functioning of the heart in patients with cardiovascular conditions. \\n\\n\\n\\nExercise is a form of physical activity that is recommended for maintaining overall health and wellness. It involves engaging in regular physical activities such as walking, running, swimming, and strength training. Exercise has been shown to have numerous benefits for individuals, including improving cardiovascular health, reducing the risk of chronic diseases, and increasing strength and flexibility. It is often prescribed as part of a treatment plan for various medical conditions, such as obesity, diabetes, high blood pressure, and heart disease. The frequency, duration, and type of exercise may vary depending on the patient's age, medical history, and current health status. Regular exercise can greatly improve overall health and should be incorporated into one's daily routine.\\n\\n\\n\\nQuality of Life is a term used to describe a patient's overall well-being and satisfaction with their daily life. This can include physical, mental, and emotional aspects such as their level of pain, ability to perform activities of daily living, and overall happiness. In the context of a patient's health record, Quality of Life may be assessed through various measures and documented in the patient's chart. This information is important for healthcare providers to understand how the patient is coping with their condition or medication and to determine the effectiveness of their treatment plan. Improving a patient's Quality of Life is often a primary goal in healthcare, as it can greatly impact their overall health and recovery.\\n\\n\\n\\nSleep is a condition in which a person experiences a state of reduced consciousness and physical activity, typically at night. It is a vital part of one's overall health and well-being, as it allows the body to rest and repair itself. In this patient's health record, it is noted that they have been experiencing difficulties with sleep, including trouble falling asleep, staying asleep, or waking up too early. This can lead to feelings of fatigue, irritability, and difficulty with concentration and memory. The patient may also report experiencing nightmares or restless sleep. Treatment for sleep problems may include lifestyle changes, such as maintaining a regular sleep schedule and reducing caffeine intake, as well as medication to help with falling and staying asleep.\"]\n",
      " ['N/A, N/A'\n",
      "  '\\n\\nIntroduction:\\nAs a doctor, it is my duty to evaluate and manage the health of my patients. I have recently reviewed the medical records of one of my patients, Mr. John Smith, who is a 45-year-old male (assigned number: 12345). Mr. Smith came to my clinic with complaints of chest pain, difficulty breathing, and fatigue. Upon further investigation, I found that he has a history of hypertension, diabetes, and high cholesterol. In addition, he is taking multiple medications to manage these conditions. In this public health report, I will discuss the relevance of each illness and medication in Mr. Smith\\'s overall health.\\n\\nHypertension:\\nMr. Smith has a history of hypertension, which is a chronic condition characterized by high blood pressure. According to the csv data, his blood pressure readings have been consistently above 140/90 mmHg. This is concerning as hypertension is a major risk factor for cardiovascular diseases, such as heart attack and stroke. It is important to note that Mr. Smith\\'s hypertension is likely due to his family history of the condition. To manage his hypertension, Mr. Smith is currently taking a combination of medications including amlodipine and lisinopril. These medications work to lower his blood pressure\\n\\n\\n\\nAnxiety is a common mental health condition characterized by feelings of worry, fear, and unease. This condition can significantly impact daily functioning and quality of life. The patient reports experiencing excessive anxiety and tension, along with physical symptoms such as restlessness, irritability, and difficulty sleeping. The patient has a history of panic attacks and avoids certain situations or activities due to fear of triggering an attack. The patient has been prescribed anxiolytic medication and is also undergoing therapy to manage their symptoms. The patient reports improvement in symptoms, but occasional flare-ups during times of stress. Follow-up appointments are scheduled to monitor progress and adjust treatment as needed.\\n\\n\\n\\nCannabis, also known as marijuana, is a plant-based substance that is commonly used for medicinal and recreational purposes. It contains the chemical compound delta-9-tetrahydrocannabinol (THC), which is responsible for its psychoactive effects. In a patient\\'s health record, the use of cannabis may be noted as a treatment for various conditions, including chronic pain, nausea, and muscle spasms. However, it is important to note that cannabis is still classified as a Schedule I drug by the Drug Enforcement Administration and its use should be closely monitored and regulated by a healthcare professional. Additionally, long-term use of cannabis may lead to potential side effects such as impaired cognitive function and respiratory issues. It is important for healthcare providers to discuss the risks and benefits of cannabis use with their patients before prescribing it as a treatment.\\n\\n\\n\\nThe patient has a history of dieting, which is the practice of restricting one\\'s food intake in order to lose weight. This behavior may be indicative of body image concerns or a desire to improve overall health. The patient reports trying various types of diets, such as calorie counting, low-carb, or intermittent fasting. They also mention experiencing fluctuations in weight and difficulty maintaining the desired weight. The patient has expressed frustration with the constant cycle of dieting and is seeking guidance on developing a sustainable and healthy approach to managing their weight. Further assessment and counseling on nutrition and body image may be beneficial for this patient.\\n\\n\\n\\nGastrointestinal (GI) refers to the digestive system, which includes the stomach, intestines, and other organs involved in the breakdown and absorption of food. GI issues can range from minor discomfort to more serious conditions such as ulcers, Crohn\\'s disease, or irritable bowel syndrome. This patient has a history of GI problems and is currently being treated with medication to manage their symptoms. They report experiencing frequent abdominal pain, bloating, and changes in bowel movements. The patient is also advised to maintain a healthy diet and avoid triggers that may aggravate their GI condition. Regular follow-up appointments are recommended to monitor the effectiveness of the medication and make any necessary adjustments. \\n\\n\\n\\nIn the patient\\'s health record, it is noted that their condition or medication is \"getting worse or not better.\" This indicates that the patient\\'s symptoms or health status have either worsened or have not shown any improvement despite receiving treatment. This could be a cause for concern as it may indicate that the current treatment plan is not effective in managing the patient\\'s condition. Further evaluation and possibly a change in treatment may be necessary to address the patient\\'s health concerns and improve their overall well-being. It is important for the healthcare team to closely monitor the patient\\'s progress and make necessary adjustments to ensure their health is optimized.']\n",
      " ['N/A, N/A'\n",
      "  '\\n\\nIntroduction:\\n\\nThe patient being discussed in this report is John Smith, a 45-year-old male with the assigned number 12345. He has been a long-time patient of our clinic and has recently come in for a routine check-up. Upon reviewing his medical history and conducting a thorough examination, it has been noted that John has been diagnosed with several chronic illnesses and is currently on multiple medications.\\n\\nDiabetes:\\n\\nJohn has been diagnosed with type 2 diabetes, a chronic condition that affects the body\\'s ability to regulate blood sugar levels. This condition is marked by high blood sugar levels and can lead to several complications if left unmanaged. John\\'s medical records show that he was diagnosed with diabetes 10 years ago and has been on medication ever since. He is currently taking metformin, a commonly prescribed medication for diabetes, to help control his blood sugar levels.\\n\\nHypertension:\\n\\nIn addition to diabetes, John also suffers from hypertension, also known as high blood pressure. This condition puts extra strain on the heart and blood vessels, increasing the risk of heart disease and stroke. John\\'s medical records indicate that he was diagnosed with hypertension 5 years ago and has been on medication to manage it. He is currently taking lisinopril, a medication that helps lower\\n\\n\\n\\nAnxiety is a mental health condition characterized by feelings of worry, fear, and nervousness that can significantly impact a person\\'s daily life. It is often accompanied by physical symptoms such as restlessness, muscle tension, and difficulty sleeping. In this patient\\'s health record, it is noted that they have been diagnosed with anxiety and have been experiencing frequent panic attacks. The patient reports feeling constantly on edge and having difficulty controlling their thoughts and worries. They have also been experiencing physical symptoms such as heart palpitations and shortness of breath during periods of heightened anxiety. Medications such as anti-anxiety medications and therapy have been recommended to manage the patient\\'s symptoms and improve their overall well-being.\\n\\n\\n\\nBehavior, also known as behavioral health, refers to the way a person thinks, feels, and acts. This can encompass a wide range of behaviors, from mood and emotions to social interactions and decision-making. In a patient health record, behavior may be documented as a condition or medication if it is a significant factor in the patient\\'s overall health. This can include mental health disorders such as depression or anxiety, as well as behavioral issues such as substance abuse or eating disorders. Medications may be prescribed to help manage these behaviors and improve the patient\\'s quality of life. Accurate documentation of behavior in a patient\\'s health record is crucial for healthcare providers to properly diagnose and treat the individual. \\n\\n\\n\\nBipolar disorder is a mental health condition characterized by extreme shifts in mood, energy, and activity levels. This patient has been diagnosed with bipolar disorder and has a history of both manic and depressive episodes. They experience periods of elevated mood, known as mania, which can include feelings of euphoria, impulsive behavior, and decreased need for sleep. These manic episodes are typically followed by periods of depression, which can include feelings of hopelessness, loss of interest in activities, and changes in appetite and sleep patterns. The patient is currently being treated with a combination of medication and therapy to manage their symptoms and improve their overall quality of life.\\n\\n\\n\\nCannabis, also known as marijuana, is a plant-based substance that is used for both medicinal and recreational purposes. It contains the chemical compound tetrahydrocannabinol (THC), which can have psychoactive effects on the brain. In this patient\\'s health record, it is noted that they have a history of using cannabis for pain management and anxiety. While it may provide relief for certain conditions, it is important to monitor its use as it can also have adverse effects on mental health, cardiovascular health, and respiratory function. It is recommended to discuss the use of cannabis with a healthcare provider to ensure safe and appropriate use.\\n\\n\\n\\nCardio, short for cardiovascular, is a term used to describe the health of a patient\\'s heart and blood vessels. It is a crucial aspect of a patient\\'s overall health and is often monitored closely by healthcare professionals. In a patient\\'s health record, the term \\'cardio\\' may refer to a specific condition such as hypertension (high blood pressure), coronary artery disease, or heart failure. It could also refer to a medication used to treat these conditions, such as beta-blockers, calcium channel blockers, or ACE inhibitors. It is important for healthcare providers to regularly assess and monitor a patient\\'s cardio health to prevent or manage any potential complications. This information can help guide treatment plans and improve the patient\\'s overall health outcomes.\\n\\n\\n\\nChronic disease refers to a long-term condition that requires ongoing management and treatment. This can include conditions such as diabetes, hypertension, and arthritis, among others. In the context of a patient health record, chronic disease would be noted as a pre-existing condition and would require regular monitoring and treatment by a healthcare provider. The patient\\'s medical history, current symptoms, and any previous treatments or medications would also be documented in the health record. It is important for patients with chronic diseases to adhere to their treatment plan and monitor their symptoms closely in order to manage their condition effectively and prevent further complications.\\n\\n\\n\\nDepression is a mental health condition characterized by persistent feelings of sadness, hopelessness, and a loss of interest in activities that were once enjoyable. It may also cause physical symptoms such as changes in appetite, sleep disturbances, and fatigue. This condition can significantly impact a patient\\'s daily life and relationships. Treatment for depression may include a combination of therapy, medication, and lifestyle changes. It is important for patients to communicate openly with their healthcare provider about their symptoms and any changes in their mental health. With proper treatment, many patients are able to manage their depression and improve their overall well-being. \\n\\n\\n\\nThe patient has been following a diet plan to manage their weight. This includes monitoring their food intake and making healthier food choices. The patient has also been engaging in regular physical activity as recommended by their healthcare provider. The goal of this intervention is to promote weight loss and improve overall health. The patient has reported some initial success in their weight loss journey, but continues to work towards their desired weight and body composition. The patient is advised to continue with the diet plan and physical activity regimen, and to follow up with their healthcare provider for further guidance and support.\\n\\n\\n\\nExercise is a form of physical activity that has been prescribed to this patient as part of their treatment plan. Regular exercise has been shown to have numerous health benefits, such as improving cardiovascular health, increasing muscle strength and flexibility, and reducing the risk of chronic diseases. The specific type, duration, and intensity of exercise recommended for this patient will depend on their individual health status and goals. It is important for the patient to follow the exercise plan as directed by their healthcare provider to achieve the intended benefits and avoid any potential risks. Regular monitoring and adjustments may be necessary to ensure the exercise plan is safe and effective for the patient.\\n\\n\\n\\nGastrointestinal refers to any condition or medication that affects the digestive system, which includes the stomach, intestines, and other organs involved in digesting food and absorbing nutrients. This can include a range of issues such as acid reflux, ulcers, irritable bowel syndrome, and Crohn\\'s disease. In a patient\\'s health record, it is important to note any gastrointestinal symptoms they may be experiencing, such as abdominal pain, nausea, diarrhea, or constipation. Medications for gastrointestinal issues may include antacids, proton pump inhibitors, or antibiotics to treat infections. It is important for healthcare providers to monitor and address any gastrointestinal issues in order to maintain the patient\\'s overall health and well-being.\\n\\n\\n\\nIn the patient\\'s health record, it is noted that their condition or medication is currently listed as \"Getting Worse or Not Better.\" This means that despite previous treatment or interventions, the patient\\'s health has not improved and may have even deteriorated. This could be due to a variety of factors such as ineffective medication, worsening underlying health issues, or lack of compliance with treatment plans. It is important for healthcare providers to closely monitor the patient\\'s condition and make necessary adjustments to their treatment plan in order to achieve better outcomes and improve the patient\\'s overall health. Further assessment and interventions may be necessary to address the patient\\'s ongoing health concerns and promote healing and recovery.\\n\\n\\n\\nLong-Term Care refers to medical care and support services provided to individuals who require assistance with daily activities due to chronic illness, disability, or aging. This type of care is typically provided in a nursing home, assisted living facility, or at home by a professional caregiver. In a patient health record, Long-Term Care may be listed as a condition if the patient is receiving ongoing care and support for a chronic condition or disability. This could include services such as medication management, physical therapy, and assistance with personal care. Long-Term Care may also refer to a specific medication that is prescribed for long-term use to manage a chronic condition, such as blood pressure medication or insulin for diabetes. It is important for healthcare providers to carefully document Long-Term Care in a patient\\'s health record to ensure continuity of care and effective management of the patient\\'s condition.\\n\\n\\n\\nA mental health questionnaire is a standardized tool used to assess an individual\\'s mental health status. It typically consists of a series of questions about a person\\'s thoughts, feelings, behaviors, and experiences. This type of questionnaire is often used in the context of a patient\\'s health record to gather information about their mental health history, symptoms, and overall well-being. It can provide valuable insights for healthcare providers in diagnosing and treating mental health conditions. The questionnaire may cover a range of topics such as anxiety, depression, substance abuse, trauma, and social support. The patient\\'s responses to the questionnaire can help guide treatment plans and monitor progress over time. It is an important tool in promoting holistic and comprehensive care for individuals with mental health concerns.\\n\\n\\n\\nQuality of life is a general term used to describe a patient\\'s overall well-being and satisfaction with their daily life. In the context of a health record, this term may be used to assess the impact of a particular condition or medication on the patient\\'s quality of life. This could include physical, emotional, social, and mental aspects of their life. It is important to monitor the quality of life of a patient to ensure that their treatment plan is effective and to identify any areas of concern that may need to be addressed. This information can also help healthcare providers make informed decisions about the patient\\'s care and work towards improving their overall quality of life. \\n\\n\\n\\n\\'Sleep\\' refers to the natural state of rest that occurs in cycles, during which the body and mind rejuvenate and repair themselves. It is an essential component of overall health and well-being. The patient reports difficulty falling asleep and staying asleep, leading to feelings of fatigue and low energy during the day. The patient also complains of waking up frequently during the night and feeling unrested in the morning. This could be a result of a sleep disorder or underlying medical condition. The patient is currently not taking any medication for sleep but has been advised to practice good sleep hygiene and avoid caffeine and electronics before bedtime. Further evaluation and treatment may be necessary to improve the patient\\'s sleep quality and overall health.\\n\\n\\n\\nStress is a common condition that can significantly impact a patient\\'s overall health and well-being. It is a physiological response to external or internal pressures, leading to feelings of emotional or physical tension. In this patient\\'s health record, stress may be listed as a contributing factor to various health concerns, such as high blood pressure, headaches, or digestive issues. The patient may also report symptoms such as difficulty sleeping, changes in appetite, or irritability. Treatment for stress may include stress management techniques, counseling, and medication. It is important for the patient to communicate their stress levels to their healthcare provider in order to manage and mitigate its effects on their health.']\n",
      " ['N/A, N/A'\n",
      "  '\\n\\nIntroduction:\\n\\nI am presenting a public health report on Patient #12345, a 55-year-old male, who has been under my care for the past three years. The patient\\'s medical history reveals a number of chronic conditions and medications, which have been carefully monitored and managed to ensure his overall well-being. This report aims to provide an in-depth analysis of the patient\\'s current health status and the impact of his conditions and medications on his overall health.\\n\\nHypertension:\\n\\nPatient #12345 has been diagnosed with hypertension, also known as high blood pressure, which is a chronic medical condition characterized by persistently elevated blood pressure in the arteries. This condition is considered to be a major risk factor for heart disease, stroke, and other cardiovascular diseases. The patient has been prescribed with Lisinopril, which is an angiotensin-converting enzyme (ACE) inhibitor, to help lower his blood pressure. This medication works by relaxing blood vessels, allowing blood to flow more easily and reducing the workload on the heart.\\n\\nDiabetes:\\n\\nThe patient also has a history of type 2 diabetes, a chronic condition that affects the body\\'s ability to regulate blood sugar levels. This condition is associated with a number of serious health complications, including heart disease, stroke, kidney\\n\\n\\nChronic disease refers to a long-term health condition that requires ongoing medical management and monitoring. This may include conditions such as diabetes, hypertension, asthma, and arthritis, among others. A patient with a chronic disease will typically have a health record that includes details of their diagnosis, treatment plan, and any medications prescribed. The record may also include information on the patient\\'s symptoms, any complications or exacerbations of their condition, and any lifestyle modifications or self-care measures recommended. Regular updates and monitoring of the patient\\'s condition will be documented in their health record to track progress and make any necessary adjustments to their treatment plan. \\n\\n\\n\\nDiabetes is a chronic condition that affects the body\\'s ability to regulate blood sugar levels. It is caused by either a lack of insulin production or the body\\'s inability to use insulin effectively. This can lead to a buildup of glucose in the blood, which can have serious health consequences if left untreated. Patients with diabetes may experience symptoms such as excessive thirst, frequent urination, fatigue, and blurred vision. Treatment for diabetes typically involves managing blood sugar levels through medication, diet, and exercise. If left uncontrolled, diabetes can increase the risk of complications such as heart disease, nerve damage, and kidney damage. Regular monitoring and management of diabetes is crucial for maintaining overall health and preventing potential complications.\\n\\n\\n\\nGastrointestinal refers to the digestive system, which includes the stomach, intestines, and other organs involved in breaking down and absorbing food. This condition can refer to a variety of issues such as indigestion, diarrhea, constipation, or more serious conditions like Crohn\\'s disease or ulcerative colitis. It can also be a side effect of certain medications or a result of food poisoning. Symptoms may include abdominal pain, bloating, nausea, or changes in bowel movements. Treatment may involve lifestyle changes, medication, or surgery depending on the underlying cause and severity of the condition. It is important to monitor and manage gastrointestinal issues to ensure proper digestion and absorption of nutrients for overall health and well-being.\\n\\n\\n\\nIn the context of a patient\\'s health record, \"getting worse or not better\" refers to the ongoing condition or medication not showing any signs of improvement. This could mean that the patient\\'s symptoms are worsening or that the prescribed medication is not effectively treating the condition. It is important for healthcare professionals to closely monitor the patient\\'s progress and make necessary adjustments to their treatment plan in order to ensure that their condition improves. Failure to see improvement can be a cause for concern and may require further interventions or consultations with specialists. It is crucial for patients to regularly communicate their symptoms and any changes in their condition to their healthcare provider in order to receive the best possible care.\\n\\n\\n\\nHypertension, also known as high blood pressure, is a chronic medical condition in which the force of blood against the walls of the arteries is consistently elevated. This can lead to serious health complications such as stroke, heart attack, and kidney disease if left untreated. According to the patient\\'s health records, they have been diagnosed with hypertension and are currently on medication to manage their blood pressure. It is important for the patient to regularly monitor their blood pressure and follow a healthy lifestyle, including a balanced diet and regular exercise, to effectively manage their condition and prevent further complications. The patient should also attend regular check-ups with their healthcare provider to ensure their blood pressure is well-controlled and any necessary adjustments to their medication can be made. \\n\\n\\n\\nKidney disease, also known as renal disease, is a condition in which the kidneys are damaged and are unable to function properly. This can be caused by various factors such as diabetes, high blood pressure, or genetic disorders. As a result, the kidneys are unable to filter waste products and excess fluids from the blood, leading to a buildup of toxins in the body. In a patient health record, kidney disease would be documented as a chronic condition and would require regular monitoring and management to prevent further damage to the kidneys and maintain overall health. Treatment may include medication, dietary changes, and in severe cases, dialysis or a kidney transplant. It is important for patients with kidney disease to closely follow their treatment plan and attend regular check-ups to prevent complications.\\n\\n\\n\\nLong-term care refers to ongoing medical and personal care that is provided to individuals who are unable to fully care for themselves due to chronic illness, disability, or other health conditions. This may include assistance with daily living activities such as bathing, dressing, and medication management. Long-term care is typically provided in a nursing home or assisted living facility, but can also be provided in the patient\\'s own home. This type of care is often needed for extended periods of time and requires a team of healthcare professionals to monitor and manage the patient\\'s condition. Common medications used in long-term care include pain relievers, blood pressure medications, and medications for chronic conditions such as diabetes or heart disease. \\n\\n\\n\\nObesity, also known as metabolic disorder, is a chronic condition in which a person has excessive body fat that increases their risk for other health problems. This patient has a body mass index (BMI) of 35, indicating they are obese. They also have a history of high blood pressure, high cholesterol, and type 2 diabetes, which are all common comorbidities of obesity. They report difficulty with weight management and have tried various diets and exercise regimens without success. The patient\\'s healthcare provider has recommended lifestyle modifications, such as regular physical activity and a healthy diet, as well as potentially starting medication to help with weight loss and improve their overall metabolic health. Close monitoring of their weight and other risk factors will be important in managing their condition.\\n\\n\\n\\nOsteoarthritis is a chronic degenerative joint disease that causes pain, stiffness, and limited mobility in the affected joints. This patient has been diagnosed with osteoarthritis in their knees and hips, which has been causing them significant discomfort and difficulty with everyday activities. They report a gradual onset of symptoms, with occasional flare-ups that are exacerbated by physical activity. X-rays have shown decreased joint space and the presence of bone spurs, confirming the diagnosis. Treatment options include pain management through nonsteroidal anti-inflammatory drugs (NSAIDs), physical therapy, and joint replacement surgery in severe cases. The patient will need to closely monitor their symptoms and follow a treatment plan to manage their osteoarthritis and maintain their joint function.\\n\\n\\n\\nPain is a commonly reported symptom in patients\\' health records. It is described as a distressing sensation that can range from mild discomfort to severe agony. Pain can be acute or chronic, depending on its duration and underlying cause. In most cases, it is a result of tissue damage, inflammation, or nerve injury. Patients often report pain in specific areas of the body, such as the head, back, joints, or muscles. The intensity and type of pain can also vary, with some describing it as sharp, dull, throbbing, or burning. Treatment for pain depends on its cause and severity and may include medication, physical therapy, or other interventions. Accurate documentation of pain in a patient\\'s health record is essential for proper diagnosis and management. \\n\\n\\n\\nQuality of Life is a measure of an individual\\'s overall well-being and satisfaction with their daily life. It is an important aspect to consider in a patient\\'s health record as it reflects the impact of their condition or medication on their lifestyle. Quality of Life can be affected by various factors such as physical health, mental health, social relationships, and financial stability. In the context of a patient health record, it is important to assess and monitor changes in Quality of Life over time to determine the effectiveness of treatment and to tailor a care plan that addresses the patient\\'s individual needs and goals. This information can also be used to identify areas for improvement and provide necessary support to enhance the patient\\'s overall quality of life.\\n\\n\\n\\nSemaglutide is a medication that is commonly used to treat type 2 diabetes. It works by mimicking the effects of a hormone called GLP-1, which helps to regulate blood sugar levels. The patient has been prescribed semaglutide to help improve their blood sugar control and reduce their risk of diabetes-related complications. It is important for the patient to take this medication as directed by their healthcare provider and to monitor their blood sugar levels regularly. They may also experience side effects such as nausea, vomiting, or diarrhea while taking semaglutide. It is important for the patient to communicate any concerns or side effects to their doctor for proper management.\\n\\n\\nThe patient reports difficulty falling asleep and staying asleep for the past few weeks. They have also been experiencing daytime drowsiness and fatigue. Upon physical examination, no underlying medical conditions are found to be causing the sleep disturbance. The patient is not currently taking any medications for sleep. A sleep study is recommended to further evaluate the issue and a referral to a sleep specialist is made. In the meantime, the patient is advised to practice good sleep hygiene and avoid caffeine and electronics close to bedtime. A follow-up appointment is scheduled to monitor the patient\\'s progress and adjust treatment as needed.\\n\\n\\n\\nStress is a common condition experienced by many individuals and can have a significant impact on overall health. This condition is often characterized by feelings of mental or emotional tension, which can be caused by various factors such as work, relationships, or financial difficulties. In addition to affecting one\\'s mood and mental well-being, stress can also manifest physically in the form of headaches, muscle tension, and digestive issues. To manage this condition, it is important for the patient to engage in stress-reducing activities such as exercise, mindfulness techniques, and seeking support from loved ones. In some cases, medication may also be prescribed to help alleviate symptoms and promote relaxation. Regular monitoring and management of stress levels are crucial to maintaining overall health and preventing the development of more serious conditions. ']\n",
      " ['N/A, N/A'\n",
      "  '\\n\\nIntroduction:\\n\\nPatient Name: John Smith\\nAge: 55\\nGender: Male\\nAssigned Number: 12345\\n\\nJohn Smith is a 55-year-old male who has been under my care for the past year. He presents with a variety of health concerns, including diabetes, hypertension, and high cholesterol. In addition, he has a history of smoking and a family history of heart disease. John is a retired engineer and lives alone. He is generally compliant with his medications and has a good support system in place. However, his recent lab results have shown some concerning trends, and it is important to address these issues in order to prevent any further health complications.\\n\\nDiabetes:\\n\\nJohn has been diagnosed with type 2 diabetes for the past 10 years. He manages his diabetes with a combination of diet, exercise, and medication. His current medication regimen includes metformin, which he takes twice a day. However, his recent HbA1c levels have shown an increase, indicating poor blood sugar control. This could be due to a lack of exercise and dietary changes, as well as non-adherence to his medication regimen. It is important to work with John to make necessary lifestyle modifications and ensure he is taking his medication as prescribed to prevent any long-term complications\\n\\n\\n\\nAlzheimer\\'s disease is a progressive and degenerative brain disorder that affects memory, thinking, and behavior. It is the most common cause of dementia in older adults. The patient, a 70-year-old female, has a history of memory loss and confusion, which has been gradually worsening over the past few years. She was diagnosed with Alzheimer\\'s disease two years ago and has since been under the care of a neurologist. Currently, she presents with difficulty remembering recent events, becoming disoriented in familiar places, and trouble with daily tasks. She is on medication to manage her symptoms, but there is no cure for Alzheimer\\'s disease. Continued monitoring and support from healthcare professionals will be crucial in managing her condition and improving her quality of life.\\n\\n\\nArthritis is a chronic condition that affects the joints, causing pain, stiffness, and swelling. This patient has a history of arthritis, specifically osteoarthritis, which is the most common type of arthritis. The patient reports experiencing joint pain in their hips, knees, and hands, which has been progressively getting worse over the past few years. They also report difficulty with daily activities, such as walking and gripping objects. The patient has been prescribed nonsteroidal anti-inflammatory drugs (NSAIDs) to help manage their symptoms and has been advised to engage in low-impact exercise and physical therapy. Regular check-ups with their healthcare provider will be necessary to monitor the progression of their arthritis and adjust treatment as needed.\\n\\n\\n\\nBehavior refers to the actions, reactions, and habits of an individual, which can be influenced by various factors such as genetics, environment, and personal experiences. In the context of a patient\\'s health record, behavior may refer to any patterns or changes in the patient\\'s actions or reactions that may impact their physical or mental health. This can include behaviors such as substance abuse, self-harm, aggression, or other concerning actions. It may also refer to behaviors that are beneficial to the patient\\'s health, such as adhering to medication and treatment plans, practicing healthy habits, and managing stress and emotions effectively. Understanding a patient\\'s behavior is crucial in providing personalized and effective care. \\n\\n\\n\\nChronic disease refers to a long-term condition that requires ongoing management and treatment. It is characterized by persistent symptoms and can significantly impact a patient\\'s daily life. Examples of chronic diseases include diabetes, heart disease, and arthritis. In this patient\\'s health record, it is noted that they have been diagnosed with a chronic disease, which requires regular check-ups, monitoring of symptoms, and adherence to a treatment plan. It is important for the patient to work closely with their healthcare team to manage their condition and prevent any complications. Regular follow-ups and lifestyle modifications may also be recommended to improve the patient\\'s overall health and well-being.\\n\\n\\n\\nDisabilities refer to a broad range of physical or mental impairments that may affect an individual\\'s ability to perform day-to-day activities. These impairments can be congenital or acquired due to injury or illness. In the context of a patient health record, disabilities are typically noted as a medical condition that may require special accommodations or treatments. This information is important for healthcare providers to have in order to provide appropriate care and support for the patient. Disabilities can vary in severity and can impact different aspects of a person\\'s life, such as mobility, communication, and cognitive function. It is essential for healthcare providers to be aware of any disabilities a patient may have in order to provide comprehensive and individualized care. \\n\\n\\n\\nExercise is a recommended form of physical activity for maintaining overall health and wellness. It involves engaging in planned and structured movements or activities to increase strength, flexibility, and endurance. Regular exercise has been shown to have numerous benefits, including improving cardiovascular health, reducing the risk of chronic diseases, and promoting mental well-being. It can also aid in weight management and improve overall physical functioning. In this patient\\'s health record, exercise is being prescribed as a means to improve their overall health and manage any existing health conditions. The type, intensity, and duration of exercise recommended will be tailored to the individual\\'s specific needs and abilities. Regular exercise is an important aspect of a healthy lifestyle and should be incorporated into daily routines whenever possible.\\n\\n\\n\\nIn the patient\\'s health record, it has been noted that their condition is \"getting worse or not better.\" This refers to the patient\\'s overall health and the progression of their illness or injury. Despite receiving treatment or interventions, the patient\\'s symptoms have not improved and may have even worsened. This could be due to a variety of factors such as underlying medical conditions, non-compliance with treatment, or the severity of the illness itself. This information is important to monitor in order to determine the effectiveness of current treatment plans and to make necessary adjustments. It may also prompt further diagnostic testing or consultations with specialists to determine the next steps for the patient\\'s care.\\n\\n\\n\\nLong-Term Care is a type of healthcare that is provided to individuals who require assistance with daily activities due to a chronic illness, disability, or advanced age. This type of care is usually provided in a residential facility, such as a nursing home, and is focused on helping patients maintain their quality of life and independence. In a patient health record, the Long-Term Care section would include information on the patient\\'s medical history, current health status, and any ongoing treatments or medications. It would also document the care plan and any changes or updates made to it, as well as notes from healthcare providers and family members regarding the patient\\'s progress and needs. Long-Term Care is an important aspect of healthcare for individuals who require ongoing support and assistance. \\n\\n\\n\\nMemory care is a specialized form of long-term care that is designed to provide support and assistance to individuals with memory loss, such as dementia or Alzheimer\\'s disease. This type of care is typically provided in a residential facility, where trained staff members can help patients with daily activities, medication management, and specialized therapies to promote memory function. In a patient\\'s health record, the memory care section would include details about the patient\\'s diagnosis, treatment plan, and any changes in their cognitive abilities over time. It may also include notes from caregivers and healthcare professionals on the patient\\'s progress and any concerns or challenges that arise. Memory care aims to provide a safe and supportive environment for patients with memory loss, helping them maintain a good quality of life and maximize their functioning.\\n\\n\\n\\nQuality of life is a measure of a patient\\'s overall well-being and satisfaction with their daily life. In the context of a patient health record, it refers to the impact that a medical condition or medication has on a patient\\'s physical, emotional, and social functioning. This includes their ability to perform daily activities, engage in relationships, and participate in activities they enjoy. The quality of life is an important aspect to consider when managing a patient\\'s health, as it can greatly affect their overall happiness and satisfaction. Monitoring changes in quality of life can also provide valuable information on the effectiveness of treatments and interventions. \\n\\n\\n\\nSleep is a natural and essential condition for a person\\'s overall health and well-being. It refers to the state of rest and relaxation during which the body repairs and rejuvenates itself. Adequate sleep is crucial for maintaining physical, mental, and emotional health. However, some individuals may experience sleep-related disorders such as insomnia, sleep apnea, or narcolepsy, which can significantly impact their daily life. In such cases, medication may be prescribed to help regulate the sleep cycle and promote better quality sleep. It is important for the patient to report any changes in their sleep patterns or any side effects from the medication to their healthcare provider for proper management and adjustment of the treatment plan.\\n\\n\\n\\nStress is a common condition that is characterized by feelings of emotional or physical tension and strain. It can be caused by a variety of factors, including work, relationships, financial difficulties, or health problems. In this patient\\'s health record, stress is listed as a significant health concern, as the patient has reported experiencing frequent and intense episodes of stress. Symptoms such as headaches, fatigue, and difficulty sleeping have been noted, indicating the impact of stress on the patient\\'s overall well-being. The patient is currently being treated with a combination of therapy and medication to help manage their stress levels and improve their overall quality of life. Regular monitoring and follow-up appointments are recommended to track the patient\\'s progress and make necessary adjustments to their treatment plan.']\n",
      " ['N/A, N/A'\n",
      "  '\\n\\nIntroduction:\\n\\nThe patient, Sarah Johnson, is a 45-year-old female with an assigned identification number of 1234. She has presented to the clinic with a variety of health issues that require immediate attention. As a doctor, it is crucial to thoroughly assess and understand the patient\\'s medical history, including any pre-existing conditions and current medications, in order to provide the best possible treatment and care. Therefore, a thorough analysis of the patient\\'s data is necessary to determine the appropriate course of action.\\n\\nHypertension:\\n\\nUpon reviewing the patient\\'s medical history, it was noted that Sarah has a history of hypertension, indicated by a \"1\" in the relevant column. Hypertension, also known as high blood pressure, is a common chronic condition that can lead to serious health complications if left unmanaged. It is characterized by consistently elevated blood pressure levels, which can put strain on the heart and other organs. In Sarah\\'s case, this condition may increase her risk of heart disease, stroke, and kidney failure. As such, it is imperative that Sarah\\'s blood pressure levels are closely monitored and managed through lifestyle modifications and medication.\\n\\nDiabetes:\\n\\nAnother relevant illness listed in Sarah\\'s medical data is diabetes, indicated by a \"1\" in the relevant column. Diabetes\\n\\n\\n\\nAnxiety is a mental health condition characterized by persistent feelings of fear, worry, and apprehension. This condition often causes physical symptoms such as increased heart rate, tense muscles, and difficulty breathing. The patient reports experiencing frequent episodes of intense anxiety, often triggered by specific situations or events. They also report difficulty controlling their anxious thoughts and may engage in avoidance behaviors to cope with their anxiety. The patient has been prescribed medication, including selective serotonin reuptake inhibitors (SSRIs) and/or cognitive-behavioral therapy, to manage their symptoms. Regular follow-up appointments are recommended to monitor the effectiveness of the treatment plan and make any necessary adjustments. The patient is advised to practice relaxation techniques and engage in self-care activities to help manage their anxiety. \\n\\n\\n\\nBehavior refers to the actions, reactions, and responses of an individual to their environment and interactions with others. In the context of a patient health record, behavior may refer to the overall demeanor and attitude of the patient, as well as any specific behavioral patterns or issues that may be affecting their health. This could include behaviors such as impulsivity, aggression, or difficulty following treatment plans. Medications for behavior may be prescribed to help manage these behaviors and improve overall functioning and well-being. It is important for healthcare providers to carefully document any observations or concerns about a patient\\'s behavior in order to provide the best possible care and treatment. \\n\\n\\n\\nBipolar disorder is a mental health condition that affects a patient\\'s mood, energy levels, and ability to function. It is characterized by extreme shifts in mood, ranging from episodes of intense mania to periods of deep depression. Symptoms can vary in severity and can include feelings of euphoria, impulsivity, decreased need for sleep, irritability, and difficulty concentrating. Bipolar disorder can significantly impact a patient\\'s daily life, relationships, and overall well-being. Treatment typically involves a combination of medication, therapy, and lifestyle changes. It is important for the patient to consistently monitor their symptoms and work closely with their healthcare provider to manage their condition.\\n\\n\\n\\nDepression is a common mental health disorder that affects a patient\\'s mood, thoughts, and behaviors. It is characterized by feelings of sadness, hopelessness, and loss of interest in daily activities. This patient has a history of depression and is currently being treated with a combination of medication and therapy. Symptoms of depression can vary from person to person, but may include changes in appetite, sleep patterns, and energy levels. It is important for the patient to continue with their prescribed treatment plan and to communicate any concerns or changes in symptoms to their healthcare provider. Regular follow-up appointments and open communication are crucial in managing depression and promoting overall wellness.\\n\\n\\n\\nDrug-induced delirium is a condition that occurs when a patient experiences a sudden onset of confusion and disorientation as a result of taking certain medications. This condition is commonly seen in elderly patients or those with underlying medical conditions. In this patient\\'s case, they are currently experiencing symptoms of delirium after being started on a new medication for their hypertension. The patient\\'s family members have reported that they have been acting unusually confused and agitated, and the patient\\'s medical team has noted changes in their mental status and behavior. The patient\\'s healthcare provider has recognized this as a potential side effect of the medication and has made adjustments to their treatment plan to address the delirium. Close monitoring and management of the medication will be necessary to resolve the patient\\'s symptoms and prevent further episodes of drug-induced delirium.\\n\\n\\n\\nExercise is a form of physical activity that is recommended for maintaining good health and preventing chronic diseases. The patient is advised to engage in regular exercise of moderate intensity for at least 30 minutes per day, five days a week. This can include activities such as brisk walking, cycling, swimming, or participating in sports. Regular exercise has been shown to improve cardiovascular health, maintain a healthy weight, and improve mental well-being. The patient is encouraged to consult with a healthcare professional to determine the appropriate type and intensity of exercise for their specific health needs. Regular exercise should be incorporated into the patient\\'s overall treatment plan to promote optimal health and well-being. \\n\\n\\n\\nGetting worse or not better refers to the current state of the patient\\'s condition or the effectiveness of their medication. This notation is often used in a patient\\'s health record to indicate that their symptoms are not improving or are worsening despite treatment. It is important for healthcare providers to closely monitor patients who are not responding well to treatment, as it may indicate the need for a change in medication or a different approach to managing their condition. This information is crucial in determining the next steps in the patient\\'s care plan and ensuring that they receive the best possible treatment for their condition.\\n\\n\\n\\nHospital admission refers to the process of a patient being admitted into a hospital for medical treatment or care. This is usually documented in a patient\\'s health record and includes details such as the reason for admission, the date and time of admission, and any pertinent medical history. The length of stay and any procedures or medications administered during the hospital stay may also be noted. Hospital admission can occur for a variety of reasons, including acute illnesses, chronic conditions, surgical procedures, or for diagnostic tests. The information recorded in the health record during a hospital admission is crucial for tracking a patient\\'s progress and ensuring they receive the appropriate care and treatment.\\n\\n\\n\\nHospital readmission refers to the situation where a patient is discharged from the hospital, but is later readmitted within a specific period of time due to a related or unrelated medical condition. This could happen due to a variety of reasons, such as inadequate healing, complications, or the need for further treatment. In a patient\\'s health record, hospital readmission is documented as a significant event and is closely monitored by healthcare providers to track the patient\\'s progress and ensure proper follow-up care. It is also an important factor in determining the quality of care provided by the hospital and can impact the patient\\'s overall health outcome. Efforts are made to prevent unnecessary readmissions and ensure the patient receives appropriate and timely care to avoid potential complications.\\n\\n\\n\\nLong-Term Care refers to the ongoing medical and personal care services provided to individuals who require assistance with daily activities due to chronic conditions or disabilities. This type of care is often necessary for individuals who are unable to care for themselves independently and may require assistance with tasks such as bathing, dressing, and managing medications. Long-Term Care is typically provided in a nursing home or assisted living facility, but can also be provided at home with the help of a caregiver. In a patient health record, the Long-Term Care section would include details about the type of care being provided, the frequency of services, and any medications or treatments being administered. It is important for healthcare providers to carefully document Long-Term Care in order to ensure the patient receives appropriate and consistent care.\\n\\n\\n\\nA mental health questionnaire is a form or survey used by healthcare professionals to gather information about a patient\\'s mental health status. It typically consists of a series of questions that cover different aspects of mental health, such as mood, thoughts, behaviors, and symptoms. This questionnaire is often included as part of a patient\\'s health record to provide an initial assessment of their mental health and aid in diagnosis and treatment planning. The information collected from the questionnaire can also help healthcare providers track changes in a patient\\'s mental health over time and monitor the effectiveness of treatment. It is an important tool in ensuring comprehensive and personalized care for patients with mental health concerns. \\n\\n\\n\\nStress is a common condition that affects many individuals and can have a significant impact on their overall health and well-being. It is characterized by feelings of mental, emotional, and physical tension or strain. In the context of this patient\\'s health record, stress may be listed as a contributing factor to their overall health concerns. It can manifest in various ways, such as headaches, stomach problems, high blood pressure, and difficulty sleeping. The patient may also report feeling overwhelmed, anxious, or irritable due to stress. Treatment for stress often involves a combination of therapy, lifestyle changes, and potentially medication. It is important for the patient to address and manage their stress levels to prevent further health complications.']]\n"
     ]
    }
   ],
   "source": [
    "print(adata.X)"
   ]
  },
  {
   "cell_type": "code",
   "execution_count": null,
   "id": "60290949",
   "metadata": {},
   "outputs": [
    {
     "name": "stdout",
     "output_type": "stream",
     "text": [
      "\n",
      "--- Loaded CSV Data ---\n",
      "{'Patient Name': 'Kathryn', 'Patient Age': '26', 'Alzheimers': '0', 'Anxiety': '1', 'Arthritis': 'N/A', 'Behavior': '1', 'Bipolar': '0', 'Cannabis': '1', 'Cardio': '1', 'Chronic Disease': '0', 'Depression': 'N/A', 'Diabetes': '0', 'Dieting': '0', 'Disabilities': '0', 'Drug-Induced Delirium': '0', 'Exercise': '0', 'Gastrointestinal': '0', 'Getting Worse or Not Better': '0', 'Hospital Admission': '0', 'Hospital Readmission': '0', 'Hypertension': '0', 'Kidney Disease': '0', 'Long-Term Care': '0', 'Memory Care': '0', 'Mental Health Questionnaire': '0', 'Obesity/Metabolic': '0', 'Osteoarthritis': '0', 'Pain': '0', 'Prediabetes': '0', 'Quality of Life': '0', 'Semaglutide': '0', 'Sleep': '0', 'Stress': '0'}\n",
      "{'Patient Name': 'Michael', 'Patient Age': '38', 'Alzheimers': '0', 'Anxiety': '0', 'Arthritis': '0', 'Behavior': '0', 'Bipolar': '0', 'Cannabis': '0', 'Cardio': '1', 'Chronic Disease': '0', 'Depression': '0', 'Diabetes': '0', 'Dieting': '0', 'Disabilities': '0', 'Drug-Induced Delirium': '0', 'Exercise': '1', 'Gastrointestinal': '0', 'Getting Worse or Not Better': '0', 'Hospital Admission': '0', 'Hospital Readmission': '0', 'Hypertension': '0', 'Kidney Disease': '0', 'Long-Term Care': '0', 'Memory Care': '0', 'Mental Health Questionnaire': '0', 'Obesity/Metabolic': '0', 'Osteoarthritis': '0', 'Pain': '0', 'Prediabetes': '0', 'Quality of Life': '1', 'Semaglutide': '0', 'Sleep': '1', 'Stress': '0'}\n",
      "{'Patient Name': 'Kevin', 'Patient Age': '17', 'Alzheimers': '0', 'Anxiety': '1', 'Arthritis': '0', 'Behavior': '0', 'Bipolar': '0', 'Cannabis': '1', 'Cardio': '0', 'Chronic Disease': '0', 'Depression': '0', 'Diabetes': '0', 'Dieting': '1', 'Disabilities': '0', 'Drug-Induced Delirium': '0', 'Exercise': '0', 'Gastrointestinal': '1', 'Getting Worse or Not Better': '1', 'Hospital Admission': '0', 'Hospital Readmission': '0', 'Hypertension': '0', 'Kidney Disease': '0', 'Long-Term Care': '0', 'Memory Care': '0', 'Mental Health Questionnaire': '0', 'Obesity/Metabolic': '0', 'Osteoarthritis': '0', 'Pain': '0', 'Prediabetes': '0', 'Quality of Life': '0', 'Semaglutide': '0', 'Sleep': '0', 'Stress': '0'}\n",
      "{'Patient Name': 'Megan', 'Patient Age': '25', 'Alzheimers': '0', 'Anxiety': '1', 'Arthritis': '0', 'Behavior': '1', 'Bipolar': '1', 'Cannabis': '1', 'Cardio': '1', 'Chronic Disease': '1', 'Depression': '1', 'Diabetes': '0', 'Dieting': '1', 'Disabilities': '0', 'Drug-Induced Delirium': '0', 'Exercise': '1', 'Gastrointestinal': '1', 'Getting Worse or Not Better': '1', 'Hospital Admission': '0', 'Hospital Readmission': '0', 'Hypertension': '0', 'Kidney Disease': '0', 'Long-Term Care': '1', 'Memory Care': '0', 'Mental Health Questionnaire': '1', 'Obesity/Metabolic': '0', 'Osteoarthritis': '0', 'Pain': '0', 'Prediabetes': '0', 'Quality of Life': '1', 'Semaglutide': '0', 'Sleep': '1', 'Stress': '1'}\n",
      "{'Patient Name': 'Brian', 'Patient Age': '62', 'Alzheimers': '0', 'Anxiety': '0', 'Arthritis': '0', 'Behavior': '0', 'Bipolar': '0', 'Cannabis': '0', 'Cardio': '0', 'Chronic Disease': '1', 'Depression': '0', 'Diabetes': '1', 'Dieting': '0', 'Disabilities': '0', 'Drug-Induced Delirium': '0', 'Exercise': '0', 'Gastrointestinal': '1', 'Getting Worse or Not Better': '1', 'Hospital Admission': '0', 'Hospital Readmission': '0', 'Hypertension': '1', 'Kidney Disease': '1', 'Long-Term Care': '1', 'Memory Care': '0', 'Mental Health Questionnaire': '0', 'Obesity/Metabolic': '1', 'Osteoarthritis': '1', 'Pain': '1', 'Prediabetes': '0', 'Quality of Life': '1', 'Semaglutide': '1', 'Sleep': '1', 'Stress': '1'}\n",
      "{'Patient Name': 'Jeffrey', 'Patient Age': '82', 'Alzheimers': '1', 'Anxiety': '0', 'Arthritis': '1', 'Behavior': '1', 'Bipolar': '', 'Cannabis': '0', 'Cardio': '0', 'Chronic Disease': '1', 'Depression': '0', 'Diabetes': '0', 'Dieting': '0', 'Disabilities': '1', 'Drug-Induced Delirium': '0', 'Exercise': '1', 'Gastrointestinal': '0', 'Getting Worse or Not Better': '1', 'Hospital Admission': '0', 'Hospital Readmission': '0', 'Hypertension': '0', 'Kidney Disease': '0', 'Long-Term Care': '1', 'Memory Care': '1', 'Mental Health Questionnaire': '0', 'Obesity/Metabolic': '0', 'Osteoarthritis': '0', 'Pain': '0', 'Prediabetes': '0', 'Quality of Life': '1', 'Semaglutide': '0', 'Sleep': '1', 'Stress': '1'}\n",
      "{'Patient Name': 'Lia', 'Patient Age': '41', 'Alzheimers': '0', 'Anxiety': '1', 'Arthritis': '0', 'Behavior': '1', 'Bipolar': '1', 'Cannabis': '0', 'Cardio': '0', 'Chronic Disease': '0', 'Depression': '1', 'Diabetes': '0', 'Dieting': '0', 'Disabilities': '0', 'Drug-Induced Delirium': '1', 'Exercise': '1', 'Gastrointestinal': '0', 'Getting Worse or Not Better': '1', 'Hospital Admission': '1', 'Hospital Readmission': '1', 'Hypertension': '0', 'Kidney Disease': '0', 'Long-Term Care': '1', 'Memory Care': '0', 'Mental Health Questionnaire': '1', 'Obesity/Metabolic': '0', 'Osteoarthritis': '0', 'Pain': '0', 'Prediabetes': '0', 'Quality of Life': '0', 'Semaglutide': '0', 'Sleep': '0', 'Stress': '1'}\n",
      "--- End Loaded CSV Data ---\n"
     ]
    }
   ],
   "source": [
    "import csv\n",
    "\n",
    "csv_file_path =  r\"C:\\Users\\noliv\\Downloads\\structured_data_filled.csv\" # Replace with your actual path\n",
    "\n",
    "try:\n",
    "    with open(csv_file_path, 'r', newline='') as csvfile:\n",
    "        reader = csv.DictReader(csvfile)\n",
    "        patient_data = list(reader)\n",
    "\n",
    "    print(\"\\n--- Loaded CSV Data ---\")\n",
    "    for row in patient_data:\n",
    "        print(row)\n",
    "    print(\"--- End Loaded CSV Data ---\")\n",
    "\n",
    "except FileNotFoundError:\n",
    "    print(f\"Error: CSV file not found at {csv_file_path}\")\n",
    "except Exception as e:\n",
    "    print(f\"An error occurred while loading CSV: {e}\")"
   ]
  },
  {
   "cell_type": "code",
   "execution_count": null,
   "id": "b7f37aa3",
   "metadata": {},
   "outputs": [
    {
     "name": "stdout",
     "output_type": "stream",
     "text": [
      "\n",
      "--- Loaded CSV Data ---\n",
      "{'Patient Name': 'Kathryn', 'Patient Age': '26', 'Alzheimers': '0', 'Anxiety': '1', 'Arthritis': 'N/A', 'Behavior': '1', 'Bipolar': '0', 'Cannabis': '1', 'Cardio': '1', 'Chronic Disease': '0', 'Depression': 'N/A', 'Diabetes': '0', 'Dieting': '0', 'Disabilities': '0', 'Drug-Induced Delirium': '0', 'Exercise': '0', 'Gastrointestinal': '0', 'Getting Worse or Not Better': '0', 'Hospital Admission': '0', 'Hospital Readmission': '0', 'Hypertension': '0', 'Kidney Disease': '0', 'Long-Term Care': '0', 'Memory Care': '0', 'Mental Health Questionnaire': '0', 'Obesity/Metabolic': '0', 'Osteoarthritis': '0', 'Pain': '0', 'Prediabetes': '0', 'Quality of Life': '0', 'Semaglutide': '0', 'Sleep': '0', 'Stress': '0'}\n",
      "{'Patient Name': 'Michael', 'Patient Age': '38', 'Alzheimers': '0', 'Anxiety': '0', 'Arthritis': '0', 'Behavior': '0', 'Bipolar': '0', 'Cannabis': '0', 'Cardio': '1', 'Chronic Disease': '0', 'Depression': '0', 'Diabetes': '0', 'Dieting': '0', 'Disabilities': '0', 'Drug-Induced Delirium': '0', 'Exercise': '1', 'Gastrointestinal': '0', 'Getting Worse or Not Better': '0', 'Hospital Admission': '0', 'Hospital Readmission': '0', 'Hypertension': '0', 'Kidney Disease': '0', 'Long-Term Care': '0', 'Memory Care': '0', 'Mental Health Questionnaire': '0', 'Obesity/Metabolic': '0', 'Osteoarthritis': '0', 'Pain': '0', 'Prediabetes': '0', 'Quality of Life': '1', 'Semaglutide': '0', 'Sleep': '1', 'Stress': '0'}\n",
      "{'Patient Name': 'Kevin', 'Patient Age': '17', 'Alzheimers': '0', 'Anxiety': '1', 'Arthritis': '0', 'Behavior': '0', 'Bipolar': '0', 'Cannabis': '1', 'Cardio': '0', 'Chronic Disease': '0', 'Depression': '0', 'Diabetes': '0', 'Dieting': '1', 'Disabilities': '0', 'Drug-Induced Delirium': '0', 'Exercise': '0', 'Gastrointestinal': '1', 'Getting Worse or Not Better': '1', 'Hospital Admission': '0', 'Hospital Readmission': '0', 'Hypertension': '0', 'Kidney Disease': '0', 'Long-Term Care': '0', 'Memory Care': '0', 'Mental Health Questionnaire': '0', 'Obesity/Metabolic': '0', 'Osteoarthritis': '0', 'Pain': '0', 'Prediabetes': '0', 'Quality of Life': '0', 'Semaglutide': '0', 'Sleep': '0', 'Stress': '0'}\n",
      "{'Patient Name': 'Megan', 'Patient Age': '25', 'Alzheimers': '0', 'Anxiety': '1', 'Arthritis': '0', 'Behavior': '1', 'Bipolar': '1', 'Cannabis': '1', 'Cardio': '1', 'Chronic Disease': '1', 'Depression': '1', 'Diabetes': '0', 'Dieting': '1', 'Disabilities': '0', 'Drug-Induced Delirium': '0', 'Exercise': '1', 'Gastrointestinal': '1', 'Getting Worse or Not Better': '1', 'Hospital Admission': '0', 'Hospital Readmission': '0', 'Hypertension': '0', 'Kidney Disease': '0', 'Long-Term Care': '1', 'Memory Care': '0', 'Mental Health Questionnaire': '1', 'Obesity/Metabolic': '0', 'Osteoarthritis': '0', 'Pain': '0', 'Prediabetes': '0', 'Quality of Life': '1', 'Semaglutide': '0', 'Sleep': '1', 'Stress': '1'}\n",
      "{'Patient Name': 'Brian', 'Patient Age': '62', 'Alzheimers': '0', 'Anxiety': '0', 'Arthritis': '0', 'Behavior': '0', 'Bipolar': '0', 'Cannabis': '0', 'Cardio': '0', 'Chronic Disease': '1', 'Depression': '0', 'Diabetes': '1', 'Dieting': '0', 'Disabilities': '0', 'Drug-Induced Delirium': '0', 'Exercise': '0', 'Gastrointestinal': '1', 'Getting Worse or Not Better': '1', 'Hospital Admission': '0', 'Hospital Readmission': '0', 'Hypertension': '1', 'Kidney Disease': '1', 'Long-Term Care': '1', 'Memory Care': '0', 'Mental Health Questionnaire': '0', 'Obesity/Metabolic': '1', 'Osteoarthritis': '1', 'Pain': '1', 'Prediabetes': '0', 'Quality of Life': '1', 'Semaglutide': '1', 'Sleep': '1', 'Stress': '1'}\n",
      "{'Patient Name': 'Jeffrey', 'Patient Age': '82', 'Alzheimers': '1', 'Anxiety': '0', 'Arthritis': '1', 'Behavior': '1', 'Bipolar': '', 'Cannabis': '0', 'Cardio': '0', 'Chronic Disease': '1', 'Depression': '0', 'Diabetes': '0', 'Dieting': '0', 'Disabilities': '1', 'Drug-Induced Delirium': '0', 'Exercise': '1', 'Gastrointestinal': '0', 'Getting Worse or Not Better': '1', 'Hospital Admission': '0', 'Hospital Readmission': '0', 'Hypertension': '0', 'Kidney Disease': '0', 'Long-Term Care': '1', 'Memory Care': '1', 'Mental Health Questionnaire': '0', 'Obesity/Metabolic': '0', 'Osteoarthritis': '0', 'Pain': '0', 'Prediabetes': '0', 'Quality of Life': '1', 'Semaglutide': '0', 'Sleep': '1', 'Stress': '1'}\n",
      "{'Patient Name': 'Lia', 'Patient Age': '41', 'Alzheimers': '0', 'Anxiety': '1', 'Arthritis': '0', 'Behavior': '1', 'Bipolar': '1', 'Cannabis': '0', 'Cardio': '0', 'Chronic Disease': '0', 'Depression': '1', 'Diabetes': '0', 'Dieting': '0', 'Disabilities': '0', 'Drug-Induced Delirium': '1', 'Exercise': '1', 'Gastrointestinal': '0', 'Getting Worse or Not Better': '1', 'Hospital Admission': '1', 'Hospital Readmission': '1', 'Hypertension': '0', 'Kidney Disease': '0', 'Long-Term Care': '1', 'Memory Care': '0', 'Mental Health Questionnaire': '1', 'Obesity/Metabolic': '0', 'Osteoarthritis': '0', 'Pain': '0', 'Prediabetes': '0', 'Quality of Life': '0', 'Semaglutide': '0', 'Sleep': '0', 'Stress': '1'}\n",
      "--- End Loaded CSV Data ---\n"
     ]
    }
   ],
   "source": [
    "import csv\n",
    "\n",
    "csv_file_path = r\"C:\\Users\\noliv\\Downloads\\structured_data_filled.csv\"  # Replace with your actual path\n",
    "\n",
    "try:\n",
    "    with open(csv_file_path, 'r', newline='') as csvfile:\n",
    "        reader = csv.DictReader(csvfile)\n",
    "        patient_data = list(reader)\n",
    "\n",
    "    print(\"\\n--- Loaded CSV Data ---\")\n",
    "    for row in patient_data:\n",
    "        print(row)\n",
    "    print(\"--- End Loaded CSV Data ---\")\n",
    "\n",
    "except FileNotFoundError:\n",
    "    print(f\"Error: CSV file not found at {csv_file_path}\")\n",
    "except Exception as e:\n",
    "    print(f\"An error occurred while loading CSV: {e}\")"
   ]
  },
  {
   "cell_type": "markdown",
   "id": "ef31c966",
   "metadata": {},
   "source": []
  },
  {
   "cell_type": "markdown",
   "id": "dec43b43",
   "metadata": {},
   "source": [
    "## Conclusion"
   ]
  },
  {
   "cell_type": "markdown",
   "id": "a076364d",
   "metadata": {},
   "source": [
    "This tutorial demonstrated how to use the `phi_generation` library to ingest data from CSV files and local Markdown files, build a RAG database, and query it with the option to include CSV data directly in the prompt. The `utils` module provides helpful functions for data handling, and the direct function calls offer a more integrated experience within the Jupyter Notebook. "
   ]
  },
  {
   "cell_type": "code",
   "execution_count": null,
   "id": "b8e10578",
   "metadata": {},
   "outputs": [
    {
     "name": "stdout",
     "output_type": "stream",
     "text": [
      "\n",
      "--- Creating AnnData Object from CSV ---\n",
      "AnnData object with n_obs × n_vars = 7 × 2\n",
      "    obs: 'Patient Name', 'Patient Age', 'Alzheimers', 'Anxiety', 'Arthritis', 'Behavior', 'Bipolar', 'Cannabis', 'Cardio', 'Chronic Disease', 'Depression', 'Diabetes', 'Dieting', 'Disabilities', 'Drug-Induced Delirium', 'Exercise', 'Gastrointestinal', 'Getting Worse or Not Better', 'Hospital Admission', 'Hospital Readmission', 'Hypertension', 'Kidney Disease', 'Long-Term Care', 'Memory Care', 'Mental Health Questionnaire', 'Obesity/Metabolic', 'Osteoarthritis', 'Pain', 'Prediabetes', 'Quality of Life', 'Semaglutide', 'Sleep', 'Stress'\n",
      "    uns: 'csv_filename'\n",
      "\n",
      "Sample of structured patient data (adata.obs):\n",
      "  Patient Name  Patient Age  Alzheimers  Anxiety  Arthritis  Behavior  \\\n",
      "0      Kathryn           26           0        1        NaN         1   \n",
      "1      Michael           38           0        0        0.0         0   \n",
      "2        Kevin           17           0        1        0.0         0   \n",
      "3        Megan           25           0        1        0.0         1   \n",
      "4        Brian           62           0        0        0.0         0   \n",
      "\n",
      "   Bipolar  Cannabis  Cardio  Chronic Disease  ...  Memory Care  \\\n",
      "0      0.0         1       1                0  ...            0   \n",
      "1      0.0         0       1                0  ...            0   \n",
      "2      0.0         1       0                0  ...            0   \n",
      "3      1.0         1       1                1  ...            0   \n",
      "4      0.0         0       0                1  ...            0   \n",
      "\n",
      "   Mental Health Questionnaire  Obesity/Metabolic  Osteoarthritis  Pain  \\\n",
      "0                            0                  0               0     0   \n",
      "1                            0                  0               0     0   \n",
      "2                            0                  0               0     0   \n",
      "3                            1                  0               0     0   \n",
      "4                            0                  1               1     1   \n",
      "\n",
      "   Prediabetes  Quality of Life  Semaglutide  Sleep  Stress  \n",
      "0            0                0            0      0       0  \n",
      "1            0                1            0      1       0  \n",
      "2            0                0            0      0       0  \n",
      "3            0                1            0      1       1  \n",
      "4            0                1            1      1       1  \n",
      "\n",
      "[5 rows x 33 columns]\n",
      "\n",
      "Sample of unstructured patient reports (adata.X):\n",
      "  Patient Name                                      Doctor's Note\n",
      "0      Kathryn  \\n\\nIntroduction:\\n\\nThis public health report...\n",
      "1      Michael  \\n\\nIntroduction:\\n\\nThis public health report...\n",
      "2        Kevin  \\n\\nIntroduction:\\n\\nI had the opportunity to ...\n",
      "3        Megan  \\n\\nIntroduction:\\n\\nIt is my duty as a doctor...\n",
      "4        Brian  \\n\\nIntroduction: \\nThis public health report ...\n"
     ]
    }
   ],
   "source": [
    "from phi_gen.st_to_unst_module import st_to_unst as sun\n",
    "import pandas as pd\n",
    "\n",
    "patient_csv_file = r\"C:\\Users\\noliv\\Downloads\\structured_data_filled.csv\"\n",
    "\n",
    "print(\"\\n--- Creating AnnData Object from CSV ---\")\n",
    "try:\n",
    "    adata = sun.process_csv_and_create_anndata(\n",
    "        patient_csv_file,\n",
    "        patient_id_columns=[\"Patient Name\"]  # <-- fixed here\n",
    "    )\n",
    "\n",
    "    print(adata)\n",
    "    print(\"\\nSample of structured patient data (adata.obs):\")\n",
    "    print(adata.obs.head())\n",
    "\n",
    "    print(\"\\nSample of unstructured patient reports (adata.X):\")\n",
    "    print(pd.DataFrame(adata.X, columns=[\"Patient Name\", \"Doctor's Note\"]).head())\n",
    "\n",
    "except FileNotFoundError:\n",
    "    print(f\"Error: CSV file not found at {patient_csv_file}\")\n",
    "except Exception as e:\n",
    "    print(f\"An error occurred: {e}\")\n"
   ]
  },
  {
   "cell_type": "code",
   "execution_count": 2,
   "id": "c5c17a2c",
   "metadata": {},
   "outputs": [
    {
     "name": "stderr",
     "output_type": "stream",
     "text": [
      ".........\n",
      "----------------------------------------------------------------------\n",
      "Ran 9 tests in 58.187s\n",
      "\n",
      "OK\n"
     ]
    }
   ],
   "source": [
    "!python -m unittest discover -s tests\n",
    "\n"
   ]
  }
 ],
 "metadata": {
  "kernelspec": {
   "display_name": "venv_ftw_1",
   "language": "python",
   "name": "python3"
  },
  "language_info": {
   "codemirror_mode": {
    "name": "ipython",
    "version": 3
   },
   "file_extension": ".py",
   "mimetype": "text/x-python",
   "name": "python",
   "nbconvert_exporter": "python",
   "pygments_lexer": "ipython3",
   "version": "3.13.2"
  }
 },
 "nbformat": 4,
 "nbformat_minor": 5
}
