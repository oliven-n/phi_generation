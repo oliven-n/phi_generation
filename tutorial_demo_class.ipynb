{
 "cells": [
  {
   "cell_type": "markdown",
   "id": "9c5b45eb",
   "metadata": {},
   "source": [
    "# A Tutorial for the phi_generation Library: Data-Driven Prompting and RAG (Direct Function Calls)"
   ]
  },
  {
   "cell_type": "markdown",
   "id": "7f36d0c3",
   "metadata": {},
   "source": [
    "## Introduction"
   ]
  },
  {
   "cell_type": "markdown",
   "id": "e43bbd52",
   "metadata": {},
   "source": [
    "This tutorial demonstrates the key features of the `phi_generation` library, focusing on data ingestion, preparing data for a Retrieval-Augmented Generation (RAG) pipeline, and querying the RAG database with optional CSV context.\n",
    "\n",
    "The library aims to provide focused and relevant answers from language models by grounding them in specific data."
   ]
  },
  {
   "cell_type": "markdown",
   "id": "64f30748",
   "metadata": {},
   "source": [
    "**Note:** This tutorial assumes you have the `phi_generation` library installed.\n",
    "\n",
    " After making changes to the code, you need to rebuild and reinstall the package.\n",
    " Run the following commands in your `phi_generation` project root:"
   ]
  },
  {
   "cell_type": "code",
   "execution_count": 3,
   "id": "a49c940e",
   "metadata": {
    "vscode": {
     "languageId": "powershell"
    }
   },
   "outputs": [
    {
     "ename": "SyntaxError",
     "evalue": "invalid syntax (2719185373.py, line 1)",
     "output_type": "error",
     "traceback": [
      "  \u001b[36mCell\u001b[39m\u001b[36m \u001b[39m\u001b[32mIn[3]\u001b[39m\u001b[32m, line 1\u001b[39m\n\u001b[31m    \u001b[39m\u001b[31mpython -m build\u001b[39m\n              ^\n\u001b[31mSyntaxError\u001b[39m\u001b[31m:\u001b[39m invalid syntax\n"
     ]
    }
   ],
   "source": [
    "python -m build\n",
    "pip install dist/code_files-0.1.0.tar.gz --upgrade"
   ]
  },
  {
   "cell_type": "markdown",
   "id": "0b5f6db9",
   "metadata": {},
   "source": [
    "## 1. Preparing Data from CSV for RAG"
   ]
  },
  {
   "cell_type": "markdown",
   "id": "7fa6d604",
   "metadata": {},
   "source": [
    "This section demonstrates how to convert structured data in a CSV file into a Markdown format suitable for the RAG database using the `utils` module."
   ]
  },
  {
   "cell_type": "code",
   "execution_count": 1,
   "id": "56686056",
   "metadata": {},
   "outputs": [],
   "source": [
    "import os\n",
    "from code_files import utils as ut\n",
    "\n",
    "# Define the path to your CSV file\n",
    "csv_file_path = r\"C:\\Users\\noliv\\Downloads\\structured_data_filled.csv\"  \n",
    "\n",
    "# Convert the CSV to a Markdown table\n",
    "markdown_table = ut.csv_to_markdown_table(csv_file_path)"
   ]
  },
  {
   "cell_type": "markdown",
   "id": "10085e7a",
   "metadata": {},
   "source": [
    "Some error handling on the above:"
   ]
  },
  {
   "cell_type": "code",
   "execution_count": 2,
   "id": "8a0c6931",
   "metadata": {},
   "outputs": [
    {
     "name": "stdout",
     "output_type": "stream",
     "text": [
      "Successfully converted CSV to Markdown table.\n",
      "\n",
      "--- Markdown Table Preview ---\n",
      "| Patient Name   |   Patient Age |   Alzheimers |   Anxiety |   Arthritis |   Behavior |   Bipolar |   Cannabis |   Cardio |   Chronic Disease |   Depression |   Diabetes |   Dieting |   Disabilities |   Drug-Induced Delirium |   Exercise |   Gastrointestinal |   Getting Worse or Not Better |   Hospital Admission |   Hospital Readmission |   Hypertension |   Kidney Disease |   Long-Term Care |   Memory Care |   Mental Health Questionnaire |   Obesity/Metabolic |   Osteoarthritis |   Pain |   Pre...\n",
      "--- End Preview ---\n",
      "Markdown written to c:\\Users\\noliv\\phi_generation_repo_destination\\phi_generation\\code_files\\..\\code_files/rag_module/data\\from_csv_data.md\n"
     ]
    }
   ],
   "source": [
    "if isinstance(markdown_table, str) and markdown_table.startswith(\"Error\"):\n",
    "    print(markdown_table)\n",
    "else:\n",
    "    print(\"Successfully converted CSV to Markdown table.\")\n",
    "    print(\"\\n--- Markdown Table Preview ---\")\n",
    "    print(markdown_table[:500] + \"...\\n--- End Preview ---\") # Preview a part of the table\n",
    "\n",
    "    # Save the Markdown table to the data directory\n",
    "    save_message = ut.var_markdown_to_data_dir(markdown_table, filename=\"from_csv_data.md\")\n",
    "    print(save_message)\n",
    "\n",
    "    # Copy the generated Markdown file to the RAG data directory\n",
    "    # Assuming your notebook is in the project root\n",
    "    local_md_path = \"code_files/rag_module/data/from_csv_data.md\"\n",
    "    ut.local_markdown_to_data_dir(local_md_path)"
   ]
  },
  {
   "cell_type": "markdown",
   "id": "9a8913f9",
   "metadata": {},
   "source": [
    "## 2. Adding Additional Documents to the Data Directory (Optional)"
   ]
  },
  {
   "cell_type": "markdown",
   "id": "b961faf8",
   "metadata": {},
   "source": [
    "You can add more Markdown files to the 'data' directory, which will be processed by the database creation step."
   ]
  },
  {
   "cell_type": "code",
   "execution_count": 3,
   "id": "f32fade6",
   "metadata": {},
   "outputs": [
    {
     "name": "stdout",
     "output_type": "stream",
     "text": [
      "Added example_document.md to the data directory.\n"
     ]
    }
   ],
   "source": [
    "# Example 1: Adding content directly\n",
    "document_content = \"\"\"\n",
    "# This is an example document\n",
    "\n",
    "This document contains some additional information for the RAG database.\n",
    "\"\"\"\n",
    "ut.var_markdown_to_data_dir(document_content, filename = \"sample_text.md\")\n",
    "print(\"Added example_document.md to the data directory.\")"
   ]
  },
  {
   "cell_type": "code",
   "execution_count": 5,
   "id": "e1246cdf",
   "metadata": {},
   "outputs": [
    {
     "name": "stdout",
     "output_type": "stream",
     "text": [
      "Error: Only files with the '.md' extension can be copied.\n"
     ]
    }
   ],
   "source": [
    "# Example 2: Copying a local Markdown file\n",
    "\n",
    "# You can replace with the path to your local .md file, or add many files in a path at once with this function\n",
    "\n",
    "# This is not an .md so it will throw an error\n",
    "local_file_to_copy = r\"C:\\Users\\noliv\\Downloads\\s41592-022-01728-4.pdf\" \n",
    "copy_result = ut.local_markdown_to_data_dir(local_file_to_copy, \"code_files/data\", enforce_md=True)\n",
    "print(copy_result)"
   ]
  },
  {
   "cell_type": "markdown",
   "id": "948480a6",
   "metadata": {},
   "source": [
    "## 3. Creating the RAG Database"
   ]
  },
  {
   "cell_type": "markdown",
   "id": "91ef6fce",
   "metadata": {},
   "source": [
    "Now that we have our data in the 'data' directory (including the Markdown generated from the CSV and any additional documents), we'll create the Chroma vector database using the `create_database` module."
   ]
  },
  {
   "cell_type": "code",
   "execution_count": 6,
   "id": "1ca7079b",
   "metadata": {},
   "outputs": [
    {
     "name": "stdout",
     "output_type": "stream",
     "text": [
      "--- Generating Data Store ---\n"
     ]
    },
    {
     "name": "stderr",
     "output_type": "stream",
     "text": [
      "libmagic is unavailable but assists in filetype detection. Please consider installing libmagic for better results.\n",
      "libmagic is unavailable but assists in filetype detection. Please consider installing libmagic for better results.\n",
      "libmagic is unavailable but assists in filetype detection. Please consider installing libmagic for better results.\n",
      "libmagic is unavailable but assists in filetype detection. Please consider installing libmagic for better results.\n",
      "libmagic is unavailable but assists in filetype detection. Please consider installing libmagic for better results.\n"
     ]
    },
    {
     "name": "stdout",
     "output_type": "stream",
     "text": [
      "Loaded 5 documents.\n",
      "Split documents into 100 chunks.\n",
      "Error saving to Chroma: [WinError 32] The process cannot access the file because it is being used by another process: 'chroma\\\\daee5f4c-9b22-493e-b188-e19f8df24101\\\\data_level0.bin'\n",
      "--- Data Store Generation Complete ---\n",
      "\n",
      "RAG database generation complete.\n"
     ]
    }
   ],
   "source": [
    "from code_files.rag_module import create_database as crd\n",
    "\n",
    "# Run the database generation process\n",
    "crd.generate_data_store()\n",
    "print(\"\\nRAG database generation complete.\")"
   ]
  },
  {
   "cell_type": "markdown",
   "id": "3fe5138b",
   "metadata": {},
   "source": [
    "## 4. Querying the RAG Database with Optional CSV Context (Direct Function Call)"
   ]
  },
  {
   "cell_type": "markdown",
   "id": "88fb69d0",
   "metadata": {},
   "source": [
    "This section demonstrates querying the RAG database using the `query_rag_with_csv` function from the `query_data` module.\n"
   ]
  },
  {
   "cell_type": "markdown",
   "id": "23f981cb",
   "metadata": {},
   "source": [
    "This is an unhelpful query, and we expect the response to indicate as such."
   ]
  },
  {
   "cell_type": "code",
   "execution_count": 7,
   "id": "4c1c91bd",
   "metadata": {},
   "outputs": [],
   "source": [
    "from code_files.rag_module import query_data as qd\n",
    "\n",
    "# Define the query text\n",
    "query = \"Answer the question based on the information provided.\""
   ]
  },
  {
   "cell_type": "code",
   "execution_count": 8,
   "id": "334dd708",
   "metadata": {},
   "outputs": [
    {
     "name": "stdout",
     "output_type": "stream",
     "text": [
      "\n",
      "--- Querying without CSV Context ---\n"
     ]
    },
    {
     "name": "stderr",
     "output_type": "stream",
     "text": [
      "c:\\Users\\noliv\\phi_generation_repo_destination\\phi_generation\\code_files\\rag_module\\query_data.py:47: LangChainDeprecationWarning: The class `Chroma` was deprecated in LangChain 0.2.9 and will be removed in 1.0. An updated version of the class exists in the :class:`~langchain-chroma package and should be used instead. To use it run `pip install -U :class:`~langchain-chroma` and import as `from :class:`~langchain_chroma import Chroma``.\n",
      "  db = Chroma(persist_directory=CHROMA_PATH, embedding_function=embedding_function)\n",
      "c:\\Users\\noliv\\phi_generation_repo_destination\\phi_generation\\code_files\\rag_module\\query_data.py:60: LangChainDeprecationWarning: The method `BaseChatModel.predict` was deprecated in langchain-core 0.1.7 and will be removed in 1.0. Use :meth:`~invoke` instead.\n",
      "  response_text = model.predict(prompt)\n"
     ]
    },
    {
     "name": "stdout",
     "output_type": "stream",
     "text": [
      "Response: I apologize, but without any specific question or additional information provided, I am unable to answer based solely on the context given. Please provide more details or a specific question so that I can assist you further.\n",
      "Sources: ['C:\\\\Users\\\\noliv\\\\phi_generation_repo_destination\\\\phi_generation\\\\code_files\\\\rag_module\\\\data\\\\connor_soap_therapy.md', 'C:\\\\Users\\\\noliv\\\\phi_generation_repo_destination\\\\phi_generation\\\\code_files\\\\rag_module\\\\data\\\\connor_soap_therapy.md', 'C:\\\\Users\\\\noliv\\\\phi_generation_repo_destination\\\\phi_generation\\\\code_files\\\\rag_module\\\\data\\\\connor_soap_therapy.md']\n"
     ]
    }
   ],
   "source": [
    "# Option A: Query without providing a CSV file\n",
    "print(\"\\n--- Querying without CSV Context ---\")\n",
    "response_no_csv = qd.query_rag_with_csv(query)\n",
    "print(response_no_csv)"
   ]
  },
  {
   "cell_type": "code",
   "execution_count": 10,
   "id": "d5c9f5d6",
   "metadata": {},
   "outputs": [
    {
     "name": "stdout",
     "output_type": "stream",
     "text": [
      "\n",
      "--- Querying with CSV Context ---\n",
      "Response: Subjective:\n",
      "Kathryn is a 26-year-old female patient who presents with symptoms of anxiety and behavioral issues. She denies any history of Alzheimer's disease, arthritis, chronic diseases, depression, diabetes, disabilities, drug-induced delirium, gastrointestinal issues, hospital admissions, hospital readmissions, hypertension, kidney disease, long-term care, memory care, obesity/metabolic disorders, osteoarthritis, pain, prediabetes, quality of life concerns, semaglutide use, sleep disturbances, or stress.\n",
      "\n",
      "Objective:\n",
      "Upon assessment, Kathryn has reported experiencing anxiety and behavioral changes. She has a positive history of anxiety, behavior issues, cannabis use, cardio conditions, and exercise habits. Kathryn denies any history of Alzheimer's disease, arthritis, chronic diseases, depression, diabetes, disabilities, drug-induced delirium, gastrointestinal issues, hospital admissions, hospital readmissions, hypertension, kidney disease, long-term care, memory care, obesity/metabolic disorders, osteoarthritis, pain, prediabetes, quality of life concerns, semaglutide use, sleep disturbances, or stress.\n",
      "\n",
      "Assessment:\n",
      "Kathryn presents with anxiety and behavioral issues, likely related to her current life circumstances. Her overall physical health appears stable, with no significant medical conditions reported.\n",
      "\n",
      "Plan:\n",
      "1. Recommend counseling or therapy for anxiety management.\n",
      "2. Suggest lifestyle modifications to reduce stress and improve overall well-being.\n",
      "3. Follow up in a month to assess any changes in symptoms or concerns.\n",
      "Sources: ['C:\\\\Users\\\\noliv\\\\phi_generation_repo_destination\\\\phi_generation\\\\code_files\\\\rag_module\\\\data\\\\meta_report_apso_soap.md', 'C:\\\\Users\\\\noliv\\\\phi_generation_repo_destination\\\\phi_generation\\\\code_files\\\\rag_module\\\\data\\\\meta_report_apso_soap.md', 'C:\\\\Users\\\\noliv\\\\phi_generation_repo_destination\\\\phi_generation\\\\code_files\\\\rag_module\\\\data\\\\meta_report_apso_soap.md']\n"
     ]
    }
   ],
   "source": [
    "\n",
    "# Option B: Query with a CSV file providing additional context (Direct Function Call)\n",
    "print(\"\\n--- Querying with CSV Context ---\")\n",
    "\n",
    "# Replace below with your CSV path:\n",
    "better_query = \"Create a patient profile for Kathryn in SOAP format using the structured patient data provided for Kathryn in the .csv file attached, as well as style supplements for writing a SOAP note in the database.\"\n",
    "csv_file_for_query = r\"C:\\Users\\noliv\\Downloads\\structured_data_filled.csv\" \n",
    "response_with_csv = qd.query_rag_with_csv(better_query, csv_file_for_query)\n",
    "print(response_with_csv)"
   ]
  },
  {
   "cell_type": "markdown",
   "id": "28537fe9",
   "metadata": {},
   "source": [
    "This looks promising, and it even drew from the style guide without metadata indicating it was a style guide (there are options for this in the functions that add to database), but note that subjective and objective are the same. Future tasks include to adjust context window, try with various temperatures (and observe error propagation), and improve prompting."
   ]
  },
  {
   "cell_type": "markdown",
   "id": "f49a374c",
   "metadata": {},
   "source": [
    "## 5. Comparing Embeddings (Optional : Direct Function Call for Error Handling)"
   ]
  },
  {
   "cell_type": "markdown",
   "id": "c93c678f",
   "metadata": {},
   "source": [
    "The `compare_embeddings` module allows you to query the database directly and see the retrieved documents along with their relevance scores."
   ]
  },
  {
   "cell_type": "code",
   "execution_count": null,
   "id": "185f18e7",
   "metadata": {},
   "outputs": [],
   "source": [
    "from code_files.rag_module import compare_embeddings as ce\n",
    "print(\"\\n--- Comparing Embeddings ---\")\n",
    "query_for_comparison = \"What are some key details?\"\n",
    "embedding_comparison_results = ce.compare_embeddings_query(query_for_comparison)\n",
    "print(embedding_comparison_results)"
   ]
  },
  {
   "cell_type": "markdown",
   "id": "d0633372",
   "metadata": {},
   "source": [
    "## 6. Generating Structured to Unstructured PHI"
   ]
  },
  {
   "cell_type": "markdown",
   "id": "160c72b3",
   "metadata": {},
   "source": [
    "This section uses the `st_to_unst` module to query a vanilla LLM (i.e., without RAG) to create a doctor's record from a .csv file containing structured PHI for one or more patients. For more specific formatting instructions, such as record templates, compare results qualitatively and with the telephone module. "
   ]
  },
  {
   "cell_type": "markdown",
   "id": "0fb24937",
   "metadata": {},
   "source": [
    "This section demonstrates how to use the `st_to_unst` module to:\n",
    "1. Generate patient health records from structured CSV data.\n",
    "2. Create an AnnData object to store both structured and unstructured data.\n",
    "3. Convert the unstructured data to a JSON file."
   ]
  },
  {
   "cell_type": "code",
   "execution_count": 13,
   "id": "0e384b78",
   "metadata": {},
   "outputs": [
    {
     "name": "stdout",
     "output_type": "stream",
     "text": [
      "\n",
      "--- Creating AnnData Object ---\n"
     ]
    },
    {
     "name": "stderr",
     "output_type": "stream",
     "text": [
      "c:\\Users\\noliv\\phi_generation_repo_destination\\phi_generation\\code_files\\st_to_unst_module\\st_to_unst.py:41: LangChainDeprecationWarning: The class `OpenAI` was deprecated in LangChain 0.0.10 and will be removed in 1.0. An updated version of the class exists in the :class:`~langchain-openai package and should be used instead. To use it run `pip install -U :class:`~langchain-openai` and import as `from :class:`~langchain_openai import OpenAI``.\n",
      "  llm = OpenAI(temperature=0.7)  # You can adjust temperature\n",
      "c:\\Users\\noliv\\phi_generation_repo_destination\\phi_generation\\code_files\\st_to_unst_module\\st_to_unst.py:48: LangChainDeprecationWarning: The method `BaseLLM.predict` was deprecated in langchain-core 0.1.7 and will be removed in 1.0. Use :meth:`~invoke` instead.\n",
      "  report = llm.predict(introduction_prompt)\n"
     ]
    },
    {
     "name": "stdout",
     "output_type": "stream",
     "text": [
      "An error occurred: An error occurred during AnnData creation: name 'pd' is not defined\n"
     ]
    }
   ],
   "source": [
    "from code_files.st_to_unst_module import st_to_unst as sun\n",
    "import pandas as pd\n",
    "\n",
    "# Define the path to your patient data CSV file\n",
    "patient_csv_file = r\"C:\\Users\\noliv\\Downloads\\structured_data_filled.csv\" # Replace with the actual path\n",
    "\n",
    "# Example CSV structure (adjust to your actual data)\n",
    "# ```csv\n",
    "# PatientID,Name,Age,Gender,ConditionA,ConditionB,MedicationX,MedicationY\n",
    "# 1,Alice,30,Female,0,1,1,0\n",
    "# 2,Bob,25,Male,1,0,0,1\n",
    "# ```\n",
    "\n",
    "# 1. Generate an AnnData object\n",
    "print(\"\\n--- Creating AnnData Object ---\")\n",
    "try:\n",
    "    adata = sun.create_anndata_from_csv(patient_csv_file, patient_id_columns=[\"PatientID\", \"Name\"])\n",
    "    print(adata)\n",
    "    print(\"\\nSample patient records:\")\n",
    "    print(adata.obs.head())\n",
    "    print(\"\\nSample unstructured data:\")\n",
    "    print(adata.X.head())\n",
    "except FileNotFoundError:\n",
    "    print(f\"Error: CSV file not found at {patient_csv_file}\")\n",
    "except Exception as e:\n",
    "    print(f\"An error occurred: {e}\")"
   ]
  },
  {
   "cell_type": "code",
   "execution_count": 15,
   "id": "0d02008d",
   "metadata": {},
   "outputs": [
    {
     "name": "stdout",
     "output_type": "stream",
     "text": [
      "\n",
      "--- Creating AnnData Object from CSV ---\n",
      "An error occurred: An error occurred during AnnData creation: name 'pd' is not defined\n"
     ]
    }
   ],
   "source": [
    "from code_files.st_to_unst_module import st_to_unst as stu\n",
    "import pandas as pd\n",
    "import anndata as ad\n",
    "import os\n",
    "\n",
    "patient_csv_file = r\"C:\\Users\\noliv\\Downloads\\structured_data_filled.csv\"\n",
    "\n",
    "print(\"\\n--- Creating AnnData Object from CSV ---\")\n",
    "try:\n",
    "    adata = stu.create_anndata_from_csv(patient_csv_file, patient_id_columns=[\"PatientID\", \"Name\"])\n",
    "\n",
    "    # Explore the AnnData object\n",
    "    print(adata)  # Print basic information\n",
    "    print(\"\\nSample of structured patient data (adata.obs):\")\n",
    "    print(adata.obs.head())  # Show the first few rows of the original CSV data\n",
    "    print(\"\\nSample of unstructured patient reports (adata.X):\")\n",
    "    print(adata.X.head())  # Show the patient names and generated reports\n",
    "\n",
    "except FileNotFoundError:\n",
    "    print(f\"Error: CSV file not found at {patient_csv_file}\")\n",
    "except Exception as e:\n",
    "    print(f\"An error occurred: {e}\")"
   ]
  },
  {
   "cell_type": "markdown",
   "id": "ef31c966",
   "metadata": {},
   "source": []
  },
  {
   "cell_type": "markdown",
   "id": "dec43b43",
   "metadata": {},
   "source": [
    "## Conclusion"
   ]
  },
  {
   "cell_type": "markdown",
   "id": "a076364d",
   "metadata": {},
   "source": [
    "This tutorial demonstrated how to use the `phi_generation` library to ingest data from CSV files and local Markdown files, build a RAG database, and query it with the option to include CSV data directly in the prompt. The `utils` module provides helpful functions for data handling, and the direct function calls offer a more integrated experience within the Jupyter Notebook. "
   ]
  }
 ],
 "metadata": {
  "kernelspec": {
   "display_name": "venv_ftw_1",
   "language": "python",
   "name": "python3"
  },
  "language_info": {
   "codemirror_mode": {
    "name": "ipython",
    "version": 3
   },
   "file_extension": ".py",
   "mimetype": "text/x-python",
   "name": "python",
   "nbconvert_exporter": "python",
   "pygments_lexer": "ipython3",
   "version": "3.13.2"
  }
 },
 "nbformat": 4,
 "nbformat_minor": 5
}
